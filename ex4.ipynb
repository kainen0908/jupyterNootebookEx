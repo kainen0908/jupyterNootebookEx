{
 "cells": [
  {
   "cell_type": "code",
   "execution_count": 1,
   "id": "273902a9-cddc-4f06-9e3d-4d5aa04c6ad7",
   "metadata": {},
   "outputs": [],
   "source": [
    "import webbrowser"
   ]
  },
  {
   "cell_type": "code",
   "execution_count": 2,
   "id": "384c93dc-8994-4647-88c3-22b070ed5aa0",
   "metadata": {},
   "outputs": [
    {
     "data": {
      "text/plain": [
       "True"
      ]
     },
     "execution_count": 2,
     "metadata": {},
     "output_type": "execute_result"
    }
   ],
   "source": [
    "url = 'www.naver.com'\n",
    "webbrowser.open(url)"
   ]
  },
  {
   "cell_type": "code",
   "execution_count": 3,
   "id": "30c9ae30-5263-437e-aedb-5fb015d64cf3",
   "metadata": {},
   "outputs": [
    {
     "data": {
      "text/plain": [
       "True"
      ]
     },
     "execution_count": 3,
     "metadata": {},
     "output_type": "execute_result"
    }
   ],
   "source": [
    "naver_search_url = 'http://search.naver.com/search.naver?query='\n",
    "search_word = '파이썬'\n",
    "url = naver_search_url + search_word\n",
    "webbrowser.open(url)"
   ]
  },
  {
   "cell_type": "code",
   "execution_count": 4,
   "id": "739719d6-236b-482c-9fa7-83578d704681",
   "metadata": {},
   "outputs": [
    {
     "data": {
      "text/plain": [
       "True"
      ]
     },
     "execution_count": 4,
     "metadata": {},
     "output_type": "execute_result"
    }
   ],
   "source": [
    "google_url = 'www.google.com/search?q='\n",
    "search_word = 'python'\n",
    "url = google_url + search_word\n",
    "\n",
    "webbrowser.open_new(url)"
   ]
  },
  {
   "cell_type": "code",
   "execution_count": 5,
   "id": "019aaaf8-bf98-43c6-a84a-441877734a74",
   "metadata": {},
   "outputs": [],
   "source": [
    "urls = ['www.naver.com', 'www.daum.net', 'www.google.com']\n",
    "for url in urls:\n",
    "    webbrowser.open_new(url)"
   ]
  },
  {
   "cell_type": "code",
   "execution_count": 6,
   "id": "783328e8-34ac-4e5e-8cf3-b247a52204f9",
   "metadata": {},
   "outputs": [],
   "source": [
    "google_url = 'www.google.com/search?q='\n",
    "search_words = ['python web scraping', 'python webbrowser']\n",
    "for search_word in search_words:\n",
    "    webbrowser.open_new(google_url + search_word)"
   ]
  },
  {
   "cell_type": "code",
   "execution_count": 7,
   "id": "4f6e6bcd-bef8-4489-ba5c-aa657f2b4a4c",
   "metadata": {},
   "outputs": [
    {
     "name": "stdout",
     "output_type": "stream",
     "text": [
      "Overwriting C:\\Users\\bbong\\Desktop\\ex\\machin\\HTML_example.html\n"
     ]
    }
   ],
   "source": [
    "%%writefile C:\\Users\\bbong\\Desktop\\ex\\machin\\HTML_example.html \n",
    "<!doctype html>\n",
    "<html>\n",
    " <head>\n",
    "  <meta charset=\"utf-8\">\n",
    "  <title>이것은 HTML 예제</title>\n",
    " </head>\n",
    " <body>\n",
    "  <h1>출간된 책 정보</h1>\n",
    "  <p id=\"book_title\">이해가 쏙쏙 되는 파이썬</p>\n",
    "  <p id=\"author\">홍길동</p>\n",
    "  <p id=\"publisher\">위키북스 출판사</p>\n",
    "  <p id=\"year\">2018</p>\n",
    " </body>\n",
    "</html>"
   ]
  },
  {
   "cell_type": "code",
   "execution_count": 8,
   "id": "058800fc-14f3-4b07-a1be-a2fd6caf14f4",
   "metadata": {},
   "outputs": [],
   "source": [
    "import requests\n",
    "r = requests.get('https://www.google.co.kr')"
   ]
  },
  {
   "cell_type": "code",
   "execution_count": 9,
   "id": "73ace04b-b159-4b54-96f1-6a28aa109061",
   "metadata": {},
   "outputs": [
    {
     "data": {
      "text/plain": [
       "'<!doctype html><html itemscope=\"\" itemtype=\"http://schema.org/WebPage\" lang=\"ko\"><head><meta content'"
      ]
     },
     "execution_count": 9,
     "metadata": {},
     "output_type": "execute_result"
    }
   ],
   "source": [
    "html = requests.get('https://www.google.co.kr').text\n",
    "r.text[0:100]"
   ]
  },
  {
   "cell_type": "code",
   "execution_count": 10,
   "id": "68bc2a54-1d17-4565-944e-1ef3ecbf0423",
   "metadata": {},
   "outputs": [
    {
     "data": {
      "text/plain": [
       "'<!doctype html><html itemscope=\"\" itemtype=\"http://schema.org/WebPage\" lang=\"ko\"><head><meta content'"
      ]
     },
     "execution_count": 10,
     "metadata": {},
     "output_type": "execute_result"
    }
   ],
   "source": [
    "html = requests.get('https://www.google.co.kr').text\n",
    "html[0:100]"
   ]
  },
  {
   "cell_type": "code",
   "execution_count": 12,
   "id": "5293dc22-c76d-4158-880f-93e4e7bb360b",
   "metadata": {},
   "outputs": [
    {
     "data": {
      "text/plain": [
       "<html><body><div><span> <a href=\"http://www.naver.com\">naver</a> <a href=\"https://www.google.com\">google</a> <a href=\"http://www.daum.net\">daum</a> </span></div></body></html>"
      ]
     },
     "execution_count": 12,
     "metadata": {},
     "output_type": "execute_result"
    }
   ],
   "source": [
    "from bs4 import BeautifulSoup\n",
    "html = \"\"\"<html><body><div><span>\\\n",
    "          <a href=http://www.naver.com>naver</a>\\\n",
    "          <a href=https://www.google.com>google</a>\\\n",
    "          <a href=http://www.daum.net>daum</a>\\\n",
    "          </span></div></body></html>\"\"\"\n",
    "soup = BeautifulSoup(html, 'lxml') # lxml은 HTml 소스를 처리하기 위한 파서\n",
    "soup"
   ]
  },
  {
   "cell_type": "code",
   "execution_count": 13,
   "id": "68fce5aa-3325-4608-8946-257aac201c12",
   "metadata": {},
   "outputs": [
    {
     "name": "stdout",
     "output_type": "stream",
     "text": [
      "<html>\n",
      " <body>\n",
      "  <div>\n",
      "   <span>\n",
      "    <a href=\"http://www.naver.com\">\n",
      "     naver\n",
      "    </a>\n",
      "    <a href=\"https://www.google.com\">\n",
      "     google\n",
      "    </a>\n",
      "    <a href=\"http://www.daum.net\">\n",
      "     daum\n",
      "    </a>\n",
      "   </span>\n",
      "  </div>\n",
      " </body>\n",
      "</html>\n",
      "\n"
     ]
    }
   ],
   "source": [
    "print(soup.prettify())"
   ]
  },
  {
   "cell_type": "code",
   "execution_count": 15,
   "id": "620661c1-338a-4f43-a146-446bd998ff2a",
   "metadata": {},
   "outputs": [
    {
     "data": {
      "text/plain": [
       "<a href=\"http://www.naver.com\">naver</a>"
      ]
     },
     "execution_count": 15,
     "metadata": {},
     "output_type": "execute_result"
    }
   ],
   "source": [
    "soup.find('a')"
   ]
  },
  {
   "cell_type": "code",
   "execution_count": 17,
   "id": "4f41768f-5acb-47d9-8b32-fceab941099b",
   "metadata": {},
   "outputs": [
    {
     "data": {
      "text/plain": [
       "'naver'"
      ]
     },
     "execution_count": 17,
     "metadata": {},
     "output_type": "execute_result"
    }
   ],
   "source": [
    "soup.find('a').get_text()"
   ]
  },
  {
   "cell_type": "code",
   "execution_count": 18,
   "id": "4c371296-8954-4f10-96a0-dcb6ef960a94",
   "metadata": {},
   "outputs": [
    {
     "data": {
      "text/plain": [
       "[<a href=\"http://www.naver.com\">naver</a>,\n",
       " <a href=\"https://www.google.com\">google</a>,\n",
       " <a href=\"http://www.daum.net\">daum</a>]"
      ]
     },
     "execution_count": 18,
     "metadata": {},
     "output_type": "execute_result"
    }
   ],
   "source": [
    "soup.find_all('a')"
   ]
  },
  {
   "cell_type": "code",
   "execution_count": 20,
   "id": "7e57f788-f4e3-4ef1-a94e-17138df70e24",
   "metadata": {},
   "outputs": [
    {
     "name": "stdout",
     "output_type": "stream",
     "text": [
      "naver\n",
      "google\n",
      "daum\n"
     ]
    }
   ],
   "source": [
    "site_names = soup.find_all('a')\n",
    "for site_name in site_names:\n",
    "    print(site_name.get_text())"
   ]
  },
  {
   "cell_type": "code",
   "execution_count": 21,
   "id": "8bccb9ab-2f21-4faa-9ee1-412b23e62291",
   "metadata": {},
   "outputs": [],
   "source": [
    "html2 = \"\"\"\n",
    "<html>\n",
    " <head>\n",
    "  <title>작품과 작가 모음</title>\n",
    " </head>\n",
    " <body>\n",
    "  <h1>책 정보</h1>\n",
    "  <p id=\"book_title\">토지</p>\n",
    "  <p id=\"author\">박경리</p>\n",
    "  \n",
    "  <p id=\"book_title\">태백산맥</p>\n",
    "  <p id=\"author\">조정래</p>\n",
    "\n",
    "  <p id=\"book_title\">감옥으로부터의 사색</p>\n",
    "  <p id=\"author\">신영복</p>\n",
    " </body>\n",
    "</html>\n",
    "\"\"\" \n",
    "soup2 = BeautifulSoup(html2, 'lxml')"
   ]
  },
  {
   "cell_type": "code",
   "execution_count": 22,
   "id": "f3e10ba0-a028-40b5-9016-d21bd8727526",
   "metadata": {},
   "outputs": [
    {
     "data": {
      "text/plain": [
       "<title>작품과 작가 모음</title>"
      ]
     },
     "execution_count": 22,
     "metadata": {},
     "output_type": "execute_result"
    }
   ],
   "source": [
    "soup2.title"
   ]
  },
  {
   "cell_type": "code",
   "execution_count": 23,
   "id": "0311945b-c93e-4121-819b-7fe8207090ff",
   "metadata": {},
   "outputs": [
    {
     "data": {
      "text/plain": [
       "<body>\n",
       "<h1>책 정보</h1>\n",
       "<p id=\"book_title\">토지</p>\n",
       "<p id=\"author\">박경리</p>\n",
       "<p id=\"book_title\">태백산맥</p>\n",
       "<p id=\"author\">조정래</p>\n",
       "<p id=\"book_title\">감옥으로부터의 사색</p>\n",
       "<p id=\"author\">신영복</p>\n",
       "</body>"
      ]
     },
     "execution_count": 23,
     "metadata": {},
     "output_type": "execute_result"
    }
   ],
   "source": [
    "soup2.body"
   ]
  },
  {
   "cell_type": "code",
   "execution_count": 24,
   "id": "75773353-293e-4267-9350-73ec1e8643f3",
   "metadata": {},
   "outputs": [
    {
     "data": {
      "text/plain": [
       "<h1>책 정보</h1>"
      ]
     },
     "execution_count": 24,
     "metadata": {},
     "output_type": "execute_result"
    }
   ],
   "source": [
    "soup2.body.h1"
   ]
  },
  {
   "cell_type": "code",
   "execution_count": 25,
   "id": "a3431747-074b-420c-9d4b-f2447b8259ca",
   "metadata": {},
   "outputs": [
    {
     "data": {
      "text/plain": [
       "[<p id=\"book_title\">토지</p>,\n",
       " <p id=\"author\">박경리</p>,\n",
       " <p id=\"book_title\">태백산맥</p>,\n",
       " <p id=\"author\">조정래</p>,\n",
       " <p id=\"book_title\">감옥으로부터의 사색</p>,\n",
       " <p id=\"author\">신영복</p>]"
      ]
     },
     "execution_count": 25,
     "metadata": {},
     "output_type": "execute_result"
    }
   ],
   "source": [
    "soup2.find_all('p')"
   ]
  },
  {
   "cell_type": "code",
   "execution_count": 26,
   "id": "9b17d08c-b292-46c2-a72e-6946e619d71d",
   "metadata": {},
   "outputs": [
    {
     "data": {
      "text/plain": [
       "<p id=\"book_title\">토지</p>"
      ]
     },
     "execution_count": 26,
     "metadata": {},
     "output_type": "execute_result"
    }
   ],
   "source": [
    "soup2.find('p', {'id':'book_title'})"
   ]
  },
  {
   "cell_type": "code",
   "execution_count": 27,
   "id": "60249be2-70ba-4b03-adb3-0cb2c10ba3ba",
   "metadata": {},
   "outputs": [
    {
     "data": {
      "text/plain": [
       "[<p id=\"book_title\">토지</p>,\n",
       " <p id=\"book_title\">태백산맥</p>,\n",
       " <p id=\"book_title\">감옥으로부터의 사색</p>]"
      ]
     },
     "execution_count": 27,
     "metadata": {},
     "output_type": "execute_result"
    }
   ],
   "source": [
    "soup2.find_all('p', {'id':'book_title'})"
   ]
  },
  {
   "cell_type": "code",
   "execution_count": 29,
   "id": "d16867d9-6337-4f2a-a778-6a6add39c956",
   "metadata": {},
   "outputs": [
    {
     "data": {
      "text/plain": [
       "[<p id=\"author\">박경리</p>, <p id=\"author\">조정래</p>, <p id=\"author\">신영복</p>]"
      ]
     },
     "execution_count": 29,
     "metadata": {},
     "output_type": "execute_result"
    }
   ],
   "source": [
    "soup2.find_all('p', {'id':'author'})"
   ]
  },
  {
   "cell_type": "code",
   "execution_count": 30,
   "id": "c1eeb301-162f-4c15-97e5-c1c648ec585a",
   "metadata": {},
   "outputs": [
    {
     "name": "stdout",
     "output_type": "stream",
     "text": [
      "토지/박경리\n",
      "태백산맥/조정래\n",
      "감옥으로부터의 사색/신영복\n"
     ]
    }
   ],
   "source": [
    "book_titles = soup2.find_all('p', {'id':'book_title'})\n",
    "authors = soup2.find_all('p', {'id':'author'})\n",
    "\n",
    "for book_title, author in zip(book_titles, authors):\n",
    "    print(book_title.get_text() + '/' + author.get_text())"
   ]
  },
  {
   "cell_type": "code",
   "execution_count": 31,
   "id": "3d211be8-a418-4b5b-9181-e9ea6d85d722",
   "metadata": {},
   "outputs": [
    {
     "data": {
      "text/plain": [
       "[<h1>책 정보</h1>]"
      ]
     },
     "execution_count": 31,
     "metadata": {},
     "output_type": "execute_result"
    }
   ],
   "source": [
    "soup2.select('body h1')"
   ]
  },
  {
   "cell_type": "code",
   "execution_count": 32,
   "id": "ca25f905-3222-46d7-b5a8-4d44fe8ee2da",
   "metadata": {},
   "outputs": [
    {
     "data": {
      "text/plain": [
       "[<p id=\"book_title\">토지</p>,\n",
       " <p id=\"author\">박경리</p>,\n",
       " <p id=\"book_title\">태백산맥</p>,\n",
       " <p id=\"author\">조정래</p>,\n",
       " <p id=\"book_title\">감옥으로부터의 사색</p>,\n",
       " <p id=\"author\">신영복</p>]"
      ]
     },
     "execution_count": 32,
     "metadata": {},
     "output_type": "execute_result"
    }
   ],
   "source": [
    "soup2.select('body p')"
   ]
  },
  {
   "cell_type": "code",
   "execution_count": 33,
   "id": "04974ca8-9de3-4bac-9382-f5d60942a272",
   "metadata": {},
   "outputs": [
    {
     "data": {
      "text/plain": [
       "[<p id=\"book_title\">토지</p>,\n",
       " <p id=\"author\">박경리</p>,\n",
       " <p id=\"book_title\">태백산맥</p>,\n",
       " <p id=\"author\">조정래</p>,\n",
       " <p id=\"book_title\">감옥으로부터의 사색</p>,\n",
       " <p id=\"author\">신영복</p>]"
      ]
     },
     "execution_count": 33,
     "metadata": {},
     "output_type": "execute_result"
    }
   ],
   "source": [
    "soup2.select('p')"
   ]
  },
  {
   "cell_type": "code",
   "execution_count": 34,
   "id": "308f6db2-fa19-4073-a1aa-077c7b8e0615",
   "metadata": {},
   "outputs": [
    {
     "data": {
      "text/plain": [
       "[<p id=\"book_title\">토지</p>,\n",
       " <p id=\"book_title\">태백산맥</p>,\n",
       " <p id=\"book_title\">감옥으로부터의 사색</p>]"
      ]
     },
     "execution_count": 34,
     "metadata": {},
     "output_type": "execute_result"
    }
   ],
   "source": [
    "soup2.select('p#book_title')"
   ]
  },
  {
   "cell_type": "code",
   "execution_count": 35,
   "id": "4ff7997f-963a-40d1-a1e2-a0c05e5be886",
   "metadata": {},
   "outputs": [
    {
     "data": {
      "text/plain": [
       "[<p id=\"author\">박경리</p>, <p id=\"author\">조정래</p>, <p id=\"author\">신영복</p>]"
      ]
     },
     "execution_count": 35,
     "metadata": {},
     "output_type": "execute_result"
    }
   ],
   "source": [
    "soup2.select('p#author')"
   ]
  },
  {
   "cell_type": "code",
   "execution_count": 36,
   "id": "5c62d9b9-357d-4470-bf66-e21827456641",
   "metadata": {},
   "outputs": [
    {
     "name": "stdout",
     "output_type": "stream",
     "text": [
      "Writing C:\\Users\\bbong\\Desktop\\ex\\machin\\HTML_example_my_site.html\n"
     ]
    }
   ],
   "source": [
    "%%writefile C:\\Users\\bbong\\Desktop\\ex\\machin\\HTML_example_my_site.html \n",
    "<!doctype html>\n",
    "<html>\n",
    "  <head>\n",
    "    <meta charset=\"utf-8\">\n",
    "    <title>사이트 모음</title>\n",
    "  </head>\n",
    "  <body>\n",
    "    <p id=\"title\"><b>자주 가는 사이트 모음</b></p>\n",
    "    <p id=\"contents\">이곳은 자주 가는 사이트를 모아둔 곳입니다.</p>\n",
    "    <a href=\"http://www.naver.com\" class=\"portal\" id=\"naver\">네이버</a> <br>\n",
    "    <a href=\"https://www.google.com\" class=\"search\" id=\"google\">구글</a> <br>\n",
    "    <a href=\"http://www.daum.net\" class=\"portal\" id=\"daum\">다음</a> <br>\n",
    "    <a href=\"http://www.nl.go.kr\" class=\"government\" id=\"nl\">국립중앙도서관</a>\n",
    "  </body>\n",
    "</html>"
   ]
  },
  {
   "cell_type": "code",
   "execution_count": 37,
   "id": "49dbe27d-4ba3-4855-9d54-b3e30be8a82b",
   "metadata": {},
   "outputs": [],
   "source": [
    "f = open('C:/Users/bbong/Desktop/ex/machin/HTML_example_my_site.html', encoding='utf-8')\n",
    "html3 = f.read()\n",
    "f.close()\n",
    "soup3 = BeautifulSoup(html3, 'lxml')"
   ]
  },
  {
   "cell_type": "code",
   "execution_count": 38,
   "id": "2f2496ac-50ef-405b-8ae1-ff6e7ebc2226",
   "metadata": {},
   "outputs": [
    {
     "data": {
      "text/plain": [
       "[<a class=\"portal\" href=\"http://www.naver.com\" id=\"naver\">네이버</a>,\n",
       " <a class=\"search\" href=\"https://www.google.com\" id=\"google\">구글</a>,\n",
       " <a class=\"portal\" href=\"http://www.daum.net\" id=\"daum\">다음</a>,\n",
       " <a class=\"government\" href=\"http://www.nl.go.kr\" id=\"nl\">국립중앙도서관</a>]"
      ]
     },
     "execution_count": 38,
     "metadata": {},
     "output_type": "execute_result"
    }
   ],
   "source": [
    "soup3.select('a')"
   ]
  },
  {
   "cell_type": "code",
   "execution_count": 39,
   "id": "49a820dc-e105-41bd-8cf3-a34815746faa",
   "metadata": {},
   "outputs": [
    {
     "data": {
      "text/plain": [
       "[<a class=\"portal\" href=\"http://www.naver.com\" id=\"naver\">네이버</a>,\n",
       " <a class=\"portal\" href=\"http://www.daum.net\" id=\"daum\">다음</a>]"
      ]
     },
     "execution_count": 39,
     "metadata": {},
     "output_type": "execute_result"
    }
   ],
   "source": [
    "soup3.select('a.portal')"
   ]
  },
  {
   "cell_type": "code",
   "execution_count": 40,
   "id": "3cf085d7-d2b3-480b-8123-afa1211c5f01",
   "metadata": {},
   "outputs": [
    {
     "data": {
      "text/plain": [
       "[<a class=\"portal\" href=\"http://www.naver.com\" id=\"naver\">네이버</a>]"
      ]
     },
     "execution_count": 40,
     "metadata": {},
     "output_type": "execute_result"
    }
   ],
   "source": [
    "soup3.select('a#naver')"
   ]
  },
  {
   "cell_type": "code",
   "execution_count": 41,
   "id": "051c70ee-66b1-4620-bd06-74983d800c95",
   "metadata": {},
   "outputs": [
    {
     "name": "stdout",
     "output_type": "stream",
     "text": [
      "Writing C:\\Users\\bbong\\Desktop\\ex\\machin\\br_example_constitution.html\n"
     ]
    }
   ],
   "source": [
    "%%writefile C:\\Users\\bbong\\Desktop\\ex\\machin\\br_example_constitution.html\n",
    "<!doctype html>\n",
    "<html>\n",
    "  <head>\n",
    "    <meta charset=\"utf-8\">\n",
    "    <title>줄 바꿈 테스트 예제</title>\n",
    "  </head>\n",
    "  <body>\n",
    "  <p id=\"title\"><b>대한민국헌법</b></p>\n",
    "  <p id=\"content\">제1조 <br/>①대한민국은 민주공화국이다.<br/>②대한민국의 주권은 국민에게 있고, 모든 권력은 국민으로부터 나온다.</p>\n",
    "  <p id=\"content\">제2조 <br/>①대한민국의 국민이 되는 요건은 법률로 정한다.<br/>②국가는 법률이 정하는 바에 의하여 재외국민을 보호할 의무를 진다.</p>\n",
    "  </body>\n",
    "</html>"
   ]
  },
  {
   "cell_type": "code",
   "execution_count": 46,
   "id": "a21a5bb0-9afd-4380-bc9a-6eb828434c7f",
   "metadata": {},
   "outputs": [
    {
     "name": "stdout",
     "output_type": "stream",
     "text": [
      "대한민국헌법\n",
      "제1조 ①대한민국은 민주공화국이다.②대한민국의 주권은 국민에게 있고, 모든 권력은 국민으로부터 나온다.\n",
      "제2조 ①대한민국의 국민이 되는 요건은 법률로 정한다.②국가는 법률이 정하는 바에 의하여 재외국민을 보호할 의무를 진다.\n"
     ]
    }
   ],
   "source": [
    "f = open('C:/Users/bbong/Desktop/ex/machin/br_example_constitution.html', encoding='utf-8')\n",
    "html_source = f.read()\n",
    "f.close()\n",
    "soup = BeautifulSoup(html_source, 'lxml')\n",
    "title = soup.find('p', {'id':'title'})\n",
    "contents = soup.find_all('p', {'id':'content'})\n",
    "\n",
    "print(title.get_text())\n",
    "\n",
    "for content in contents:\n",
    "    print(content.get_text())"
   ]
  },
  {
   "cell_type": "code",
   "execution_count": 48,
   "id": "5512387e-3d2a-444b-8c89-d9d2e59ab43b",
   "metadata": {},
   "outputs": [
    {
     "name": "stdout",
     "output_type": "stream",
     "text": [
      "대한민국헌법 \n",
      "\n",
      "제1조 \n",
      "①대한민국은 민주공화국이다.\n",
      "②대한민국의 주권은 국민에게 있고, 모든 권력은 국민으로부터 나온다. \n",
      "\n",
      "제2조 \n",
      "①대한민국의 국민이 되는 요건은 법률로 정한다.\n",
      "②국가는 법률이 정하는 바에 의하여 재외국민을 보호할 의무를 진다. \n",
      "\n"
     ]
    }
   ],
   "source": [
    "def replace_newline(soup_html):\n",
    "    br_to_newlines = soup_html.find_all('br')\n",
    "    for br_to_newline in br_to_newlines:\n",
    "        br_to_newline.replace_with('\\n')\n",
    "    return soup_html\n",
    "\n",
    "print(title.get_text(), '\\n')\n",
    "for content in contents:\n",
    "    content1 = replace_newline(content)\n",
    "    print(content1.get_text(), '\\n')"
   ]
  },
  {
   "cell_type": "code",
   "execution_count": 50,
   "id": "62a39803-b9af-4c78-a2f1-2d9e82d38eb5",
   "metadata": {},
   "outputs": [
    {
     "data": {
      "text/plain": [
       "[<a adultcheckval=\"1\" aria-label=\"새창\" href=\"javascript:;\" onclick=\"bugs.wiselog.area('list_tr_09_chart');bugs.music.listen('6213264',true);\n",
       " \" title=\"Love Lee\">Love Lee</a>,\n",
       " <a adultcheckval=\"1\" aria-label=\"새창\" href=\"javascript:;\" onclick=\"bugs.wiselog.area('list_tr_09_chart');bugs.music.listen('6213292',true);\n",
       " \" title=\"Get A Guitar\">Get A Guitar</a>,\n",
       " <a adultcheckval=\"1\" aria-label=\"새창\" href=\"javascript:;\" onclick=\"bugs.wiselog.area('list_tr_09_chart');bugs.music.listen('6213265',true);\n",
       " \" title=\"후라이의 꿈\">후라이의 꿈</a>,\n",
       " <a adultcheckval=\"1\" aria-label=\"새창\" href=\"javascript:;\" onclick=\"bugs.wiselog.area('list_tr_09_chart');bugs.music.listen('6216911',true);\n",
       " \" title=\"Either Way\">Either Way</a>,\n",
       " <a adultcheckval=\"1\" aria-label=\"새창\" href=\"javascript:;\" onclick=\"bugs.wiselog.area('list_tr_09_chart');bugs.music.listen('6214823',true);\n",
       " \" title=\"Smoke (Prod. Dynamicduo, Padi)\">Smoke (Prod. Dynamicduo, Padi)</a>,\n",
       " <a adultcheckval=\"1\" aria-label=\"새창\" href=\"javascript:;\" onclick=\"bugs.wiselog.area('list_tr_09_chart');bugs.music.listen('6208880',true);\n",
       " \" title=\"ETA\">ETA</a>,\n",
       " <a adultcheckval=\"1\" aria-label=\"새창\" href=\"javascript:;\" onclick=\"bugs.wiselog.area('list_tr_09_chart');bugs.music.listen('6211874',true);\n",
       " \" title=\"Fast Forward\">Fast Forward</a>,\n",
       " <a adultcheckval=\"1\" aria-label=\"새창\" href=\"javascript:;\" onclick=\"bugs.wiselog.area('list_tr_09_chart');bugs.music.listen('6206291',true);\n",
       " \" title=\"Super Shy\">Super Shy</a>,\n",
       " <a adultcheckval=\"1\" aria-label=\"새창\" href=\"javascript:;\" onclick=\"bugs.wiselog.area('list_tr_09_chart');bugs.music.listen('6207490',true);\n",
       " \" title=\"Seven (feat. Latto) - Clean Ver.\">Seven (feat. Latto) - Clean Ver.</a>,\n",
       " <a adultcheckval=\"1\" aria-label=\"새창\" href=\"javascript:;\" onclick=\"bugs.wiselog.area('list_tr_09_chart');bugs.music.listen('6217615',true);\n",
       " \" title=\"Fact Check (불가사의; 不可思議)\">Fact Check (불가사의; 不可思議)</a>]"
      ]
     },
     "execution_count": 50,
     "metadata": {},
     "output_type": "execute_result"
    }
   ],
   "source": [
    "url = 'https://music.bugs.co.kr/chart/track/week/total?chartdate=20231008'\n",
    "html_music = requests.get(url).text\n",
    "soup_music = BeautifulSoup(html_music, 'lxml')\n",
    "titles = soup_music.select('p.title a')\n",
    "titles[0:10]"
   ]
  },
  {
   "cell_type": "code",
   "execution_count": 51,
   "id": "dd2e3a07-7648-489c-8169-37c6ecb527e8",
   "metadata": {},
   "outputs": [
    {
     "data": {
      "text/plain": [
       "['Love Lee',\n",
       " 'Get A Guitar',\n",
       " '후라이의 꿈',\n",
       " 'Either Way',\n",
       " 'Smoke (Prod. Dynamicduo, Padi)',\n",
       " 'ETA',\n",
       " 'Fast Forward',\n",
       " 'Super Shy',\n",
       " 'Seven (feat. Latto) - Clean Ver.',\n",
       " 'Fact Check (불가사의; 不可思議)']"
      ]
     },
     "execution_count": 51,
     "metadata": {},
     "output_type": "execute_result"
    }
   ],
   "source": [
    "music_titles = [title.get_text() for title in titles]\n",
    "music_titles[0:10]"
   ]
  },
  {
   "cell_type": "code",
   "execution_count": 52,
   "id": "1f96445d-78ae-4d30-a6cd-33349fd6bc8c",
   "metadata": {},
   "outputs": [
    {
     "data": {
      "text/plain": [
       "[<a href=\"https://music.bugs.co.kr/artist/80141499?wl_ref=list_tr_10_chart\" onclick=\"\n",
       " \" title=\"AKMU(악뮤)\">AKMU(악뮤)</a>,\n",
       " <a href=\"https://music.bugs.co.kr/artist/80384286?wl_ref=list_tr_10_chart\" onclick=\"\n",
       " \" title=\"RIIZE\">RIIZE</a>,\n",
       " <a href=\"https://music.bugs.co.kr/artist/80141499?wl_ref=list_tr_10_chart\" onclick=\"\n",
       " \" title=\"AKMU(악뮤)\">AKMU(악뮤)</a>,\n",
       " <a href=\"https://music.bugs.co.kr/artist/20148657?wl_ref=list_tr_10_chart\" onclick=\"\n",
       " \" title=\"IVE (아이브)\">IVE (아이브)</a>,\n",
       " <a class=\"artistTitle\" href=\"https://music.bugs.co.kr/artist/65291?wl_ref=list_tr_10_chart\" title=\"다이나믹 듀오\">다이나믹 듀오</a>,\n",
       " <a class=\"more\" href=\"javascript:void(0);\" name=\"atag_martist_list\" onclick=\"bugs.layermenu.openMultiArtistSearchResultPopLayer(this, '다이나믹 듀오||다이나믹 듀오||65291||OK\\\\n이영지||이영지||20079471||OK', ''); return false;\" title=\"아티스트 전체보기\" wise_log_str=\"?wl_ref=list_tr_10_chart\">\n",
       " 다이나믹 듀오\n",
       " </a>,\n",
       " <a href=\"https://music.bugs.co.kr/artist/20164333?wl_ref=list_tr_10_chart\" onclick=\"\n",
       " \" title=\"NewJeans\">NewJeans</a>,\n",
       " <a href=\"https://music.bugs.co.kr/artist/80259077?wl_ref=list_tr_10_chart\" onclick=\"\n",
       " \" title=\"전소미\">전소미</a>,\n",
       " <a href=\"https://music.bugs.co.kr/artist/20164333?wl_ref=list_tr_10_chart\" onclick=\"\n",
       " \" title=\"NewJeans\">NewJeans</a>,\n",
       " <a href=\"https://music.bugs.co.kr/artist/80180889?wl_ref=list_tr_10_chart\" onclick=\"\n",
       " \" title=\"정국\">정국</a>]"
      ]
     },
     "execution_count": 52,
     "metadata": {},
     "output_type": "execute_result"
    }
   ],
   "source": [
    "artists = soup_music.select('p.artist a')\n",
    "artists[0:10]"
   ]
  },
  {
   "cell_type": "code",
   "execution_count": 53,
   "id": "c6db3c28-1d78-4842-a5dd-ec1927d7d8bd",
   "metadata": {},
   "outputs": [
    {
     "data": {
      "text/plain": [
       "[<a href=\"https://music.bugs.co.kr/artist/80141499?wl_ref=list_tr_10_chart\" onclick=\"\n",
       " \" title=\"AKMU(악뮤)\">AKMU(악뮤)</a>,\n",
       " <a href=\"https://music.bugs.co.kr/artist/80384286?wl_ref=list_tr_10_chart\" onclick=\"\n",
       " \" title=\"RIIZE\">RIIZE</a>,\n",
       " <a href=\"https://music.bugs.co.kr/artist/80141499?wl_ref=list_tr_10_chart\" onclick=\"\n",
       " \" title=\"AKMU(악뮤)\">AKMU(악뮤)</a>,\n",
       " <a href=\"https://music.bugs.co.kr/artist/20148657?wl_ref=list_tr_10_chart\" onclick=\"\n",
       " \" title=\"IVE (아이브)\">IVE (아이브)</a>,\n",
       " <a class=\"artistTitle\" href=\"https://music.bugs.co.kr/artist/65291?wl_ref=list_tr_10_chart\" title=\"다이나믹 듀오\">다이나믹 듀오</a>,\n",
       " <a href=\"https://music.bugs.co.kr/artist/20164333?wl_ref=list_tr_10_chart\" onclick=\"\n",
       " \" title=\"NewJeans\">NewJeans</a>,\n",
       " <a href=\"https://music.bugs.co.kr/artist/80259077?wl_ref=list_tr_10_chart\" onclick=\"\n",
       " \" title=\"전소미\">전소미</a>,\n",
       " <a href=\"https://music.bugs.co.kr/artist/20164333?wl_ref=list_tr_10_chart\" onclick=\"\n",
       " \" title=\"NewJeans\">NewJeans</a>,\n",
       " <a href=\"https://music.bugs.co.kr/artist/80180889?wl_ref=list_tr_10_chart\" onclick=\"\n",
       " \" title=\"정국\">정국</a>,\n",
       " <a href=\"https://music.bugs.co.kr/artist/80263956?wl_ref=list_tr_10_chart\" onclick=\"\n",
       " \" title=\"NCT 127\">NCT 127</a>]"
      ]
     },
     "execution_count": 53,
     "metadata": {},
     "output_type": "execute_result"
    }
   ],
   "source": [
    "artists = soup_music.select('p.artist a:not(.more)')\n",
    "artists[0:10]"
   ]
  },
  {
   "cell_type": "code",
   "execution_count": 54,
   "id": "3f725dac-9a12-4209-9860-be774331a595",
   "metadata": {},
   "outputs": [],
   "source": [
    "music_artists = [artist.get_text() for artist in artists]"
   ]
  },
  {
   "cell_type": "code",
   "execution_count": 55,
   "id": "ca2f9ad8-3d00-47dd-b8d3-9ceecb821c90",
   "metadata": {},
   "outputs": [
    {
     "data": {
      "text/plain": [
       "['AKMU(악뮤)',\n",
       " 'RIIZE',\n",
       " 'AKMU(악뮤)',\n",
       " 'IVE (아이브)',\n",
       " '다이나믹 듀오',\n",
       " 'NewJeans',\n",
       " '전소미',\n",
       " 'NewJeans',\n",
       " '정국',\n",
       " 'NCT 127']"
      ]
     },
     "execution_count": 55,
     "metadata": {},
     "output_type": "execute_result"
    }
   ],
   "source": [
    "music_artists[0:10]"
   ]
  },
  {
   "cell_type": "code",
   "execution_count": 56,
   "id": "930d7f88-c10e-4ff0-b787-550aa78a393e",
   "metadata": {},
   "outputs": [
    {
     "name": "stdout",
     "output_type": "stream",
     "text": [
      "1: Love Lee / AKMU(악뮤)\n",
      "2: Get A Guitar / RIIZE\n",
      "3: 후라이의 꿈 / AKMU(악뮤)\n",
      "4: Either Way / IVE (아이브)\n",
      "5: Smoke (Prod. Dynamicduo, Padi) / 다이나믹 듀오\n",
      "6: ETA / NewJeans\n",
      "7: Fast Forward / 전소미\n",
      "8: Super Shy / NewJeans\n",
      "9: Seven (feat. Latto) - Clean Ver. / 정국\n",
      "10: Fact Check (불가사의; 不可思議) / NCT 127\n",
      "11: I AM / IVE (아이브)\n",
      "12: I Love My Body / 화사 (HWASA)\n",
      "13: 헤어지자 말해요 / 박재정\n",
      "14: You & Me / 제니 (JENNIE)\n",
      "15: Steal The Show (From “엘리멘탈”) / Lauv(라우브)\n",
      "16: Underwater / 권은비\n",
      "17: New Jeans / NewJeans\n",
      "18: Bubble / STAYC(스테이씨)\n",
      "19: Hype Boy / NewJeans\n",
      "20: Ditto / NewJeans\n",
      "21: 3D (feat. Jack Harlow) / 정국\n",
      "22: 퀸카 (Queencard) / (여자)아이들\n",
      "23: Spicy / aespa\n",
      "24: 이브, 프시케 그리고 푸른 수염의 아내 / LE SSERAFIM (르세라핌)\n",
      "25: Kitsch / IVE (아이브)\n",
      "26: Baggy Jeans / NCT U\n",
      "27: Summer (Feat. BE’O (비오)) / Paul Blanco\n",
      "28: Attention / NewJeans\n",
      "29: After LIKE / IVE (아이브)\n",
      "30: 사막에서 꽃을 피우듯 / 우디(Woody)\n",
      "31: 사건의 지평선 / 윤하(Younha/ユンナ)\n",
      "32: OMG / NewJeans\n",
      "33: Somebody / 디오 (D.O.)\n",
      "34: LOVE DIVE / IVE (아이브)\n",
      "35: Vancouver 2 / BIG Naughty (서동현)\n",
      "36: 주저하는 연인들을 위해 / 잔나비\n",
      "37: Cool With You / NewJeans\n",
      "38: UNFORGIVEN (feat. Nile Rodgers) / LE SSERAFIM (르세라핌)\n",
      "39: I Don’t Think That I Like Her / Charlie Puth(찰리 푸스)\n",
      "40: Memories / RIIZE\n",
      "41: 건물 사이에 피어난 장미 (Rose Blossom) / H1-KEY (하이키)\n",
      "42: 한 페이지가 될 수 있게 / DAY6 (데이식스)\n",
      "43: CAKE / ITZY (있지)\n",
      "44: 잘 지내자, 우리 (여름날 우리 X 로이킴) / 로이킴\n",
      "45: 어떻게 이별까지 사랑하겠어, 널 사랑하는 거지 / AKMU(악뮤)\n",
      "46: Dangerously / Charlie Puth(찰리 푸스)\n",
      "47: 너의 모든 순간 / 성시경\n",
      "48: 심(心) / DK(디셈버)\n",
      "49: I WANT / IVE (아이브)\n",
      "50: Better Things / aespa\n"
     ]
    }
   ],
   "source": [
    "for k in range(50):\n",
    "    print('{0}: {1} / {2}'.format(k+1, music_titles[k], music_artists[k]))"
   ]
  },
  {
   "cell_type": "code",
   "execution_count": 65,
   "id": "43f863a8-fce8-40aa-ac7b-ca3da488ae5b",
   "metadata": {},
   "outputs": [
    {
     "data": {
      "text/plain": [
       "['C:/Users/bbong/Desktop/ex/machin/bugs_day_top100_2023_10_11.txt']"
      ]
     },
     "execution_count": 65,
     "metadata": {},
     "output_type": "execute_result"
    }
   ],
   "source": [
    "import requests  \n",
    "from bs4 import BeautifulSoup \n",
    "\n",
    "def bugs_music_day_top100(year, month, day):\n",
    "    month = '{0:02d}'.format(month)\n",
    "    day = '{0:02d}'.format(day)\n",
    "    base_url = 'https://music.bugs.co.kr/chart/track/day/total?'\n",
    "    url = base_url + 'chartdate={0}{1}{2}'.format(year, month, day)\n",
    "    \n",
    "    # url = 'https://music.bugs.co.kr/chart/track/week/total?chartdate=20231008'\n",
    "    # url = 'https://music.bugs.co.kr/chart/track/week/total\n",
    "    \n",
    "    html_music = requests.get(url).text\n",
    "    soup_music = BeautifulSoup(html_music, 'lxml')\n",
    "    \n",
    "    titles = soup_music.select('p.title a')\n",
    "    music_titles = [title.get_text() for title in titles]\n",
    "    \n",
    "    artists = soup_music.select('p.artist a:not(.more)')\n",
    "    music_artists = [artist.get_text() for artist in artists]\n",
    "    file_name = 'C:/Users/bbong/Desktop/ex/machin/bugs_day_top100_{}_{}_{}.txt'.format(year, month, day)\n",
    "\n",
    "    return music_titles, music_artists, file_name\n",
    "\n",
    "import glob\n",
    "\n",
    "bugs_music_titles, bugs_music_artists, file_name = bugs_music_day_top100(2023, 10, 11)\n",
    "f = open(file_name, 'w')\n",
    "\n",
    "for k in range(len(bugs_music_titles)):\n",
    "    f.write('{0}: {1} / {2}\\n'.format(k+1, bugs_music_titles[k], bugs_music_artists[k]))\n",
    "f.close()\n",
    "glob.glob(file_name)\n"
   ]
  },
  {
   "cell_type": "code",
   "execution_count": 66,
   "id": "e6e13828-b945-4744-91ad-e11d42d0f9df",
   "metadata": {},
   "outputs": [
    {
     "data": {
      "text/plain": [
       "<Response [200]>"
      ]
     },
     "execution_count": 66,
     "metadata": {},
     "output_type": "execute_result"
    }
   ],
   "source": [
    "url = 'https://www.python.org/static/img/python-logo.png'\n",
    "html_image = requests.get(url)\n",
    "html_image"
   ]
  },
  {
   "cell_type": "code",
   "execution_count": 67,
   "id": "2e02e7cb-5092-4982-9b02-3ef4d3226e18",
   "metadata": {},
   "outputs": [
    {
     "data": {
      "text/plain": [
       "'python-logo.png'"
      ]
     },
     "execution_count": 67,
     "metadata": {},
     "output_type": "execute_result"
    }
   ],
   "source": [
    "import os\n",
    "image_file_name = os.path.basename(url)\n",
    "image_file_name"
   ]
  },
  {
   "cell_type": "code",
   "execution_count": 68,
   "id": "842730f2-bf12-474d-91f0-4cc90195d5b4",
   "metadata": {},
   "outputs": [],
   "source": [
    "folder = 'C:/Users/bbong/Desktop/ex/machin/download'\n",
    "if not os.path.exists(folder):\n",
    "    os.makedirs(folder)"
   ]
  },
  {
   "cell_type": "code",
   "execution_count": 69,
   "id": "4a77bc16-517e-42c3-8b7a-5f0bfc91a9fb",
   "metadata": {},
   "outputs": [
    {
     "data": {
      "text/plain": [
       "'C:/Users/bbong/Desktop/ex/machin/download\\\\python-logo.png'"
      ]
     },
     "execution_count": 69,
     "metadata": {},
     "output_type": "execute_result"
    }
   ],
   "source": [
    "image_path = os.path.join(folder, image_file_name)\n",
    "image_path"
   ]
  },
  {
   "cell_type": "code",
   "execution_count": 70,
   "id": "d66dd1b4-c68b-4f84-b1b2-41b3b7cdacb4",
   "metadata": {},
   "outputs": [],
   "source": [
    "imageFile = open(image_path, 'wb')\n",
    "chuck_size = 1000000\n",
    "\n",
    "for chuck in html_image.iter_content(chuck_size):\n",
    "    imageFile.write(chuck)\n",
    "imageFile.close()"
   ]
  },
  {
   "cell_type": "code",
   "execution_count": 71,
   "id": "ad5e73a8-3aea-4f57-97de-dc44d81fee61",
   "metadata": {},
   "outputs": [
    {
     "data": {
      "text/plain": [
       "['python-logo.png']"
      ]
     },
     "execution_count": 71,
     "metadata": {},
     "output_type": "execute_result"
    }
   ],
   "source": [
    "os.listdir(folder)"
   ]
  },
  {
   "cell_type": "code",
   "execution_count": 72,
   "id": "bdc5412a-737b-404e-a4c6-4f5d85dde2fe",
   "metadata": {},
   "outputs": [],
   "source": [
    "import requests  \n",
    "import os\n",
    "\n",
    "url = 'https://www.python.org/static/img/python-logo.png'\n",
    "html_image = requests.get(url)\n",
    "image_file_name = os.path.basename(url)\n",
    "\n",
    "folder = 'C:/Users/bbong/Desktop/ex/machin/download' \n",
    "\n",
    "if not os.path.exists(folder):\n",
    "    os.makedirs(folder)\n",
    "\n",
    "image_path = os.path.join(folder, image_file_name)\n",
    "\n",
    "imageFile = open(image_path, 'wb')\n",
    "# 이미지 데이터를 1000000 바이트씩 나눠서 저장\n",
    "chunk_size = 1000000\n",
    "for chunk in html_image.iter_content(chunk_size):\n",
    "    imageFile.write(chunk)\n",
    "imageFile.close()"
   ]
  },
  {
   "cell_type": "code",
   "execution_count": 78,
   "id": "29a52def-c98c-459b-8d8e-7a2d06e6f203",
   "metadata": {},
   "outputs": [
    {
     "data": {
      "text/plain": [
       "[<img alt=\"Reshot\" height=\"33\" src=\"https://www.reshot.com/build/reshot-logo--mark-f8dfafbc1cc8fbf4dfa0e2f210265735aefa6e32f883b5a1fe27fd94f84719b3.svg\" title=\"Reshot\" width=\"46\"/>,\n",
       " <img alt=\"Animal doctor\" class=\"illustrations-item-card__image\" height=\"1960\" loading=\"lazy\" src=\"https://www.reshot.com/preview-assets/illustrations/N4S3YJPG7T/animal-doctor-N4S3YJPG7T-w600.jpg\" width=\"2014\"/>,\n",
       " <img alt=\"Animal veterinary\" class=\"illustrations-item-card__image\" height=\"1136\" loading=\"lazy\" src=\"https://www.reshot.com/preview-assets/illustrations/MFY5HTP3S7/animal-veterinary-MFY5HTP3S7-w600.jpg\" width=\"1920\"/>,\n",
       " <img alt=\"Jungle animals\" class=\"illustrations-item-card__image\" height=\"1564\" loading=\"lazy\" src=\"https://www.reshot.com/preview-assets/illustrations/ADN4PBJK8M/jungle-animals-ADN4PBJK8M-w600.jpg\" width=\"2346\"/>,\n",
       " <img alt=\"Exotic animals\" class=\"illustrations-item-card__image\" height=\"1027\" loading=\"lazy\" src=\"https://www.reshot.com/preview-assets/illustrations/5TAKL8NHY3/exotic-animals-5TAKL8NHY3-w600.jpg\" width=\"1522\"/>]"
      ]
     },
     "execution_count": 78,
     "metadata": {},
     "output_type": "execute_result"
    }
   ],
   "source": [
    "url = 'https://www.reshot.com/free-vector-illustrations/animal/'\n",
    "html_reshot_image = requests.get(url).text\n",
    "soup_reshot_image = BeautifulSoup(html_reshot_image, 'lxml')\n",
    "reshot_image_elements = soup_reshot_image.select('a img')\n",
    "reshot_image_elements[:5]"
   ]
  },
  {
   "cell_type": "code",
   "execution_count": 79,
   "id": "87dd1b8b-3a55-4421-8e97-9532df09f3b9",
   "metadata": {},
   "outputs": [
    {
     "data": {
      "text/plain": [
       "'https://www.reshot.com/preview-assets/illustrations/N4S3YJPG7T/animal-doctor-N4S3YJPG7T-w600.jpg'"
      ]
     },
     "execution_count": 79,
     "metadata": {},
     "output_type": "execute_result"
    }
   ],
   "source": [
    "reshot_image_url = reshot_image_elements[1].get('src')\n",
    "reshot_image_url"
   ]
  },
  {
   "cell_type": "code",
   "execution_count": 84,
   "id": "13c514a1-d294-45e1-a4ea-7cbaa50dca74",
   "metadata": {},
   "outputs": [
    {
     "name": "stdout",
     "output_type": "stream",
     "text": [
      "이미지 파일명: 'animal-doctor-N4S3YJPG7T-w600.jpg'. 내려받기 완료\n",
      "이미지 파일명: 'animal-veterinary-MFY5HTP3S7-w600.jpg'. 내려받기 완료\n",
      "이미지 파일명: 'jungle-animals-ADN4PBJK8M-w600.jpg'. 내려받기 완료\n",
      "이미지 파일명: 'exotic-animals-5TAKL8NHY3-w600.jpg'. 내려받기 완료\n",
      "이미지 파일명: 'animal-rescue-3D7TNJ4GX5-w600.jpg'. 내려받기 완료\n",
      "이미지 파일명: 'shiba-inu-dog-Z7WFKC6G9H-w600.jpg'. 내려받기 완료\n",
      "이미지 파일명: 'dog-trainer-app-YJT68ZWDAM-w600.jpg'. 내려받기 완료\n",
      "이미지 파일명: 'walking-the-dog-U5ENWJ2LYT-w600.jpg'. 내려받기 완료\n",
      "이미지 파일명: 'tiger-illustration-MP3GHDK6VQ-w600.jpg'. 내려받기 완료\n",
      "이미지 파일명: 'deer-in-the-forest-LCJ94GHB7X-w600.jpg'. 내려받기 완료\n",
      "이미지 파일명: 'dog-care-K9TXG6JP3A-w600.jpg'. 내려받기 완료\n",
      "이미지 파일명: 'diving-in-the-sea-H2AC5RSYWP-w600.jpg'. 내려받기 완료\n",
      "이미지 파일명: 'duck-character-design-GJ9Z3TW2FN-w600.jpg'. 내려받기 완료\n",
      "이미지 파일명: 'dog-walker-F8LZWGS3KX-w600.jpg'. 내려받기 완료\n",
      "이미지 파일명: 'walking-the-dog-EBS59UWRCF-w600.jpg'. 내려받기 완료\n",
      "이미지 파일명: 'cat-care-nails-DJRUF7H589-w600.jpg'. 내려받기 완료\n",
      "이미지 파일명: 'cute-doctor-cat-CWML9XAHQP-w600.jpg'. 내려받기 완료\n",
      "이미지 파일명: 'happy-dog-7YBL2D83CA-w600.jpg'. 내려받기 완료\n",
      "이미지 파일명: 'cat-care-team-5WBZ4LDJCU-w600.jpg'. 내려받기 완료\n",
      "이미지 파일명: 'pet-cone-4SY8EKGF5V-w600.jpg'. 내려받기 완료\n",
      "이미지 파일명: 'chevron--dark-ceeb4c718ee6f014d714b646d957cdba33c46f313fa6ac77cabcc5bc8f4901dc.svg'. 내려받기 완료\n",
      "이미지 파일명: 'reshot-logo--mark-f8dfafbc1cc8fbf4dfa0e2f210265735aefa6e32f883b5a1fe27fd94f84719b3.svg'. 내려받기 완료\n"
     ]
    }
   ],
   "source": [
    "def get_image_url(url):\n",
    "    html_image_url = requests.get(url).text\n",
    "    soup_image_url = BeautifulSoup(html_image_url, 'lxml')\n",
    "    image_elements = soup_image_url.select('a img')\n",
    "    if(image_elements != None):\n",
    "        image_urls = []\n",
    "        for image_element in image_elements[1:]:\n",
    "            image_urls.append(image_element.get('src'))\n",
    "        return image_urls\n",
    "    else:\n",
    "        return None\n",
    "\n",
    "def download_image(img_folder, img_url):\n",
    "    if(img_url != None):\n",
    "        html_image = requests.get(img_url)\n",
    "        imageFile = open(os.path.join(img_folder, os.path.basename(img_url)), 'wb')\n",
    "        chunk_size = 1000000\n",
    "        for chunk in html_image.iter_content(chunk_size):\n",
    "            imageFile.write(chunk)\n",
    "            imageFile.close()\n",
    "        print(\"이미지 파일명: '{0}'. 내려받기 완료\".format(os.path.basename(img_url)))\n",
    "    else:\n",
    "        print('내려받을 이미지가 없습니다.')\n",
    "\n",
    "\n",
    "url = 'https://www.reshot.com/free-vector-illustrations/animal/'\n",
    "figure_folder = 'C:/Users/bbong/Desktop/ex/machin/download'\n",
    "\n",
    "reshots_image_urls = get_image_url(url)\n",
    "num_of_download_image = len(reshots_image_urls)\n",
    "\n",
    "for k in range(num_of_download_image):\n",
    "    download_image(figure_folder, reshots_image_urls[k])\n",
    "    \n"
   ]
  },
  {
   "cell_type": "code",
   "execution_count": null,
   "id": "a0f0d6e8-3cd8-48b6-9af9-0837e21adb60",
   "metadata": {},
   "outputs": [],
   "source": []
  }
 ],
 "metadata": {
  "kernelspec": {
   "display_name": "Python 3 (ipykernel)",
   "language": "python",
   "name": "python3"
  },
  "language_info": {
   "codemirror_mode": {
    "name": "ipython",
    "version": 3
   },
   "file_extension": ".py",
   "mimetype": "text/x-python",
   "name": "python",
   "nbconvert_exporter": "python",
   "pygments_lexer": "ipython3",
   "version": "3.11.6"
  }
 },
 "nbformat": 4,
 "nbformat_minor": 5
}
