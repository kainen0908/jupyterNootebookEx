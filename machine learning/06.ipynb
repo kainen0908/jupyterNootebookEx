{
 "cells": [
  {
   "cell_type": "code",
   "execution_count": 1,
   "id": "6de12582-bdb5-4ff1-aa57-e5463d33f45c",
   "metadata": {},
   "outputs": [],
   "source": [
    "import numpy as np\n",
    "import tensorflow as tf\n",
    "from tensorflow.keras.layers import Input, Dense, SimpleRNN\n",
    "from tensorflow.keras.models import Model"
   ]
  },
  {
   "cell_type": "code",
   "execution_count": 2,
   "id": "592d7044-b513-47b7-9630-37b24bf75d40",
   "metadata": {},
   "outputs": [],
   "source": [
    "inputs = Input(shape=(1, 2))\n",
    "output, state = SimpleRNN(3, return_state=True)(inputs)\n",
    "model = Model(inputs = inputs, outputs = [output, state])"
   ]
  },
  {
   "cell_type": "code",
   "execution_count": 3,
   "id": "6ccb65c6-d2d7-4b64-82cb-a14ee67979ae",
   "metadata": {},
   "outputs": [
    {
     "name": "stdout",
     "output_type": "stream",
     "text": [
      "1/1 [==============================] - 0s 152ms/step\n",
      "[[ 0.9853613  0.8701163 -0.9530327]]\n",
      "[[ 0.9853613  0.8701163 -0.9530327]]\n"
     ]
    }
   ],
   "source": [
    "data = np.array([[[1, 2]]])\n",
    "output, state = model.predict(data)\n",
    "print(output)\n",
    "print(state)"
   ]
  },
  {
   "cell_type": "code",
   "execution_count": 4,
   "id": "bc2d35c7-9d9b-457a-b531-35dc3ad4a507",
   "metadata": {},
   "outputs": [
    {
     "name": "stdout",
     "output_type": "stream",
     "text": [
      "Model: \"model\"\n",
      "_________________________________________________________________\n",
      " Layer (type)                Output Shape              Param #   \n",
      "=================================================================\n",
      " input_1 (InputLayer)        [(None, 1, 2)]            0         \n",
      "                                                                 \n",
      " simple_rnn (SimpleRNN)      [(None, 3),               18        \n",
      "                              (None, 3)]                         \n",
      "                                                                 \n",
      "=================================================================\n",
      "Total params: 18 (72.00 Byte)\n",
      "Trainable params: 18 (72.00 Byte)\n",
      "Non-trainable params: 0 (0.00 Byte)\n",
      "_________________________________________________________________\n"
     ]
    }
   ],
   "source": [
    "model.summary()"
   ]
  },
  {
   "cell_type": "code",
   "execution_count": 5,
   "id": "9073cc54-5b16-4d58-80f3-d8bacd07e42d",
   "metadata": {},
   "outputs": [
    {
     "data": {
      "text/plain": [
       "<tf.Variable 'simple_rnn/simple_rnn_cell/kernel:0' shape=(2, 3) dtype=float32, numpy=\n",
       "array([[ 0.72459435,  0.65325534, -0.32782674],\n",
       "       [ 0.8651736 ,  0.34015155, -0.76800835]], dtype=float32)>"
      ]
     },
     "execution_count": 5,
     "metadata": {},
     "output_type": "execute_result"
    }
   ],
   "source": [
    "model.layers[1].weights[0]"
   ]
  },
  {
   "cell_type": "code",
   "execution_count": 6,
   "id": "d7b40d5f-9758-44d2-8bad-f3d2801ab988",
   "metadata": {},
   "outputs": [
    {
     "data": {
      "text/plain": [
       "[array([[ 0.72459435,  0.65325534, -0.32782674],\n",
       "        [ 0.8651736 ,  0.34015155, -0.76800835]], dtype=float32),\n",
       " array([[ 0.6717317 , -0.713003  ,  0.20100561],\n",
       "        [ 0.26140937,  0.48202866,  0.83624965],\n",
       "        [ 0.69313896,  0.5091907 , -0.51017964]], dtype=float32),\n",
       " array([0., 0., 0.], dtype=float32)]"
      ]
     },
     "execution_count": 6,
     "metadata": {},
     "output_type": "execute_result"
    }
   ],
   "source": [
    "model.layers[1].get_weights()"
   ]
  },
  {
   "cell_type": "code",
   "execution_count": 7,
   "id": "aa96e003-2893-4588-a79d-4572736cc354",
   "metadata": {},
   "outputs": [],
   "source": [
    "# I work at google [[1, 0, 0, 0], [0, 1, 0, 0], [0, 0, 1, 0], [0, 0, 0, 1]]\n",
    "# I google at work [[1, 0, 0, 0], [0, 0, 0, 1], [0, 0, 1, 0], [0, 1, 0, 0]]\n",
    "\n",
    "data = np.array([\n",
    "    [[1, 0, 0, 0], [0, 1, 0, 0], [0, 0, 1, 0], [0, 0, 0, 1]],\n",
    "    [[1, 0, 0, 0], [0, 0, 0, 1], [0, 0, 1, 0], [0, 1, 0, 0]]\n",
    "])"
   ]
  },
  {
   "cell_type": "code",
   "execution_count": 8,
   "id": "9baa068b-65da-4a93-b908-c707becae411",
   "metadata": {},
   "outputs": [
    {
     "name": "stdout",
     "output_type": "stream",
     "text": [
      "1/1 [==============================] - 0s 140ms/step\n",
      "I work at google:  [[-0.68322057 -0.53173786  0.47282872]\n",
      " [-0.87214184 -0.48548856  0.05102868]\n",
      " [-0.09793351  0.22461504 -0.5067506 ]\n",
      " [ 0.34798974 -0.78681237 -0.55838424]]\n",
      "I google at work:  [[-0.68322057 -0.53173786  0.47282872]\n",
      " [-0.74564475 -0.7275685  -0.73527616]\n",
      " [ 0.19913301 -0.04824157  0.16552521]\n",
      " [-0.4050199  -0.02554221  0.1895077 ]]\n"
     ]
    }
   ],
   "source": [
    "inputs = Input(shape=(4, 4))\n",
    "output, state = SimpleRNN(3, return_state=True, return_sequences=True)(inputs)\n",
    "model = Model(inputs = inputs, outputs = [output, state])\n",
    "output, state = model.predict(data)\n",
    "print('I work at google: ', output[0])\n",
    "print('I google at work: ', output[1])"
   ]
  },
  {
   "cell_type": "code",
   "execution_count": 9,
   "id": "90ac9278-a591-4843-9e13-6399f3a2c399",
   "metadata": {},
   "outputs": [
    {
     "name": "stdout",
     "output_type": "stream",
     "text": [
      "I work at google:  [ 0.34798974 -0.78681237 -0.55838424]\n",
      "I google at work:  [-0.4050199  -0.02554221  0.1895077 ]\n"
     ]
    }
   ],
   "source": [
    "print('I work at google: ', state[0])\n",
    "print('I google at work: ', state[1])"
   ]
  },
  {
   "cell_type": "code",
   "execution_count": 10,
   "id": "18c11e45-cf23-46fa-a456-147bb2e47c4c",
   "metadata": {},
   "outputs": [],
   "source": [
    "from tensorflow.keras.layers import LSTM"
   ]
  },
  {
   "cell_type": "code",
   "execution_count": 11,
   "id": "35b13a46-e7aa-44f9-b843-c1374fbca4a1",
   "metadata": {},
   "outputs": [
    {
     "name": "stdout",
     "output_type": "stream",
     "text": [
      "1/1 [==============================] - 0s 372ms/step\n",
      "[[-0.12898088]]\n",
      "[[-0.12898088]]\n",
      "[[-0.4902686]]\n"
     ]
    }
   ],
   "source": [
    "inputs = Input(shape= (1, 2))\n",
    "lstm_out, hidden_state, cell_state = LSTM(1, return_state=True)(inputs)\n",
    "model = Model(inputs = inputs, outputs = [lstm_out, hidden_state, cell_state])\n",
    "data = np.array([\n",
    "    [[1, 0]]\n",
    "])\n",
    "lstm_out, hidden_state, cell_state = model.predict(data)\n",
    "print(lstm_out)\n",
    "print(hidden_state)\n",
    "print(cell_state)"
   ]
  },
  {
   "cell_type": "code",
   "execution_count": 12,
   "id": "1b7e36b6-82a7-4be3-846c-6526cf787611",
   "metadata": {},
   "outputs": [],
   "source": [
    "import pandas as pd\n",
    "paragraph_dict_list = [\n",
    "         {'paragraph': 'dishplace is located in sunnyvale downtown there is parking around the area but it can be difficult to find during peak business hours my sisters and i came to this place for dinner on a weekday they were really busy so i highly recommended making reservations unless you have the patience to wait', 'category': 'food'},\n",
    "         {'paragraph': 'service can be slower during busy hours but our waiter was courteous and help gave some great entree recommendations', 'category': 'food'},\n",
    "         {'paragraph': 'portions are huge both french toast and their various omelettes are really good their french toast is probably 1.5x more than other brunch places great place to visit if you are hungry and dont want to wait 1 hour for a table', 'category': 'food'},\n",
    "         {'paragraph': 'we started with apps going the chicken and waffle slides and chicken nachos the sliders were amazing and the nachos were good too maybe by themselves the nachos would have scored better but after those sliders they were up against some tough competition', 'category': 'food'},\n",
    "         {'paragraph': 'the biscuits and gravy was too salty two people in my group had the gravy and all thought it was too salty my hubby ordered a side of double egg and it was served on two small plates who serves eggs to one person on separate plates we commented on that when it was delivered and even the server laughed and said she doesnt know why the kitchen does that presentation of food is important and they really missed on this one', 'category': 'food'},\n",
    "         {'paragraph': 'the garlic fries were a great starter (and a happy hour special) the pancakes looked and tasted great and were a fairly generous portion', 'category': 'food'},\n",
    "         {'paragraph': 'our meal was excellent i had the pasta ai formaggi which was so rich i didnt dare eat it all although i certainly wanted to excellent flavors with a great texture contrast between the soft pasta and the crisp bread crumbs too much sauce for me but a wonderful dish', 'category': 'food'},\n",
    "         {'paragraph': 'what i enjoy most about palo alto is so many restaurants have dog-friendly seating outside i had bookmarked italico from when they first opened about a 1.5 years ago and was jonesing for some pasta so time to finally knock that bookmark off', 'category': 'food'},\n",
    "         {'paragraph': 'the drinks came out fairly quickly a good two to three minutes after the orders were taken i expected my iced tea to taste a bit more sweet but this was straight up green tea with ice in it not to complain of course but i was pleasantly surprised', 'category': 'food'},\n",
    "         {'paragraph': 'despite the not so good burger the service was so slow the restaurant wasnt even half full and they took very long from the moment we got seated to the time we left it was almost 2 hours we thought that it would be quick since we ordered as soon as we sat down my coworkers did seem to enjoy their beef burgers for those who eat beef however i will not be returning it is too expensive and extremely slow service', 'category': 'food'},\n",
    "    \n",
    "         {'paragraph': 'the four reigning major champions simona halep caroline wozniacki angelique kerber and defending us open champion sloane stephens could make a case for being the quartet most likely to succeed especially as all but stephens has also enjoyed the no1 ranking within the last 14 months as they prepare for their gruelling new york campaigns they currently hold the top four places in the ranks', 'category': 'sports'},\n",
    "         {'paragraph': 'the briton was seeded nn7 here last year before a slump in form and confidence took her down to no46 after five first-round losses but there have been signs of a turnaround including a victory over a sub-par serena williams in san jose plus wins against jelena ostapenko and victoria azarenka in montreal. konta pulled out of new haven this week with illness but will hope for good things where she first scored wins in a major before her big breakthroughs to the semis in australia and wimbledon', 'category': 'sports'},\n",
    "         {'paragraph': 'stephens surged her way back from injury in stunning style to win her first major here last year—and ranked just no83 she has since proved what a big time player she is winning the miami title via four fellow major champions then reaching the final at the french open back on north american hard courts she ran to the final in montreal only just edged out by halep she has also avoided many of the big names in her quarter—except for wild card azarenka as a possible in the third round', 'category': 'sports'},\n",
    "         {'paragraph': 'when it came to england chances in the world cup it would be fair to say that most fans had never been more pessimistic than they were this year after enduring years of truly dismal performances at major tournaments – culminating in the 2014 event where they failed to win any of their three group games and finished in bottom spot those results led to the resignation of manager roy hodgson', 'category': 'sports'},\n",
    "         {'paragraph': 'the team that eliminated russia – croatia – also improved enormously during the tournament before it began their odds were 33/1 but they played with real flair and star players like luka modric ivan rakitic and ivan perisic showed their quality on the world stage having displayed their potential by winning all three of their group stage games croatia went on to face difficult tests like the semi-final against england', 'category': 'sports'},\n",
    "         {'paragraph': 'the perseyside outfit finished in fourth place in the premier league table and without a trophy last term after having reached the champions league final before losing to real madrid', 'category': 'sports'},\n",
    "         {'paragraph': 'liverpool fc will return to premier league action on saturday lunchtime when they travel to leicester city in the top flight as they look to make it four wins in a row in the league', 'category': 'sports'},\n",
    "         {'paragraph': 'alisson signed for liverpool fc from as roma this summer and the brazilian goalkeeper has helped the reds to keep three clean sheets in their first three premier league games', 'category': 'sports'},\n",
    "         {'paragraph': 'but the rankings during that run-in to new york hid some very different undercurrents for murray had struggled with a hip injury since the clay swing and had not played a match since losing his quarter-final at wimbledon and he would pull out of the us open just two days before the tournament began—too late however to promote nederer to the no2 seeding', 'category': 'sports'},\n",
    "         {'paragraph': 'then came the oh-so-familiar djokovic-nadal no-quarter-given battle for dominance in the third set there were exhilarating rallies with both chasing to the net both retrieving what looked like winning shots nadal more than once pulled off a reverse smash and had his chance to seal the tie-break but it was djokovic serving at 10-9 who dragged one decisive error from nadal for a two-sets lead', 'category': 'sports'}\n",
    "]\n",
    "df = pd.DataFrame(paragraph_dict_list)\n",
    "df = df[['paragraph', 'category']]"
   ]
  },
  {
   "cell_type": "code",
   "execution_count": 13,
   "id": "6ee4440e-a88c-47c2-8516-18330ffb8257",
   "metadata": {},
   "outputs": [
    {
     "data": {
      "text/html": [
       "<div>\n",
       "<style scoped>\n",
       "    .dataframe tbody tr th:only-of-type {\n",
       "        vertical-align: middle;\n",
       "    }\n",
       "\n",
       "    .dataframe tbody tr th {\n",
       "        vertical-align: top;\n",
       "    }\n",
       "\n",
       "    .dataframe thead th {\n",
       "        text-align: right;\n",
       "    }\n",
       "</style>\n",
       "<table border=\"1\" class=\"dataframe\">\n",
       "  <thead>\n",
       "    <tr style=\"text-align: right;\">\n",
       "      <th></th>\n",
       "      <th>paragraph</th>\n",
       "      <th>category</th>\n",
       "    </tr>\n",
       "  </thead>\n",
       "  <tbody>\n",
       "    <tr>\n",
       "      <th>0</th>\n",
       "      <td>dishplace is located in sunnyvale downtown the...</td>\n",
       "      <td>food</td>\n",
       "    </tr>\n",
       "    <tr>\n",
       "      <th>1</th>\n",
       "      <td>service can be slower during busy hours but ou...</td>\n",
       "      <td>food</td>\n",
       "    </tr>\n",
       "    <tr>\n",
       "      <th>2</th>\n",
       "      <td>portions are huge both french toast and their ...</td>\n",
       "      <td>food</td>\n",
       "    </tr>\n",
       "    <tr>\n",
       "      <th>3</th>\n",
       "      <td>we started with apps going the chicken and waf...</td>\n",
       "      <td>food</td>\n",
       "    </tr>\n",
       "    <tr>\n",
       "      <th>4</th>\n",
       "      <td>the biscuits and gravy was too salty two peopl...</td>\n",
       "      <td>food</td>\n",
       "    </tr>\n",
       "    <tr>\n",
       "      <th>5</th>\n",
       "      <td>the garlic fries were a great starter (and a h...</td>\n",
       "      <td>food</td>\n",
       "    </tr>\n",
       "    <tr>\n",
       "      <th>6</th>\n",
       "      <td>our meal was excellent i had the pasta ai form...</td>\n",
       "      <td>food</td>\n",
       "    </tr>\n",
       "    <tr>\n",
       "      <th>7</th>\n",
       "      <td>what i enjoy most about palo alto is so many r...</td>\n",
       "      <td>food</td>\n",
       "    </tr>\n",
       "    <tr>\n",
       "      <th>8</th>\n",
       "      <td>the drinks came out fairly quickly a good two ...</td>\n",
       "      <td>food</td>\n",
       "    </tr>\n",
       "    <tr>\n",
       "      <th>9</th>\n",
       "      <td>despite the not so good burger the service was...</td>\n",
       "      <td>food</td>\n",
       "    </tr>\n",
       "    <tr>\n",
       "      <th>10</th>\n",
       "      <td>the four reigning major champions simona halep...</td>\n",
       "      <td>sports</td>\n",
       "    </tr>\n",
       "    <tr>\n",
       "      <th>11</th>\n",
       "      <td>the briton was seeded nn7 here last year befor...</td>\n",
       "      <td>sports</td>\n",
       "    </tr>\n",
       "    <tr>\n",
       "      <th>12</th>\n",
       "      <td>stephens surged her way back from injury in st...</td>\n",
       "      <td>sports</td>\n",
       "    </tr>\n",
       "    <tr>\n",
       "      <th>13</th>\n",
       "      <td>when it came to england chances in the world c...</td>\n",
       "      <td>sports</td>\n",
       "    </tr>\n",
       "    <tr>\n",
       "      <th>14</th>\n",
       "      <td>the team that eliminated russia – croatia – al...</td>\n",
       "      <td>sports</td>\n",
       "    </tr>\n",
       "    <tr>\n",
       "      <th>15</th>\n",
       "      <td>the perseyside outfit finished in fourth place...</td>\n",
       "      <td>sports</td>\n",
       "    </tr>\n",
       "    <tr>\n",
       "      <th>16</th>\n",
       "      <td>liverpool fc will return to premier league act...</td>\n",
       "      <td>sports</td>\n",
       "    </tr>\n",
       "    <tr>\n",
       "      <th>17</th>\n",
       "      <td>alisson signed for liverpool fc from as roma t...</td>\n",
       "      <td>sports</td>\n",
       "    </tr>\n",
       "    <tr>\n",
       "      <th>18</th>\n",
       "      <td>but the rankings during that run-in to new yor...</td>\n",
       "      <td>sports</td>\n",
       "    </tr>\n",
       "    <tr>\n",
       "      <th>19</th>\n",
       "      <td>then came the oh-so-familiar djokovic-nadal no...</td>\n",
       "      <td>sports</td>\n",
       "    </tr>\n",
       "  </tbody>\n",
       "</table>\n",
       "</div>"
      ],
      "text/plain": [
       "                                            paragraph category\n",
       "0   dishplace is located in sunnyvale downtown the...     food\n",
       "1   service can be slower during busy hours but ou...     food\n",
       "2   portions are huge both french toast and their ...     food\n",
       "3   we started with apps going the chicken and waf...     food\n",
       "4   the biscuits and gravy was too salty two peopl...     food\n",
       "5   the garlic fries were a great starter (and a h...     food\n",
       "6   our meal was excellent i had the pasta ai form...     food\n",
       "7   what i enjoy most about palo alto is so many r...     food\n",
       "8   the drinks came out fairly quickly a good two ...     food\n",
       "9   despite the not so good burger the service was...     food\n",
       "10  the four reigning major champions simona halep...   sports\n",
       "11  the briton was seeded nn7 here last year befor...   sports\n",
       "12  stephens surged her way back from injury in st...   sports\n",
       "13  when it came to england chances in the world c...   sports\n",
       "14  the team that eliminated russia – croatia – al...   sports\n",
       "15  the perseyside outfit finished in fourth place...   sports\n",
       "16  liverpool fc will return to premier league act...   sports\n",
       "17  alisson signed for liverpool fc from as roma t...   sports\n",
       "18  but the rankings during that run-in to new yor...   sports\n",
       "19  then came the oh-so-familiar djokovic-nadal no...   sports"
      ]
     },
     "execution_count": 13,
     "metadata": {},
     "output_type": "execute_result"
    }
   ],
   "source": [
    "df"
   ]
  },
  {
   "cell_type": "code",
   "execution_count": 14,
   "id": "5effcd4b-29a2-483c-a579-2711a3e526c7",
   "metadata": {},
   "outputs": [],
   "source": [
    "from tensorflow.keras.preprocessing.text import one_hot\n",
    "def get_vocab_size(df):\n",
    "    results = set()\n",
    "    df['paragraph'].str.lower().str.split().apply(results.update)\n",
    "    return len(results)\n",
    "\n",
    "vocab_size = get_vocab_size(df)\n",
    "paragraphs = df['paragraph'].tolist()\n",
    "encoded_paragraphs = [one_hot(paragraph, vocab_size) for paragraph in paragraphs]"
   ]
  },
  {
   "cell_type": "code",
   "execution_count": 15,
   "id": "8092d9ac-1f75-4788-9cdc-6faaaf88f730",
   "metadata": {},
   "outputs": [
    {
     "data": {
      "text/plain": [
       "536"
      ]
     },
     "execution_count": 15,
     "metadata": {},
     "output_type": "execute_result"
    }
   ],
   "source": [
    "vocab_size"
   ]
  },
  {
   "cell_type": "code",
   "execution_count": 16,
   "id": "25a6b806-f2e9-44f7-901a-c2c581665cbd",
   "metadata": {},
   "outputs": [
    {
     "name": "stdout",
     "output_type": "stream",
     "text": [
      "[222, 501, 349, 36, 11, 381, 276, 501, 369, 232, 434, 507, 376, 277, 240, 498, 14, 10, 109, 354, 202, 134, 339, 431, 495, 117, 5, 40, 10, 96, 282, 118, 522, 71, 398, 328, 118, 127, 173, 27, 183, 5, 250, 413, 523, 153, 181, 129, 307, 434, 260, 10, 502]\n"
     ]
    }
   ],
   "source": [
    "print(encoded_paragraphs[0])"
   ]
  },
  {
   "cell_type": "code",
   "execution_count": 17,
   "id": "db9c716a-16fd-4a6d-aaea-8589f56c61f4",
   "metadata": {},
   "outputs": [
    {
     "data": {
      "text/plain": [
       "91"
      ]
     },
     "execution_count": 17,
     "metadata": {},
     "output_type": "execute_result"
    }
   ],
   "source": [
    "def get_max_length(df):\n",
    "    max_length = 0\n",
    "    for row in df['paragraph']:\n",
    "        ln = len(row.split(' '))\n",
    "        if ln > max_length:\n",
    "            max_length = ln\n",
    "    return max_length\n",
    "\n",
    "max_length = get_max_length(df)\n",
    "max_length"
   ]
  },
  {
   "cell_type": "code",
   "execution_count": 18,
   "id": "c1404eaa-7eed-4143-991c-5440e432ea34",
   "metadata": {},
   "outputs": [],
   "source": [
    "from tensorflow.keras.preprocessing.sequence import pad_sequences\n",
    "padded_paragraphs_encoding = pad_sequences(encoded_paragraphs, maxlen = max_length, padding = 'post')"
   ]
  },
  {
   "cell_type": "code",
   "execution_count": 19,
   "id": "1d537403-f102-419d-9c44-cc40d48d7e2d",
   "metadata": {},
   "outputs": [
    {
     "data": {
      "text/plain": [
       "array([[222, 501, 349, ...,   0,   0,   0],\n",
       "       [430, 240, 498, ...,   0,   0,   0],\n",
       "       [439,  26, 120, ...,   0,   0,   0],\n",
       "       ...,\n",
       "       [275, 325, 118, ...,   0,   0,   0],\n",
       "       [376, 434, 297, ...,   0,   0,   0],\n",
       "       [450,  40, 434, ...,   0,   0,   0]])"
      ]
     },
     "execution_count": 19,
     "metadata": {},
     "output_type": "execute_result"
    }
   ],
   "source": [
    "padded_paragraphs_encoding"
   ]
  },
  {
   "cell_type": "code",
   "execution_count": 20,
   "id": "8f4617c5-0486-45f8-8753-abde3cc15357",
   "metadata": {},
   "outputs": [],
   "source": [
    "categories = df['category'].tolist()"
   ]
  },
  {
   "cell_type": "code",
   "execution_count": 21,
   "id": "c5d07f76-fc94-4e79-a506-d207ec10500b",
   "metadata": {},
   "outputs": [],
   "source": [
    "def category_encode(category):\n",
    "    if category == 'food':\n",
    "        return [1, 0]\n",
    "    else:\n",
    "        return [0, 1]\n",
    "\n",
    "encoded_category = [category_encode(category) for category in categories]"
   ]
  },
  {
   "cell_type": "code",
   "execution_count": 22,
   "id": "df3af311-c6b6-40fd-b309-52136aae5f2f",
   "metadata": {},
   "outputs": [
    {
     "data": {
      "text/plain": [
       "[1, 0]"
      ]
     },
     "execution_count": 22,
     "metadata": {},
     "output_type": "execute_result"
    }
   ],
   "source": [
    "encoded_category[0]"
   ]
  },
  {
   "cell_type": "code",
   "execution_count": 23,
   "id": "da5449b4-2806-4391-951e-a73f5c14f644",
   "metadata": {},
   "outputs": [
    {
     "data": {
      "text/plain": [
       "[0, 1]"
      ]
     },
     "execution_count": 23,
     "metadata": {},
     "output_type": "execute_result"
    }
   ],
   "source": [
    "encoded_category[19]"
   ]
  },
  {
   "cell_type": "code",
   "execution_count": 24,
   "id": "3a8a31d1-4e2b-4ff9-90e6-97eccaedeea9",
   "metadata": {},
   "outputs": [],
   "source": [
    "from tensorflow.keras.models import Sequential, Model\n",
    "from tensorflow.keras.layers import Embedding\n",
    "\n",
    "model = Sequential()\n",
    "model.add(Embedding(vocab_size, 5, input_length = max_length))\n",
    "model.add(LSTM(64))\n",
    "model.add(Dense(32, activation='relu'))\n",
    "model.add(Dense(2, activation='softmax'))\n",
    "\n",
    "model.compile(loss = 'categorical_crossentropy', optimizer = 'adam', metrics = 'accuracy')"
   ]
  },
  {
   "cell_type": "code",
   "execution_count": 25,
   "id": "23e668a0-60b9-4793-8461-c3a093a6adf3",
   "metadata": {},
   "outputs": [],
   "source": [
    "train_X = np.array(padded_paragraphs_encoding)\n",
    "train_Y = np.array(encoded_category)"
   ]
  },
  {
   "cell_type": "code",
   "execution_count": 26,
   "id": "b3a20f2e-df70-469d-b6c1-b4ae05a72568",
   "metadata": {},
   "outputs": [
    {
     "name": "stdout",
     "output_type": "stream",
     "text": [
      "Epoch 1/50\n",
      "2/2 [==============================] - 2s 20ms/step - loss: 0.6931 - accuracy: 0.5000\n",
      "Epoch 2/50\n",
      "2/2 [==============================] - 0s 19ms/step - loss: 0.6925 - accuracy: 0.5000\n",
      "Epoch 3/50\n",
      "2/2 [==============================] - 0s 17ms/step - loss: 0.6920 - accuracy: 0.6000\n",
      "Epoch 4/50\n",
      "2/2 [==============================] - 0s 18ms/step - loss: 0.6920 - accuracy: 0.6000\n",
      "Epoch 5/50\n",
      "2/2 [==============================] - 0s 18ms/step - loss: 0.6912 - accuracy: 0.6000\n",
      "Epoch 6/50\n",
      "2/2 [==============================] - 0s 19ms/step - loss: 0.6917 - accuracy: 0.6000\n",
      "Epoch 7/50\n",
      "2/2 [==============================] - 0s 19ms/step - loss: 0.6905 - accuracy: 0.6000\n",
      "Epoch 8/50\n",
      "2/2 [==============================] - 0s 18ms/step - loss: 0.6898 - accuracy: 0.6000\n",
      "Epoch 9/50\n",
      "2/2 [==============================] - 0s 18ms/step - loss: 0.6899 - accuracy: 0.6000\n",
      "Epoch 10/50\n",
      "2/2 [==============================] - 0s 18ms/step - loss: 0.6888 - accuracy: 0.6000\n",
      "Epoch 11/50\n",
      "2/2 [==============================] - 0s 18ms/step - loss: 0.6884 - accuracy: 0.6000\n",
      "Epoch 12/50\n",
      "2/2 [==============================] - 0s 18ms/step - loss: 0.6871 - accuracy: 0.6000\n",
      "Epoch 13/50\n",
      "2/2 [==============================] - 0s 18ms/step - loss: 0.6861 - accuracy: 0.6000\n",
      "Epoch 14/50\n",
      "2/2 [==============================] - 0s 18ms/step - loss: 0.6838 - accuracy: 0.6000\n",
      "Epoch 15/50\n",
      "2/2 [==============================] - 0s 18ms/step - loss: 0.6796 - accuracy: 0.6000\n",
      "Epoch 16/50\n",
      "2/2 [==============================] - 0s 18ms/step - loss: 0.6740 - accuracy: 0.6000\n",
      "Epoch 17/50\n",
      "2/2 [==============================] - 0s 17ms/step - loss: 0.6518 - accuracy: 0.6000\n",
      "Epoch 18/50\n",
      "2/2 [==============================] - 0s 18ms/step - loss: 0.6330 - accuracy: 0.8000\n",
      "Epoch 19/50\n",
      "2/2 [==============================] - 0s 18ms/step - loss: 0.6545 - accuracy: 0.7500\n",
      "Epoch 20/50\n",
      "2/2 [==============================] - 0s 18ms/step - loss: 0.5557 - accuracy: 0.8500\n",
      "Epoch 21/50\n",
      "2/2 [==============================] - 0s 18ms/step - loss: 0.5582 - accuracy: 0.8000\n",
      "Epoch 22/50\n",
      "2/2 [==============================] - 0s 17ms/step - loss: 0.4506 - accuracy: 0.9000\n",
      "Epoch 23/50\n",
      "2/2 [==============================] - 0s 17ms/step - loss: 0.3015 - accuracy: 0.9500\n",
      "Epoch 24/50\n",
      "2/2 [==============================] - 0s 18ms/step - loss: 0.1258 - accuracy: 1.0000\n",
      "Epoch 25/50\n",
      "2/2 [==============================] - 0s 17ms/step - loss: 0.0622 - accuracy: 1.0000\n",
      "Epoch 26/50\n",
      "2/2 [==============================] - 0s 18ms/step - loss: 0.3037 - accuracy: 0.9000\n",
      "Epoch 27/50\n",
      "2/2 [==============================] - 0s 18ms/step - loss: 1.1089 - accuracy: 0.7000\n",
      "Epoch 28/50\n",
      "2/2 [==============================] - 0s 18ms/step - loss: 0.4041 - accuracy: 0.9000\n",
      "Epoch 29/50\n",
      "2/2 [==============================] - 0s 17ms/step - loss: 0.0346 - accuracy: 1.0000\n",
      "Epoch 30/50\n",
      "2/2 [==============================] - 0s 17ms/step - loss: 0.0378 - accuracy: 1.0000\n",
      "Epoch 31/50\n",
      "2/2 [==============================] - 0s 18ms/step - loss: 0.2576 - accuracy: 0.9000\n",
      "Epoch 32/50\n",
      "2/2 [==============================] - 0s 17ms/step - loss: 0.1051 - accuracy: 0.9500\n",
      "Epoch 33/50\n",
      "2/2 [==============================] - 0s 17ms/step - loss: 0.0445 - accuracy: 1.0000\n",
      "Epoch 34/50\n",
      "2/2 [==============================] - 0s 18ms/step - loss: 0.0421 - accuracy: 1.0000\n",
      "Epoch 35/50\n",
      "2/2 [==============================] - 0s 18ms/step - loss: 0.0390 - accuracy: 1.0000\n",
      "Epoch 36/50\n",
      "2/2 [==============================] - 0s 17ms/step - loss: 0.0360 - accuracy: 1.0000\n",
      "Epoch 37/50\n",
      "2/2 [==============================] - 0s 19ms/step - loss: 0.0328 - accuracy: 1.0000\n",
      "Epoch 38/50\n",
      "2/2 [==============================] - 0s 17ms/step - loss: 0.0298 - accuracy: 1.0000\n",
      "Epoch 39/50\n",
      "2/2 [==============================] - 0s 17ms/step - loss: 0.0267 - accuracy: 1.0000\n",
      "Epoch 40/50\n",
      "2/2 [==============================] - 0s 22ms/step - loss: 0.0236 - accuracy: 1.0000\n",
      "Epoch 41/50\n",
      "2/2 [==============================] - 0s 22ms/step - loss: 0.0212 - accuracy: 1.0000\n",
      "Epoch 42/50\n",
      "2/2 [==============================] - 0s 19ms/step - loss: 0.0188 - accuracy: 1.0000\n",
      "Epoch 43/50\n",
      "2/2 [==============================] - 0s 17ms/step - loss: 0.0167 - accuracy: 1.0000\n",
      "Epoch 44/50\n",
      "2/2 [==============================] - 0s 18ms/step - loss: 0.0149 - accuracy: 1.0000\n",
      "Epoch 45/50\n",
      "2/2 [==============================] - 0s 18ms/step - loss: 0.0133 - accuracy: 1.0000\n",
      "Epoch 46/50\n",
      "2/2 [==============================] - 0s 20ms/step - loss: 0.0118 - accuracy: 1.0000\n",
      "Epoch 47/50\n",
      "2/2 [==============================] - 0s 19ms/step - loss: 0.0106 - accuracy: 1.0000\n",
      "Epoch 48/50\n",
      "2/2 [==============================] - 0s 19ms/step - loss: 0.0095 - accuracy: 1.0000\n",
      "Epoch 49/50\n",
      "2/2 [==============================] - 0s 19ms/step - loss: 0.0086 - accuracy: 1.0000\n",
      "Epoch 50/50\n",
      "2/2 [==============================] - 0s 18ms/step - loss: 0.0078 - accuracy: 1.0000\n"
     ]
    },
    {
     "data": {
      "text/plain": [
       "<keras.src.callbacks.History at 0x221e5170650>"
      ]
     },
     "execution_count": 26,
     "metadata": {},
     "output_type": "execute_result"
    }
   ],
   "source": [
    "model.fit(train_X, train_Y, batch_size=10, epochs=50)"
   ]
  },
  {
   "cell_type": "code",
   "execution_count": 27,
   "id": "0ebe0ab2-167a-4fb0-9177-48d6bf048d34",
   "metadata": {},
   "outputs": [
    {
     "name": "stdout",
     "output_type": "stream",
     "text": [
      "1/1 - 0s - loss: 0.0073 - accuracy: 1.0000 - 483ms/epoch - 483ms/step\n",
      "0.007265604101121426\n",
      "1.0\n"
     ]
    }
   ],
   "source": [
    "score, acc = model.evaluate(train_X, train_Y, verbose=2)\n",
    "print(score)\n",
    "print(acc)"
   ]
  },
  {
   "cell_type": "code",
   "execution_count": 28,
   "id": "afe8334a-d8de-46ff-8746-67ad60c68336",
   "metadata": {},
   "outputs": [],
   "source": [
    "import matplotlib.pyplot as plt\n",
    "from mpl_toolkits.mplot3d import Axes3D\n",
    "from matplotlib import cm"
   ]
  },
  {
   "cell_type": "code",
   "execution_count": 29,
   "id": "6cc3fa34-4555-40ff-909a-184dd30d97b3",
   "metadata": {},
   "outputs": [],
   "source": [
    "(x_train, y_train), (x_test, y_test) = tf.keras.datasets.mnist.load_data()"
   ]
  },
  {
   "cell_type": "code",
   "execution_count": 30,
   "id": "73aedd88-537f-458e-93ad-ff504084f2de",
   "metadata": {},
   "outputs": [],
   "source": [
    "x_train = x_train.reshape(-1, 784)"
   ]
  },
  {
   "cell_type": "code",
   "execution_count": 31,
   "id": "12939428-4752-4db9-9940-909b762fb582",
   "metadata": {},
   "outputs": [
    {
     "data": {
      "text/plain": [
       "(60000, 784)"
      ]
     },
     "execution_count": 31,
     "metadata": {},
     "output_type": "execute_result"
    }
   ],
   "source": [
    "x_train.shape"
   ]
  },
  {
   "cell_type": "code",
   "execution_count": 32,
   "id": "1de946aa-fd33-434b-89a6-b96a05244f4d",
   "metadata": {},
   "outputs": [],
   "source": [
    "x_test = x_test[:300]\n",
    "y_test = y_test[:300]\n",
    "x_test = x_test.reshape(300, 784)"
   ]
  },
  {
   "cell_type": "code",
   "execution_count": 33,
   "id": "93520de4-3ab8-44b8-84f1-a0c88b616f9b",
   "metadata": {},
   "outputs": [],
   "source": [
    "x_train = x_train.astype('float32')\n",
    "x_test = x_test.astype('float32')\n",
    "gray_scale = 255\n",
    "x_train /= gray_scale\n",
    "x_test /= gray_scale"
   ]
  },
  {
   "cell_type": "code",
   "execution_count": 34,
   "id": "31561256-b542-4d6d-800e-06dded87c861",
   "metadata": {},
   "outputs": [],
   "source": [
    "encoding_dim = 3\n",
    "input_img = Input(shape=(784))\n",
    "encoded = Dense(encoding_dim, activation='relu')(input_img)\n",
    "decoded = Dense(784, activation='sigmoid')(encoded)\n",
    "autoencoder = Model(input_img, decoded)\n",
    "encoder = Model(input_img, encoded)\n",
    "encoded_input = Input(shape=(encoding_dim,))\n",
    "decoder_layer = autoencoder.layers[-1]\n",
    "decoder = Model(encoded_input, decoder_layer(encoded_input))\n",
    "autoencoder.compile(optimizer = 'adam', loss='binary_crossentropy')"
   ]
  },
  {
   "cell_type": "code",
   "execution_count": 35,
   "id": "da431da7-2261-4924-8e8c-7bb7d453bfc5",
   "metadata": {},
   "outputs": [
    {
     "name": "stdout",
     "output_type": "stream",
     "text": [
      "Epoch 1/30\n",
      "469/469 [==============================] - 2s 3ms/step - loss: 0.3216 - val_loss: 0.2506\n",
      "Epoch 2/30\n",
      "469/469 [==============================] - 1s 3ms/step - loss: 0.2422 - val_loss: 0.2283\n",
      "Epoch 3/30\n",
      "469/469 [==============================] - 1s 3ms/step - loss: 0.2323 - val_loss: 0.2239\n",
      "Epoch 4/30\n",
      "469/469 [==============================] - 1s 3ms/step - loss: 0.2290 - val_loss: 0.2210\n",
      "Epoch 5/30\n",
      "469/469 [==============================] - 1s 3ms/step - loss: 0.2268 - val_loss: 0.2191\n",
      "Epoch 6/30\n",
      "469/469 [==============================] - 1s 3ms/step - loss: 0.2251 - val_loss: 0.2170\n",
      "Epoch 7/30\n",
      "469/469 [==============================] - 1s 3ms/step - loss: 0.2235 - val_loss: 0.2157\n",
      "Epoch 8/30\n",
      "469/469 [==============================] - 1s 3ms/step - loss: 0.2221 - val_loss: 0.2138\n",
      "Epoch 9/30\n",
      "469/469 [==============================] - 1s 3ms/step - loss: 0.2207 - val_loss: 0.2120\n",
      "Epoch 10/30\n",
      "469/469 [==============================] - 1s 2ms/step - loss: 0.2195 - val_loss: 0.2105\n",
      "Epoch 11/30\n",
      "469/469 [==============================] - 1s 3ms/step - loss: 0.2185 - val_loss: 0.2095\n",
      "Epoch 12/30\n",
      "469/469 [==============================] - 1s 3ms/step - loss: 0.2175 - val_loss: 0.2086\n",
      "Epoch 13/30\n",
      "469/469 [==============================] - 1s 2ms/step - loss: 0.2167 - val_loss: 0.2075\n",
      "Epoch 14/30\n",
      "469/469 [==============================] - 1s 3ms/step - loss: 0.2160 - val_loss: 0.2067\n",
      "Epoch 15/30\n",
      "469/469 [==============================] - 1s 3ms/step - loss: 0.2154 - val_loss: 0.2063\n",
      "Epoch 16/30\n",
      "469/469 [==============================] - 1s 3ms/step - loss: 0.2148 - val_loss: 0.2059\n",
      "Epoch 17/30\n",
      "469/469 [==============================] - 1s 3ms/step - loss: 0.2143 - val_loss: 0.2057\n",
      "Epoch 18/30\n",
      "469/469 [==============================] - 1s 3ms/step - loss: 0.2139 - val_loss: 0.2051\n",
      "Epoch 19/30\n",
      "469/469 [==============================] - 1s 3ms/step - loss: 0.2135 - val_loss: 0.2051\n",
      "Epoch 20/30\n",
      "469/469 [==============================] - 1s 3ms/step - loss: 0.2132 - val_loss: 0.2048\n",
      "Epoch 21/30\n",
      "469/469 [==============================] - 1s 3ms/step - loss: 0.2129 - val_loss: 0.2048\n",
      "Epoch 22/30\n",
      "469/469 [==============================] - 1s 2ms/step - loss: 0.2126 - val_loss: 0.2046\n",
      "Epoch 23/30\n",
      "469/469 [==============================] - 1s 2ms/step - loss: 0.2123 - val_loss: 0.2044\n",
      "Epoch 24/30\n",
      "469/469 [==============================] - 1s 2ms/step - loss: 0.2121 - val_loss: 0.2043\n",
      "Epoch 25/30\n",
      "469/469 [==============================] - 1s 2ms/step - loss: 0.2119 - val_loss: 0.2041\n",
      "Epoch 26/30\n",
      "469/469 [==============================] - 1s 2ms/step - loss: 0.2117 - val_loss: 0.2039\n",
      "Epoch 27/30\n",
      "469/469 [==============================] - 1s 3ms/step - loss: 0.2116 - val_loss: 0.2040\n",
      "Epoch 28/30\n",
      "469/469 [==============================] - 1s 3ms/step - loss: 0.2114 - val_loss: 0.2038\n",
      "Epoch 29/30\n",
      "469/469 [==============================] - 1s 2ms/step - loss: 0.2113 - val_loss: 0.2037\n",
      "Epoch 30/30\n",
      "469/469 [==============================] - 1s 3ms/step - loss: 0.2112 - val_loss: 0.2036\n"
     ]
    },
    {
     "data": {
      "text/plain": [
       "<keras.src.callbacks.History at 0x221e408b190>"
      ]
     },
     "execution_count": 35,
     "metadata": {},
     "output_type": "execute_result"
    }
   ],
   "source": [
    "autoencoder.fit(x_train, x_train, epochs=30, batch_size = 128, shuffle=True, validation_data=(x_test, x_test))"
   ]
  },
  {
   "cell_type": "code",
   "execution_count": 36,
   "id": "ebb8ce54-83b3-4f6c-9094-89789f397ac9",
   "metadata": {},
   "outputs": [
    {
     "name": "stdout",
     "output_type": "stream",
     "text": [
      "10/10 [==============================] - 0s 1ms/step\n"
     ]
    }
   ],
   "source": [
    "encoded_imgs = encoder.predict(x_test)"
   ]
  },
  {
   "cell_type": "code",
   "execution_count": 37,
   "id": "446a21e5-b40e-4751-aadc-b250eaa94491",
   "metadata": {},
   "outputs": [
    {
     "name": "stdout",
     "output_type": "stream",
     "text": [
      "10/10 [==============================] - 0s 1ms/step\n"
     ]
    }
   ],
   "source": [
    "decoded_imgs = decoder.predict(encoded_imgs)"
   ]
  },
  {
   "cell_type": "code",
   "execution_count": 38,
   "id": "10db90b0-a706-4cf0-8a20-ffa16b0fc101",
   "metadata": {},
   "outputs": [
    {
     "data": {
      "text/plain": [
       "array([[ 7.0497046 ,  7.2775154 , 17.633495  ],\n",
       "       [ 2.6071482 ,  2.8017263 ,  0.        ],\n",
       "       [ 8.0734215 ,  0.58273077,  3.4936292 ],\n",
       "       [ 2.2189016 , 19.45354   ,  5.860818  ],\n",
       "       [ 1.6155276 ,  8.659602  ,  8.370229  ],\n",
       "       [ 8.952026  ,  0.8057711 ,  3.5358768 ],\n",
       "       [ 3.3799295 ,  9.101708  , 10.704846  ],\n",
       "       [ 2.0581336 ,  3.1700194 ,  7.243609  ],\n",
       "       [ 3.7077374 , 15.1418085 ,  6.722327  ],\n",
       "       [ 8.270588  , 21.911926  , 16.509245  ],\n",
       "       [ 0.99934673, 13.817356  ,  2.5945141 ],\n",
       "       [ 2.1183972 ,  9.068147  ,  4.2264433 ],\n",
       "       [ 5.8938465 , 11.047522  , 15.405067  ],\n",
       "       [ 1.0985224 , 14.426496  ,  5.949929  ],\n",
       "       [ 8.575014  ,  0.9411491 ,  4.3686037 ],\n",
       "       [ 1.79844   ,  4.3655043 ,  2.4961934 ],\n",
       "       [ 2.042477  ,  6.4858284 , 12.344392  ],\n",
       "       [ 4.9230266 ,  3.9689662 , 15.976494  ],\n",
       "       [ 0.        ,  0.        ,  2.8452153 ],\n",
       "       [ 3.4389458 ,  8.137166  ,  9.4358425 ],\n",
       "       [ 8.901547  , 18.893448  , 11.784725  ],\n",
       "       [ 2.3423219 ,  8.174843  ,  4.3203497 ],\n",
       "       [ 2.472389  ,  4.794158  ,  6.428709  ],\n",
       "       [ 6.36204   , 15.396218  ,  5.114613  ],\n",
       "       [ 2.7544992 ,  3.9884274 ,  8.317791  ],\n",
       "       [ 0.15651846, 30.921253  ,  4.573684  ],\n",
       "       [ 3.1436844 ,  0.29074454, 12.355309  ],\n",
       "       [ 2.4145303 , 11.766823  ,  9.771587  ],\n",
       "       [ 2.4620426 , 16.959503  ,  3.9078524 ],\n",
       "       [ 6.6653423 ,  2.2333326 ,  5.390912  ],\n",
       "       [ 5.057976  ,  7.100025  ,  5.813962  ],\n",
       "       [ 5.4994636 ,  0.16166902,  6.0624905 ],\n",
       "       [ 1.9867754 ,  0.31738353,  4.601572  ],\n",
       "       [ 1.2752533 , 15.369375  ,  4.9325686 ],\n",
       "       [ 8.176361  , 18.000877  ,  8.182436  ],\n",
       "       [ 3.0080895 , 13.108641  ,  0.46755695],\n",
       "       [ 2.7929554 ,  1.503432  , 13.900539  ],\n",
       "       [ 7.420944  ,  0.7220031 ,  5.874143  ],\n",
       "       [ 4.817577  ,  3.9854343 ,  0.57533264],\n",
       "       [ 8.751854  ,  2.3508525 ,  3.9746919 ],\n",
       "       [ 7.008134  ,  0.4283228 ,  4.990787  ],\n",
       "       [ 4.982548  ,  5.988056  , 12.125787  ],\n",
       "       [ 4.139764  ,  5.4940825 , 11.841538  ],\n",
       "       [ 4.915083  ,  5.1809855 ,  1.5590875 ],\n",
       "       [ 4.9823055 ,  5.199442  ,  4.6330156 ],\n",
       "       [ 4.2850113 , 11.78618   ,  3.7393622 ],\n",
       "       [ 3.5610476 ,  0.6966617 ,  5.0487022 ],\n",
       "       [ 3.8423758 ,  6.716034  ,  3.4832127 ],\n",
       "       [ 1.288136  , 11.86686   , 14.5525255 ],\n",
       "       [ 0.6618495 ,  7.448715  ,  9.03401   ],\n",
       "       [ 4.044994  , 10.098857  ,  3.328478  ],\n",
       "       [ 0.16105795,  1.9890839 ,  4.8157563 ],\n",
       "       [ 5.067834  , 16.431372  ,  7.069848  ],\n",
       "       [ 1.9825006 ,  3.0988204 ,  4.508038  ],\n",
       "       [ 0.        ,  4.2831173 ,  3.5213363 ],\n",
       "       [ 2.582634  , 16.083147  ,  5.2044516 ],\n",
       "       [ 0.        , 11.00782   ,  9.97176   ],\n",
       "       [ 8.00111   ,  0.        ,  3.8441045 ],\n",
       "       [ 3.4323184 ,  9.346012  , 15.534278  ],\n",
       "       [ 7.117597  , 10.826705  ,  6.638024  ],\n",
       "       [ 0.92353153,  0.        , 13.872325  ],\n",
       "       [ 5.79868   , 22.913588  ,  5.4601    ],\n",
       "       [ 3.7202444 ,  3.749387  ,  8.9606905 ],\n",
       "       [ 5.869009  , 10.747912  ,  3.428399  ],\n",
       "       [ 6.113057  , 16.963858  , 10.835783  ],\n",
       "       [ 4.494093  ,  6.4751425 ,  7.3279204 ],\n",
       "       [ 3.1741948 ,  8.933298  ,  5.2772527 ],\n",
       "       [ 2.183385  , 12.585086  ,  9.32048   ],\n",
       "       [ 3.4853344 ,  5.3226414 ,  4.5336013 ],\n",
       "       [ 0.        , 13.795075  ,  5.196626  ],\n",
       "       [ 4.928606  ,  3.70138   , 13.019676  ],\n",
       "       [ 0.        , 19.024452  ,  2.87249   ],\n",
       "       [ 2.569937  ,  9.539661  ,  0.        ],\n",
       "       [ 8.956288  , 18.946299  ,  5.2030125 ],\n",
       "       [ 8.337276  ,  2.6273327 ,  5.264552  ],\n",
       "       [ 6.057612  ,  2.8473613 , 14.102429  ],\n",
       "       [ 4.3424377 ,  2.3725154 ,  2.0776398 ],\n",
       "       [ 2.9959962 ,  3.2531872 ,  7.1037397 ],\n",
       "       [ 8.700159  ,  8.954631  ,  8.744243  ],\n",
       "       [ 8.460293  , 23.711128  , 15.509883  ],\n",
       "       [ 2.7940965 ,  3.1839159 , 13.190862  ],\n",
       "       [ 2.6518579 , 11.497833  ,  5.9804296 ],\n",
       "       [ 2.880138  , 11.524138  ,  0.        ],\n",
       "       [ 2.9018445 ,  2.294502  , 13.995931  ],\n",
       "       [ 4.0242863 ,  8.690596  ,  6.710849  ],\n",
       "       [ 0.50783443, 13.254393  , 11.205745  ],\n",
       "       [ 8.572693  ,  8.188844  , 14.952447  ],\n",
       "       [ 0.93167734,  4.1813555 ,  6.4044685 ],\n",
       "       [ 0.5025749 ,  9.213361  ,  6.0532746 ],\n",
       "       [ 9.210209  ,  2.9520612 ,  2.7459078 ],\n",
       "       [ 3.6828032 ,  8.6435375 ,  2.337368  ],\n",
       "       [ 3.8766122 ,  9.376951  ,  4.53409   ],\n",
       "       [ 7.289379  , 12.363139  ,  6.4961843 ],\n",
       "       [ 5.0565476 , 11.73342   ,  4.91659   ],\n",
       "       [ 6.095642  ,  3.0522928 ,  5.1990566 ],\n",
       "       [ 4.252657  , 16.813662  , 10.155832  ],\n",
       "       [ 4.683708  ,  1.2051775 ,  5.9064436 ],\n",
       "       [ 5.759713  ,  3.915774  ,  8.296335  ],\n",
       "       [ 2.9602215 , 10.716424  ,  3.170454  ],\n",
       "       [ 0.99307346,  5.1872478 , 11.94636   ],\n",
       "       [ 2.713379  ,  5.2847357 ,  4.872563  ],\n",
       "       [ 1.6395531 , 14.345142  ,  5.2001963 ],\n",
       "       [ 3.981186  , 15.120887  , 10.752259  ],\n",
       "       [ 0.58859444, 10.957291  ,  8.885481  ],\n",
       "       [ 0.        ,  0.63291955,  8.099317  ],\n",
       "       [ 3.040062  ,  6.267277  , 12.903672  ],\n",
       "       [ 1.8888848 , 13.200917  ,  0.91945505],\n",
       "       [ 7.55027   ,  4.4539223 ,  2.1231577 ],\n",
       "       [ 2.4820986 ,  5.7322254 , 10.749865  ],\n",
       "       [ 3.7334294 , 11.159363  ,  9.597076  ],\n",
       "       [ 6.5824428 , 15.053332  ,  2.1438053 ],\n",
       "       [ 8.209921  ,  2.4387317 ,  6.166551  ],\n",
       "       [ 5.760201  ,  5.1980753 ,  5.088944  ],\n",
       "       [ 3.971245  ,  4.5074997 , 13.287424  ],\n",
       "       [ 5.74364   ,  4.212993  ,  8.609938  ],\n",
       "       [ 6.068656  , 10.076631  ,  8.990339  ],\n",
       "       [ 4.2169867 ,  6.433593  ,  8.576311  ],\n",
       "       [ 1.583096  , 11.474254  ,  8.88986   ],\n",
       "       [ 5.4238086 ,  9.226142  , 11.470119  ],\n",
       "       [ 3.3596025 , 11.944811  ,  7.3214884 ],\n",
       "       [ 0.6497936 ,  8.379701  ,  5.6777306 ],\n",
       "       [ 5.4313536 , 13.7053585 ,  8.112143  ],\n",
       "       [ 2.9938734 ,  0.060341  ,  9.932215  ],\n",
       "       [ 3.3999314 , 11.500714  ,  5.3384156 ],\n",
       "       [ 4.3676896 ,  7.3464603 , 14.126986  ],\n",
       "       [ 2.9734502 ,  4.2039547 ,  7.326124  ],\n",
       "       [ 0.        ,  6.305539  ,  3.5514445 ],\n",
       "       [ 6.0913887 , 16.567932  ,  8.780115  ],\n",
       "       [ 4.0704265 ,  9.138247  ,  9.157467  ],\n",
       "       [ 6.158949  , 15.279283  ,  6.4132357 ],\n",
       "       [ 3.5826654 , 15.966946  ,  5.638894  ],\n",
       "       [ 3.9977307 , 20.075949  ,  3.2798386 ],\n",
       "       [ 1.5954623 , 10.285463  ,  2.8641644 ],\n",
       "       [ 3.504025  ,  8.726906  ,  9.304232  ],\n",
       "       [ 5.89206   , 13.449895  ,  5.4922433 ],\n",
       "       [ 8.778348  ,  0.87949586,  4.029315  ],\n",
       "       [ 2.337438  , 12.426929  ,  4.267416  ],\n",
       "       [ 9.2847595 ,  4.978347  ,  1.0090332 ],\n",
       "       [ 1.3375354 , 11.821349  ,  4.857646  ],\n",
       "       [ 6.327826  , 19.067055  , 11.219162  ],\n",
       "       [ 4.7557125 ,  8.242258  ,  4.528583  ],\n",
       "       [ 2.8379874 ,  0.        , 11.742644  ],\n",
       "       [ 2.1954255 ,  0.        ,  5.5488334 ],\n",
       "       [ 8.396451  ,  0.        ,  3.2776532 ],\n",
       "       [ 7.158189  , 13.350271  , 12.133406  ],\n",
       "       [ 6.453786  ,  2.103177  ,  5.6386976 ],\n",
       "       [ 5.413353  , 13.372753  ,  8.085777  ],\n",
       "       [ 2.0883856 , 18.654346  ,  0.8728013 ],\n",
       "       [ 3.0744808 , 14.73111   ,  3.9568777 ],\n",
       "       [ 4.044371  ,  2.7976103 ,  3.4243321 ],\n",
       "       [ 1.7910914 ,  6.9047747 ,  9.335256  ],\n",
       "       [ 0.16799355,  0.        ,  8.265687  ],\n",
       "       [ 7.358232  , 18.159424  ,  7.4286547 ],\n",
       "       [ 3.1831875 ,  7.458005  ,  3.728223  ],\n",
       "       [ 6.6802397 ,  0.9179224 ,  5.993764  ],\n",
       "       [ 7.1851883 , 21.846172  ,  6.2266426 ],\n",
       "       [ 0.53184986,  7.3506804 ,  6.2769175 ],\n",
       "       [ 2.0947824 , 10.797878  ,  5.809111  ],\n",
       "       [ 1.9362681 ,  0.6570015 ,  3.0855322 ],\n",
       "       [ 5.2688265 ,  6.4856663 ,  7.432314  ],\n",
       "       [ 2.96008   ,  6.560238  ,  9.666749  ],\n",
       "       [ 2.224526  , 15.212465  ,  2.7656646 ],\n",
       "       [ 3.8089793 , 17.082468  ,  4.8402863 ],\n",
       "       [ 0.        ,  8.031898  , 12.074064  ],\n",
       "       [ 3.4246416 ,  8.597305  ,  6.703415  ],\n",
       "       [ 0.4830265 ,  5.76526   ,  2.3849714 ],\n",
       "       [ 3.4711418 , 11.6743355 ,  8.014433  ],\n",
       "       [ 4.8493743 , 10.135159  ,  4.8867064 ],\n",
       "       [ 7.497775  ,  0.7773962 ,  4.964371  ],\n",
       "       [ 3.1260853 ,  6.641927  ,  9.701501  ],\n",
       "       [ 3.5767882 ,  6.382168  ,  8.926941  ],\n",
       "       [ 7.9310985 , 20.258003  ,  5.750102  ],\n",
       "       [ 4.002311  ,  9.523512  ,  0.        ],\n",
       "       [ 2.9705951 ,  4.1756487 ,  3.2262795 ],\n",
       "       [ 4.352485  ,  7.2991533 ,  2.7419426 ],\n",
       "       [ 6.1312394 ,  1.2908803 ,  7.1725187 ],\n",
       "       [ 7.4922667 ,  0.6649976 ,  4.5503488 ],\n",
       "       [ 4.0862455 ,  9.777758  ,  5.310205  ],\n",
       "       [ 8.561302  ,  0.        ,  4.8000507 ],\n",
       "       [ 4.3224616 ,  7.0420303 ,  2.1579022 ],\n",
       "       [ 7.779692  ,  0.        ,  5.502927  ],\n",
       "       [ 3.5115197 ,  4.7807207 ,  2.530877  ],\n",
       "       [ 5.511288  ,  8.787577  ,  6.677724  ],\n",
       "       [ 0.        , 17.885798  ,  1.872329  ],\n",
       "       [ 5.147212  , 10.341643  ,  2.980815  ],\n",
       "       [ 3.884244  , 12.673046  ,  9.688152  ],\n",
       "       [ 4.0219274 ,  2.7121422 ,  0.        ],\n",
       "       [ 2.1056848 ,  6.431698  ,  3.6766376 ],\n",
       "       [ 1.777926  , 23.687218  ,  4.216098  ],\n",
       "       [ 5.2010345 ,  0.99189126,  5.229913  ],\n",
       "       [ 9.146948  ,  5.2212486 ,  3.898776  ],\n",
       "       [ 4.972409  ,  2.1759148 ,  5.579503  ],\n",
       "       [ 6.0212746 , 26.092983  ,  2.796572  ],\n",
       "       [ 1.4159472 ,  0.        ,  9.392689  ],\n",
       "       [ 1.476486  , 15.811318  ,  5.384929  ],\n",
       "       [ 3.1234584 ,  0.03702271,  6.0778284 ],\n",
       "       [ 8.496011  ,  3.6280534 ,  4.1763744 ],\n",
       "       [ 6.6699047 , 16.677912  ,  3.6852987 ],\n",
       "       [ 3.5686593 ,  7.875778  , 11.212814  ],\n",
       "       [ 5.2905784 , 15.044803  ,  1.3190126 ],\n",
       "       [ 2.399393  , 16.49411   ,  0.        ],\n",
       "       [ 0.        , 12.011672  ,  4.8569174 ],\n",
       "       [ 7.836067  ,  2.577717  ,  2.4102426 ],\n",
       "       [ 6.864462  ,  0.10557544,  5.5709605 ],\n",
       "       [ 8.132267  ,  0.38063228,  3.8229747 ],\n",
       "       [ 3.8192537 ,  0.5927378 ,  4.454315  ],\n",
       "       [ 4.782929  ,  7.6720505 , 14.329884  ],\n",
       "       [ 0.9188938 ,  3.0413117 ,  4.9764357 ],\n",
       "       [ 3.4539618 ,  9.453511  ,  0.7005625 ],\n",
       "       [ 2.386867  ,  5.7964106 , 11.555603  ],\n",
       "       [ 1.4323616 ,  5.973407  , 10.682346  ],\n",
       "       [ 7.8388457 , 14.94923   ,  9.438944  ],\n",
       "       [ 0.        ,  0.        , 11.037331  ],\n",
       "       [ 6.892744  ,  2.8905036 ,  5.7732725 ],\n",
       "       [ 3.1636791 ,  6.2952394 , 12.919613  ],\n",
       "       [ 3.4487271 , 18.572514  ,  6.9267807 ],\n",
       "       [ 5.0765314 ,  7.528475  ,  2.9055803 ],\n",
       "       [ 7.808735  , 18.497372  ,  3.7213123 ],\n",
       "       [ 8.019668  , 16.141815  ,  9.098423  ],\n",
       "       [ 5.788697  , 16.458136  ,  3.4726095 ],\n",
       "       [ 1.4759173 ,  4.475643  , 15.714099  ],\n",
       "       [ 1.3217185 ,  6.7713404 ,  3.503909  ],\n",
       "       [ 0.32494307, 19.865633  ,  5.277715  ],\n",
       "       [ 7.720292  , 13.814246  , 15.4604645 ],\n",
       "       [ 6.4955587 ,  1.5262938 ,  3.494372  ],\n",
       "       [ 4.13206   ,  8.986724  ,  0.8777714 ],\n",
       "       [ 3.1684499 ,  6.931513  ,  7.0621476 ],\n",
       "       [ 4.6969056 ,  7.432764  ,  7.9162264 ],\n",
       "       [ 8.334036  ,  0.9446275 ,  1.8718944 ],\n",
       "       [ 6.2032204 ,  3.3992739 , 13.10303   ],\n",
       "       [ 5.5326877 ,  8.91331   ,  2.3811018 ],\n",
       "       [ 5.945708  ,  4.805936  ,  2.5330706 ],\n",
       "       [ 2.525282  ,  6.7644672 ,  3.0069067 ],\n",
       "       [ 5.263014  , 10.311923  , 14.886412  ],\n",
       "       [ 5.2826853 ,  3.5041244 ,  9.77384   ],\n",
       "       [ 3.03416   ,  3.831871  , 11.829245  ],\n",
       "       [ 2.7946563 ,  1.3650379 ,  3.8640847 ],\n",
       "       [ 4.729923  ,  6.277835  ,  1.0510688 ],\n",
       "       [ 2.9610314 , 12.760409  , 11.283625  ],\n",
       "       [ 7.543539  ,  0.13093328,  5.4258294 ],\n",
       "       [ 3.574341  ,  6.7585344 ,  3.3218071 ],\n",
       "       [ 0.8472328 ,  5.860882  ,  6.8535914 ],\n",
       "       [ 6.5047374 , 27.259548  ,  6.5201807 ],\n",
       "       [ 2.9828527 ,  1.2279427 , 11.068102  ],\n",
       "       [ 5.0218177 ,  3.9720619 ,  3.4703324 ],\n",
       "       [ 2.3068519 ,  5.20125   ,  4.5260096 ],\n",
       "       [ 0.        ,  9.132297  ,  2.8549755 ],\n",
       "       [ 5.408394  , 11.464953  ,  4.4585    ],\n",
       "       [ 0.83391905, 15.317525  , 12.154302  ],\n",
       "       [ 6.1497116 ,  4.753981  ,  0.22216892],\n",
       "       [ 2.593812  ,  9.191225  , 10.5299225 ],\n",
       "       [ 5.6522465 ,  2.532525  ,  5.8034916 ],\n",
       "       [ 3.6587095 ,  5.754348  , 15.495462  ],\n",
       "       [ 4.990167  , 11.410201  ,  4.096593  ],\n",
       "       [ 3.7987761 ,  0.        , 14.351393  ],\n",
       "       [ 3.877521  ,  0.        ,  9.688545  ],\n",
       "       [ 6.5665984 ,  4.2423882 ,  0.        ],\n",
       "       [ 6.4294457 ,  5.010384  ,  2.514479  ],\n",
       "       [ 1.4939456 , 10.152774  ,  0.7387657 ],\n",
       "       [ 0.47072458, 10.983045  ,  5.20318   ],\n",
       "       [ 5.92616   , 17.130465  ,  6.6826105 ],\n",
       "       [ 9.190987  , 12.403771  ,  3.6320024 ],\n",
       "       [ 3.4885778 ,  0.        , 14.846208  ],\n",
       "       [ 6.8713717 ,  1.0652864 , 17.17899   ],\n",
       "       [ 3.597417  ,  0.        ,  6.9954424 ],\n",
       "       [ 8.019337  ,  0.        ,  4.253673  ],\n",
       "       [ 3.8706167 , 15.995951  ,  3.1657574 ],\n",
       "       [ 7.9802933 ,  0.8894228 ,  5.346868  ],\n",
       "       [ 0.84008074, 10.020205  ,  4.376067  ],\n",
       "       [ 0.6798229 , 10.57067   ,  4.9511495 ],\n",
       "       [ 2.5781116 ,  0.35749197,  3.4168603 ],\n",
       "       [ 0.32179308, 14.388484  ,  5.6334057 ],\n",
       "       [ 7.3169937 ,  0.        ,  5.5946054 ],\n",
       "       [ 3.9165263 ,  9.761864  , 13.572357  ],\n",
       "       [ 0.        ,  0.        , 10.825969  ],\n",
       "       [ 1.8549652 , 10.092452  , 11.935636  ],\n",
       "       [ 9.079489  ,  0.4037671 ,  3.0187457 ],\n",
       "       [ 4.4205546 , 10.383161  ,  7.92409   ],\n",
       "       [ 3.1500053 ,  8.696029  ,  2.7938356 ],\n",
       "       [ 7.005843  ,  0.        ,  5.3190236 ],\n",
       "       [ 5.4600554 ,  5.7086954 ,  0.        ],\n",
       "       [ 5.867218  , 16.53551   , 12.691805  ],\n",
       "       [ 5.951429  ,  3.688645  ,  6.9142437 ],\n",
       "       [ 7.9795165 , 15.103648  ,  8.241813  ],\n",
       "       [ 1.5031478 ,  5.0464544 ,  9.49803   ],\n",
       "       [ 2.3108072 ,  0.        ,  1.0866675 ],\n",
       "       [ 4.709836  ,  8.75316   ,  3.6051316 ],\n",
       "       [ 0.        ,  5.80441   ,  7.963046  ],\n",
       "       [ 9.047644  ,  3.3651724 ,  3.458315  ],\n",
       "       [ 1.498137  ,  1.6387125 ,  4.05612   ],\n",
       "       [ 1.911982  ,  1.5029795 ,  7.7197704 ],\n",
       "       [ 4.05187   ,  8.546141  ,  0.        ],\n",
       "       [ 2.0285864 ,  4.6688375 , 12.484209  ],\n",
       "       [ 2.9659615 ,  4.0378017 ,  3.9599762 ],\n",
       "       [ 1.8625238 , 12.738458  ,  4.5946918 ],\n",
       "       [ 1.8189521 ,  5.436601  ,  8.414379  ],\n",
       "       [ 0.        , 23.808918  ,  2.3769755 ],\n",
       "       [ 0.        , 12.084748  ,  4.704051  ],\n",
       "       [ 3.2594137 , 10.358504  ,  0.2758875 ],\n",
       "       [ 5.140867  ,  9.646054  ,  2.8025427 ]], dtype=float32)"
      ]
     },
     "execution_count": 38,
     "metadata": {},
     "output_type": "execute_result"
    }
   ],
   "source": [
    "encoded_imgs"
   ]
  },
  {
   "cell_type": "code",
   "execution_count": 39,
   "id": "e8bcf2a4-df40-42c0-8b7b-521ea21f2283",
   "metadata": {},
   "outputs": [],
   "source": [
    "from pylab import rcParams"
   ]
  },
  {
   "cell_type": "code",
   "execution_count": 40,
   "id": "1bf799b8-a314-4b60-a017-661980493110",
   "metadata": {},
   "outputs": [
    {
     "data": {
      "image/png": "[encoded data removed]",
      "text/plain": [
       "<Figure size 1000x800 with 1 Axes>"
      ]
     },
     "metadata": {},
     "output_type": "display_data"
    }
   ],
   "source": [
    "rcParams['figure.figsize'] = 10, 8\n",
    "fig = plt.figure(figsize=(10, 8))\n",
    "ax = fig.add_subplot(111, projection = '3d')\n",
    "\n",
    "xs = encoded_imgs[:, 0]\n",
    "ys = encoded_imgs[:, 1]\n",
    "zs = encoded_imgs[:, 2]\n",
    "color = ['red', 'green', 'blue','lime','white', 'pink', 'aqua', 'violet', 'gold','coral']\n",
    "\n",
    "for x, y, z, label in zip(xs, ys, zs, y_test):\n",
    "    c = color[int(label)]\n",
    "    ax.text(x, y, z, label, backgroundcolor=c)\n",
    "    \n",
    "ax.set_xlim(xs.min(), xs.max())\n",
    "ax.set_ylim(xs.min(), ys.max())\n",
    "ax.set_zlim(xs.min(), zs.max())\n",
    "plt.show()"
   ]
  },
  {
   "cell_type": "code",
   "execution_count": 41,
   "id": "17eb4c02-f653-4fb4-96fc-1ed1303c3da3",
   "metadata": {},
   "outputs": [
    {
     "data": {
      "image/png": "[encoded data removed]",
      "text/plain": [
       "<Figure size 2000x400 with 20 Axes>"
      ]
     },
     "metadata": {},
     "output_type": "display_data"
    }
   ],
   "source": [
    "n = 10\n",
    "plt.figure(figsize = (20, 4))\n",
    "for i in range(n):\n",
    "    ax = plt.subplot(2, n, i+1)\n",
    "    plt.imshow(x_test[i].reshape(28, 28))\n",
    "    plt.gray()\n",
    "    ax.get_xaxis().set_visible(False)\n",
    "    ax.get_yaxis().set_visible(False)\n",
    "\n",
    "    ax = plt.subplot(2, n, i+1+n)\n",
    "    plt.imshow(decoded_imgs[i].reshape(28, 28))\n",
    "    plt.gray()\n",
    "    ax.get_xaxis().set_visible(False)\n",
    "    ax.get_yaxis().set_visible(False)\n",
    "    \n",
    "plt.show()"
   ]
  },
  {
   "cell_type": "code",
   "execution_count": 42,
   "id": "04d8022e-ec6e-427e-a6c4-0b64c7a678c9",
   "metadata": {},
   "outputs": [],
   "source": [
    "corpus = ['king is a strong man', \n",
    "          'queen is a wise woman', \n",
    "          'boy is a young man',\n",
    "          'girl is a young woman',\n",
    "          'prince is a young king',\n",
    "          'princess is a young queen',\n",
    "          'man is strong', \n",
    "          'woman is pretty',\n",
    "          'prince is a boy will be king',\n",
    "          'princess is a girl will be queen']"
   ]
  },
  {
   "cell_type": "code",
   "execution_count": 43,
   "id": "c3220f3d-1717-4c34-af4f-d29725be1d8c",
   "metadata": {},
   "outputs": [],
   "source": [
    "def remove_stop_words(corpus):\n",
    "    stop_words = ['is', 'a', 'will', 'be']\n",
    "    results =[]\n",
    "    for text in corpus:\n",
    "        tmp = text.split(' ')\n",
    "        for stop_word in stop_words:\n",
    "            if stop_word in tmp:\n",
    "                tmp.remove(stop_word)\n",
    "        results.append(' '.join(tmp))\n",
    "    return results\n",
    "\n",
    "corpus = remove_stop_words(corpus)"
   ]
  },
  {
   "cell_type": "code",
   "execution_count": 44,
   "id": "6ddc9830-0911-4c63-a1f5-327ca6865c07",
   "metadata": {},
   "outputs": [
    {
     "data": {
      "text/plain": [
       "['king strong man',\n",
       " 'queen wise woman',\n",
       " 'boy young man',\n",
       " 'girl young woman',\n",
       " 'prince young king',\n",
       " 'princess young queen',\n",
       " 'man strong',\n",
       " 'woman pretty',\n",
       " 'prince boy king',\n",
       " 'princess girl queen']"
      ]
     },
     "execution_count": 44,
     "metadata": {},
     "output_type": "execute_result"
    }
   ],
   "source": [
    "corpus"
   ]
  },
  {
   "cell_type": "code",
   "execution_count": 45,
   "id": "45946425-6687-4fe5-bd46-79b4f6b6bd5c",
   "metadata": {},
   "outputs": [
    {
     "data": {
      "text/plain": [
       "{'boy',\n",
       " 'girl',\n",
       " 'king',\n",
       " 'man',\n",
       " 'pretty',\n",
       " 'prince',\n",
       " 'princess',\n",
       " 'queen',\n",
       " 'strong',\n",
       " 'wise',\n",
       " 'woman',\n",
       " 'young'}"
      ]
     },
     "execution_count": 45,
     "metadata": {},
     "output_type": "execute_result"
    }
   ],
   "source": [
    "words = []\n",
    "for text in corpus:\n",
    "    for word in text.split(' '):\n",
    "        words.append(word)\n",
    "words = set(words)\n",
    "words"
   ]
  },
  {
   "cell_type": "code",
   "execution_count": 46,
   "id": "88d821a1-3fa6-473b-9dce-c8d3d4836ba7",
   "metadata": {},
   "outputs": [
    {
     "data": {
      "text/plain": [
       "{'strong': 0,\n",
       " 'pretty': 1,\n",
       " 'queen': 2,\n",
       " 'woman': 3,\n",
       " 'prince': 4,\n",
       " 'girl': 5,\n",
       " 'young': 6,\n",
       " 'boy': 7,\n",
       " 'man': 8,\n",
       " 'princess': 9,\n",
       " 'wise': 10,\n",
       " 'king': 11}"
      ]
     },
     "execution_count": 46,
     "metadata": {},
     "output_type": "execute_result"
    }
   ],
   "source": [
    "word2int = {}\n",
    "for i, word in enumerate(words):\n",
    "    word2int[word] = i\n",
    "word2int"
   ]
  },
  {
   "cell_type": "code",
   "execution_count": 47,
   "id": "820771a0-3779-44c4-9171-90c704176de8",
   "metadata": {},
   "outputs": [],
   "source": [
    "sentences = []\n",
    "for sentence in corpus:\n",
    "    sentences.append(sentence.split())"
   ]
  },
  {
   "cell_type": "code",
   "execution_count": 48,
   "id": "d825cba8-087d-454b-ac79-00e91935cdeb",
   "metadata": {},
   "outputs": [
    {
     "data": {
      "text/plain": [
       "[['king', 'strong', 'man'],\n",
       " ['queen', 'wise', 'woman'],\n",
       " ['boy', 'young', 'man'],\n",
       " ['girl', 'young', 'woman'],\n",
       " ['prince', 'young', 'king'],\n",
       " ['princess', 'young', 'queen'],\n",
       " ['man', 'strong'],\n",
       " ['woman', 'pretty'],\n",
       " ['prince', 'boy', 'king'],\n",
       " ['princess', 'girl', 'queen']]"
      ]
     },
     "execution_count": 48,
     "metadata": {},
     "output_type": "execute_result"
    }
   ],
   "source": [
    "sentences"
   ]
  },
  {
   "cell_type": "code",
   "execution_count": 49,
   "id": "f3d24d7f-ad8b-47a5-b0b2-61e6634a9a5d",
   "metadata": {},
   "outputs": [],
   "source": [
    "win_size = 2\n",
    "data = []\n",
    "for sentence in sentences:\n",
    "    for idx, word in enumerate(sentence):\n",
    "        for neighbor in sentence[max(idx-win_size, 0): min(idx+win_size, len(sentence)-1) +1]:\n",
    "            if neighbor != word:\n",
    "                data.append([word, neighbor])"
   ]
  },
  {
   "cell_type": "code",
   "execution_count": 50,
   "id": "b6a0d12f-a586-4030-b8a7-81a53257763c",
   "metadata": {},
   "outputs": [
    {
     "data": {
      "text/plain": [
       "[['king', 'strong'],\n",
       " ['king', 'man'],\n",
       " ['strong', 'king'],\n",
       " ['strong', 'man'],\n",
       " ['man', 'king'],\n",
       " ['man', 'strong'],\n",
       " ['queen', 'wise'],\n",
       " ['queen', 'woman'],\n",
       " ['wise', 'queen'],\n",
       " ['wise', 'woman'],\n",
       " ['woman', 'queen'],\n",
       " ['woman', 'wise'],\n",
       " ['boy', 'young'],\n",
       " ['boy', 'man'],\n",
       " ['young', 'boy'],\n",
       " ['young', 'man'],\n",
       " ['man', 'boy'],\n",
       " ['man', 'young'],\n",
       " ['girl', 'young'],\n",
       " ['girl', 'woman'],\n",
       " ['young', 'girl'],\n",
       " ['young', 'woman'],\n",
       " ['woman', 'girl'],\n",
       " ['woman', 'young'],\n",
       " ['prince', 'young'],\n",
       " ['prince', 'king'],\n",
       " ['young', 'prince'],\n",
       " ['young', 'king'],\n",
       " ['king', 'prince'],\n",
       " ['king', 'young'],\n",
       " ['princess', 'young'],\n",
       " ['princess', 'queen'],\n",
       " ['young', 'princess'],\n",
       " ['young', 'queen'],\n",
       " ['queen', 'princess'],\n",
       " ['queen', 'young'],\n",
       " ['man', 'strong'],\n",
       " ['strong', 'man'],\n",
       " ['woman', 'pretty'],\n",
       " ['pretty', 'woman'],\n",
       " ['prince', 'boy'],\n",
       " ['prince', 'king'],\n",
       " ['boy', 'prince'],\n",
       " ['boy', 'king'],\n",
       " ['king', 'prince'],\n",
       " ['king', 'boy'],\n",
       " ['princess', 'girl'],\n",
       " ['princess', 'queen'],\n",
       " ['girl', 'princess'],\n",
       " ['girl', 'queen'],\n",
       " ['queen', 'princess'],\n",
       " ['queen', 'girl']]"
      ]
     },
     "execution_count": 50,
     "metadata": {},
     "output_type": "execute_result"
    }
   ],
   "source": [
    "data"
   ]
  },
  {
   "cell_type": "code",
   "execution_count": 51,
   "id": "955626c8-c690-434a-ab39-e809950cbae7",
   "metadata": {},
   "outputs": [
    {
     "data": {
      "text/html": [
       "<div>\n",
       "<style scoped>\n",
       "    .dataframe tbody tr th:only-of-type {\n",
       "        vertical-align: middle;\n",
       "    }\n",
       "\n",
       "    .dataframe tbody tr th {\n",
       "        vertical-align: top;\n",
       "    }\n",
       "\n",
       "    .dataframe thead th {\n",
       "        text-align: right;\n",
       "    }\n",
       "</style>\n",
       "<table border=\"1\" class=\"dataframe\">\n",
       "  <thead>\n",
       "    <tr style=\"text-align: right;\">\n",
       "      <th></th>\n",
       "      <th>input</th>\n",
       "      <th>label</th>\n",
       "    </tr>\n",
       "  </thead>\n",
       "  <tbody>\n",
       "    <tr>\n",
       "      <th>0</th>\n",
       "      <td>king</td>\n",
       "      <td>strong</td>\n",
       "    </tr>\n",
       "    <tr>\n",
       "      <th>1</th>\n",
       "      <td>king</td>\n",
       "      <td>man</td>\n",
       "    </tr>\n",
       "    <tr>\n",
       "      <th>2</th>\n",
       "      <td>strong</td>\n",
       "      <td>king</td>\n",
       "    </tr>\n",
       "    <tr>\n",
       "      <th>3</th>\n",
       "      <td>strong</td>\n",
       "      <td>man</td>\n",
       "    </tr>\n",
       "    <tr>\n",
       "      <th>4</th>\n",
       "      <td>man</td>\n",
       "      <td>king</td>\n",
       "    </tr>\n",
       "    <tr>\n",
       "      <th>5</th>\n",
       "      <td>man</td>\n",
       "      <td>strong</td>\n",
       "    </tr>\n",
       "    <tr>\n",
       "      <th>6</th>\n",
       "      <td>queen</td>\n",
       "      <td>wise</td>\n",
       "    </tr>\n",
       "    <tr>\n",
       "      <th>7</th>\n",
       "      <td>queen</td>\n",
       "      <td>woman</td>\n",
       "    </tr>\n",
       "    <tr>\n",
       "      <th>8</th>\n",
       "      <td>wise</td>\n",
       "      <td>queen</td>\n",
       "    </tr>\n",
       "    <tr>\n",
       "      <th>9</th>\n",
       "      <td>wise</td>\n",
       "      <td>woman</td>\n",
       "    </tr>\n",
       "  </tbody>\n",
       "</table>\n",
       "</div>"
      ],
      "text/plain": [
       "    input   label\n",
       "0    king  strong\n",
       "1    king     man\n",
       "2  strong    king\n",
       "3  strong     man\n",
       "4     man    king\n",
       "5     man  strong\n",
       "6   queen    wise\n",
       "7   queen   woman\n",
       "8    wise   queen\n",
       "9    wise   woman"
      ]
     },
     "execution_count": 51,
     "metadata": {},
     "output_type": "execute_result"
    }
   ],
   "source": [
    "df = pd.DataFrame(data, columns = ['input', 'label'])\n",
    "df.head(10)"
   ]
  },
  {
   "cell_type": "code",
   "execution_count": 52,
   "id": "08558a69-bc6f-42b4-86ff-d8b55f9a14cf",
   "metadata": {},
   "outputs": [],
   "source": [
    "one_hot_dim = len(words)"
   ]
  },
  {
   "cell_type": "code",
   "execution_count": 53,
   "id": "1bbe9fdd-d431-4c39-b48a-8e23b2a6e968",
   "metadata": {},
   "outputs": [
    {
     "data": {
      "text/plain": [
       "12"
      ]
     },
     "execution_count": 53,
     "metadata": {},
     "output_type": "execute_result"
    }
   ],
   "source": [
    "one_hot_dim"
   ]
  },
  {
   "cell_type": "code",
   "execution_count": 54,
   "id": "1f62f133-32f7-45a9-bc39-4d5789adcfa1",
   "metadata": {},
   "outputs": [],
   "source": [
    "def to_one_hot_encoding(data_point_index):\n",
    "    one_hot_encoding = np.zeros(one_hot_dim)\n",
    "    one_hot_encoding[data_point_index]=1\n",
    "    return one_hot_encoding\n",
    "\n",
    "X = []\n",
    "Y = []\n",
    "\n",
    "for x, y in zip(df['input'], df['label']):\n",
    "    X.append(to_one_hot_encoding(word2int[ x ]))\n",
    "    Y.append(to_one_hot_encoding(word2int[ y ]))\n",
    "\n",
    "X_train = np.asarray(X)\n",
    "Y_train = np.asarray(Y)\n",
    "\n",
    "encoding_dim = 2\n",
    "input_word = Input(shape=(one_hot_dim))\n",
    "encoded = Dense(encoding_dim, use_bias=False)(input_word)\n",
    "decoded = Dense(one_hot_dim, activation='softmax')(encoded)\n",
    "w2v_model = Model(input_word, decoded)\n",
    "w2v_model.compile(optimizer = 'adam', loss='categorical_crossentropy')"
   ]
  },
  {
   "cell_type": "code",
   "execution_count": 55,
   "id": "27987f09-1510-4352-affd-84498f27084f",
   "metadata": {},
   "outputs": [
    {
     "data": {
      "text/plain": [
       "<keras.src.callbacks.History at 0x221ebb9c150>"
      ]
     },
     "execution_count": 55,
     "metadata": {},
     "output_type": "execute_result"
    }
   ],
   "source": [
    "w2v_model.fit(X_train, Y_train, epochs=1000, shuffle=True, verbose=0)"
   ]
  },
  {
   "cell_type": "code",
   "execution_count": 56,
   "id": "4362a8df-601f-48cb-bee9-3bb30d628024",
   "metadata": {},
   "outputs": [
    {
     "name": "stdout",
     "output_type": "stream",
     "text": [
      "Model: \"model_6\"\n",
      "_________________________________________________________________\n",
      " Layer (type)                Output Shape              Param #   \n",
      "=================================================================\n",
      " input_6 (InputLayer)        [(None, 12)]              0         \n",
      "                                                                 \n",
      " dense_4 (Dense)             (None, 2)                 24        \n",
      "                                                                 \n",
      " dense_5 (Dense)             (None, 12)                36        \n",
      "                                                                 \n",
      "=================================================================\n",
      "Total params: 60 (240.00 Byte)\n",
      "Trainable params: 60 (240.00 Byte)\n",
      "Non-trainable params: 0 (0.00 Byte)\n",
      "_________________________________________________________________\n"
     ]
    }
   ],
   "source": [
    "w2v_model.summary()"
   ]
  },
  {
   "cell_type": "code",
   "execution_count": 57,
   "id": "df0214b4-2aaa-4fd8-bed1-230d74b32307",
   "metadata": {},
   "outputs": [],
   "source": [
    "vectors = w2v_model.layers[1].weights[0].numpy().tolist()"
   ]
  },
  {
   "cell_type": "code",
   "execution_count": 58,
   "id": "d6fb59a2-4b0d-4c0b-8e99-772cbb962029",
   "metadata": {},
   "outputs": [
    {
     "data": {
      "text/html": [
       "<div>\n",
       "<style scoped>\n",
       "    .dataframe tbody tr th:only-of-type {\n",
       "        vertical-align: middle;\n",
       "    }\n",
       "\n",
       "    .dataframe tbody tr th {\n",
       "        vertical-align: top;\n",
       "    }\n",
       "\n",
       "    .dataframe thead th {\n",
       "        text-align: right;\n",
       "    }\n",
       "</style>\n",
       "<table border=\"1\" class=\"dataframe\">\n",
       "  <thead>\n",
       "    <tr style=\"text-align: right;\">\n",
       "      <th></th>\n",
       "      <th>x1</th>\n",
       "      <th>x2</th>\n",
       "      <th>word</th>\n",
       "    </tr>\n",
       "  </thead>\n",
       "  <tbody>\n",
       "    <tr>\n",
       "      <th>0</th>\n",
       "      <td>-1.771075</td>\n",
       "      <td>-0.090414</td>\n",
       "      <td>strong</td>\n",
       "    </tr>\n",
       "    <tr>\n",
       "      <th>1</th>\n",
       "      <td>0.555128</td>\n",
       "      <td>1.911114</td>\n",
       "      <td>pretty</td>\n",
       "    </tr>\n",
       "    <tr>\n",
       "      <th>2</th>\n",
       "      <td>1.814285</td>\n",
       "      <td>0.823352</td>\n",
       "      <td>queen</td>\n",
       "    </tr>\n",
       "    <tr>\n",
       "      <th>3</th>\n",
       "      <td>0.892320</td>\n",
       "      <td>0.697244</td>\n",
       "      <td>woman</td>\n",
       "    </tr>\n",
       "    <tr>\n",
       "      <th>4</th>\n",
       "      <td>0.029812</td>\n",
       "      <td>-1.531009</td>\n",
       "      <td>prince</td>\n",
       "    </tr>\n",
       "    <tr>\n",
       "      <th>5</th>\n",
       "      <td>0.835623</td>\n",
       "      <td>1.006042</td>\n",
       "      <td>girl</td>\n",
       "    </tr>\n",
       "    <tr>\n",
       "      <th>6</th>\n",
       "      <td>-0.449165</td>\n",
       "      <td>0.410985</td>\n",
       "      <td>young</td>\n",
       "    </tr>\n",
       "    <tr>\n",
       "      <th>7</th>\n",
       "      <td>-0.874790</td>\n",
       "      <td>-0.391380</td>\n",
       "      <td>boy</td>\n",
       "    </tr>\n",
       "    <tr>\n",
       "      <th>8</th>\n",
       "      <td>0.472806</td>\n",
       "      <td>-1.388614</td>\n",
       "      <td>man</td>\n",
       "    </tr>\n",
       "    <tr>\n",
       "      <th>9</th>\n",
       "      <td>0.219672</td>\n",
       "      <td>1.122126</td>\n",
       "      <td>princess</td>\n",
       "    </tr>\n",
       "    <tr>\n",
       "      <th>10</th>\n",
       "      <td>-0.165164</td>\n",
       "      <td>2.176789</td>\n",
       "      <td>wise</td>\n",
       "    </tr>\n",
       "    <tr>\n",
       "      <th>11</th>\n",
       "      <td>-0.663806</td>\n",
       "      <td>-0.487984</td>\n",
       "      <td>king</td>\n",
       "    </tr>\n",
       "  </tbody>\n",
       "</table>\n",
       "</div>"
      ],
      "text/plain": [
       "          x1        x2      word\n",
       "0  -1.771075 -0.090414    strong\n",
       "1   0.555128  1.911114    pretty\n",
       "2   1.814285  0.823352     queen\n",
       "3   0.892320  0.697244     woman\n",
       "4   0.029812 -1.531009    prince\n",
       "5   0.835623  1.006042      girl\n",
       "6  -0.449165  0.410985     young\n",
       "7  -0.874790 -0.391380       boy\n",
       "8   0.472806 -1.388614       man\n",
       "9   0.219672  1.122126  princess\n",
       "10 -0.165164  2.176789      wise\n",
       "11 -0.663806 -0.487984      king"
      ]
     },
     "execution_count": 58,
     "metadata": {},
     "output_type": "execute_result"
    }
   ],
   "source": [
    "w2v_df = pd.DataFrame(vectors, columns = ['x1', 'x2'])\n",
    "w2v_df['word'] = list(words)\n",
    "w2v_df"
   ]
  },
  {
   "cell_type": "code",
   "execution_count": 59,
   "id": "2e3f1d4b-fc98-4985-bfe9-2bb056b0b3ef",
   "metadata": {},
   "outputs": [
    {
     "data": {
      "image/png": "[encoded data removed]",
      "text/plain": [
       "<Figure size 1000x800 with 1 Axes>"
      ]
     },
     "metadata": {},
     "output_type": "display_data"
    }
   ],
   "source": [
    "fig, ax = plt.subplots()\n",
    "for word, x1, x2 in zip(w2v_df['word'], w2v_df['x1'], w2v_df['x2']):\n",
    "    ax.annotate(word, (x1, x2))\n",
    "padding = 1.0\n",
    "x_axis_min = np.amin(vectors, axis = 0)[0]-padding\n",
    "y_axis_min = np.amin(vectors, axis = 0)[1]-padding\n",
    "x_axis_max = np.amax(vectors, axis = 0)[0]+padding\n",
    "y_axis_max = np.amax(vectors, axis = 0)[1]+padding\n",
    "plt.xlim(x_axis_min, x_axis_max)\n",
    "plt.ylim(y_axis_min, y_axis_max)\n",
    "\n",
    "plt.show()"
   ]
  },
  {
   "cell_type": "code",
   "execution_count": 60,
   "id": "93d534bd-b9d4-4af0-9e8d-d81b76e6258b",
   "metadata": {},
   "outputs": [],
   "source": [
    "import gensim"
   ]
  },
  {
   "cell_type": "code",
   "execution_count": 61,
   "id": "a2c8b15d-1e67-4d3a-9c8b-b78364479e45",
   "metadata": {},
   "outputs": [],
   "source": [
    "model = gensim.models.KeyedVectors.load_word2vec_format(\"GoogleNews-vectors-negative300.bin.gz\", binary=True)"
   ]
  },
  {
   "cell_type": "code",
   "execution_count": 62,
   "id": "3c557937-eb56-4e66-a361-47dbb3c50949",
   "metadata": {},
   "outputs": [
    {
     "data": {
      "text/plain": [
       "[('coffees', 0.721267819404602),\n",
       " ('gourmet_coffee', 0.7057086825370789),\n",
       " ('Coffee', 0.6900455951690674),\n",
       " ('o_joe', 0.6891065835952759),\n",
       " ('Starbucks_coffee', 0.6874972581863403)]"
      ]
     },
     "execution_count": 62,
     "metadata": {},
     "output_type": "execute_result"
    }
   ],
   "source": [
    "model.most_similar(positive=['coffee'], topn=5)"
   ]
  },
  {
   "cell_type": "code",
   "execution_count": 63,
   "id": "4af03e51-af6e-4ec5-9fee-bb2b0830de14",
   "metadata": {
    "scrolled": true
   },
   "outputs": [
    {
     "data": {
      "text/plain": [
       "[('queen', 0.7118193507194519)]"
      ]
     },
     "execution_count": 63,
     "metadata": {},
     "output_type": "execute_result"
    }
   ],
   "source": [
    "# 왕-남자+여자 =여자\n",
    "model.most_similar(positive=['king', 'woman'], negative=['man'], topn=1)"
   ]
  },
  {
   "cell_type": "code",
   "execution_count": 64,
   "id": "ce00ab3f-1ae8-47eb-8aa0-488de0f0f56b",
   "metadata": {},
   "outputs": [],
   "source": [
    "from gensim.models.fasttext import FastText as FT_gensim"
   ]
  },
  {
   "cell_type": "code",
   "execution_count": 68,
   "id": "2bdb4725-200a-42fb-8e79-75d46a8639a0",
   "metadata": {},
   "outputs": [],
   "source": [
    "texts = [\n",
    "    ['smart', 'student', 'college'],\n",
    "    ['phone', 'call'],\n",
    "    ['phone', 'talk', 'friend'],\n",
    "    ['phone', 'chat', 'friend'],\n",
    "    ['smart', 'girl', 'intelligent'],\n",
    "    ['smart', 'idea']\n",
    "]"
   ]
  },
  {
   "cell_type": "code",
   "execution_count": 71,
   "id": "95b2493f-1f92-44fe-9cd0-956daa5172ea",
   "metadata": {},
   "outputs": [
    {
     "data": {
      "text/plain": [
       "(171, 1600)"
      ]
     },
     "execution_count": 71,
     "metadata": {},
     "output_type": "execute_result"
    }
   ],
   "source": [
    "model = FT_gensim(vector_size=2, window=2, min_count=1)\n",
    "model.build_vocab(corpus_iterable= texts)\n",
    "model.train(corpus_iterable= texts, total_examples=len(texts), epochs=100)"
   ]
  },
  {
   "cell_type": "code",
   "execution_count": 73,
   "id": "d8d58f2c-5187-45a8-a645-da6ee51eba5f",
   "metadata": {},
   "outputs": [
    {
     "data": {
      "text/plain": [
       "array([-0.0412031 , -0.02069003], dtype=float32)"
      ]
     },
     "execution_count": 73,
     "metadata": {},
     "output_type": "execute_result"
    }
   ],
   "source": [
    "model.wv['smartphone']"
   ]
  },
  {
   "cell_type": "code",
   "execution_count": 74,
   "id": "94774641-2411-4e7e-adbe-38ce887986a1",
   "metadata": {},
   "outputs": [
    {
     "data": {
      "text/plain": [
       "[('smart', 0.9863476157188416),\n",
       " ('chat', 0.6401960253715515),\n",
       " ('intelligent', 0.45944538712501526)]"
      ]
     },
     "execution_count": 74,
     "metadata": {},
     "output_type": "execute_result"
    }
   ],
   "source": [
    "model.wv.most_similar(positive=['smartphone'], topn=3)"
   ]
  },
  {
   "cell_type": "code",
   "execution_count": 75,
   "id": "f9d93dcb-0420-4bd8-9966-4fc862d90b00",
   "metadata": {},
   "outputs": [
    {
     "data": {
      "text/plain": [
       "[('talk', 0.9999616146087646),\n",
       " ('student', 0.9636636972427368),\n",
       " ('phone', 0.9458320736885071)]"
      ]
     },
     "execution_count": 75,
     "metadata": {},
     "output_type": "execute_result"
    }
   ],
   "source": [
    "model.wv.most_similar(positive=['friends'], topn=3)"
   ]
  },
  {
   "cell_type": "code",
   "execution_count": 76,
   "id": "cbd67237-5c6b-44cf-bd3f-2e8f617f43f3",
   "metadata": {},
   "outputs": [
    {
     "data": {
      "text/plain": [
       "[('call', 0.9201403856277466),\n",
       " ('idea', 0.8094455003738403),\n",
       " ('talk', 0.22262392938137054)]"
      ]
     },
     "execution_count": 76,
     "metadata": {},
     "output_type": "execute_result"
    }
   ],
   "source": [
    "model.wv.most_similar(positive=['girl'], topn=3)"
   ]
  },
  {
   "cell_type": "code",
   "execution_count": 77,
   "id": "3af41bb5-cd94-43a8-afa4-3714bae1b2ce",
   "metadata": {},
   "outputs": [],
   "source": [
    "from gensim.test.utils import datapath, get_tmpfile\n",
    "from gensim.models import KeyedVectors\n",
    "from gensim.scripts.glove2word2vec import glove2word2vec"
   ]
  },
  {
   "cell_type": "code",
   "execution_count": 78,
   "id": "e408710f-a0a0-4921-b2f6-3f6df8587dc1",
   "metadata": {},
   "outputs": [],
   "source": [
    "tmp_file = get_tmpfile(\"test_word2vec.txt\")"
   ]
  },
  {
   "cell_type": "code",
   "execution_count": 84,
   "id": "6095b1b2-216c-4c68-8c7f-d5779935a48f",
   "metadata": {},
   "outputs": [
    {
     "name": "stderr",
     "output_type": "stream",
     "text": [
      "C:\\Users\\bbong\\AppData\\Local\\Temp\\ipykernel_13272\\2822972168.py:1: DeprecationWarning: Call to deprecated `glove2word2vec` (KeyedVectors.load_word2vec_format(.., binary=False, no_header=True) loads GLoVE text vectors.).\n",
      "  _ = glove2word2vec(\"glove.6B.300d.txt\", tmp_file)\n"
     ]
    }
   ],
   "source": [
    "_ = glove2word2vec(\"glove.6B.300d.txt\", tmp_file)"
   ]
  },
  {
   "cell_type": "code",
   "execution_count": 85,
   "id": "329ee220-2584-4fb4-9e42-cc3fef30342b",
   "metadata": {},
   "outputs": [],
   "source": [
    "model = KeyedVectors.load_word2vec_format(tmp_file)"
   ]
  },
  {
   "cell_type": "code",
   "execution_count": 83,
   "id": "9a7b041e-1a98-4d45-a551-945304400a1f",
   "metadata": {},
   "outputs": [
    {
     "data": {
      "text/plain": [
       "[('drink', 0.818743884563446),\n",
       " ('drinks', 0.8176288604736328),\n",
       " ('wine', 0.814136266708374),\n",
       " ('tea', 0.8079647421836853),\n",
       " ('beer', 0.8042463660240173)]"
      ]
     },
     "execution_count": 83,
     "metadata": {},
     "output_type": "execute_result"
    }
   ],
   "source": [
    "model.most_similar(positive = ['coffee'], topn = 5)"
   ]
  },
  {
   "cell_type": "code",
   "execution_count": 86,
   "id": "47474dff-544c-4bc9-a029-147e1026c337",
   "metadata": {},
   "outputs": [],
   "source": [
    "import os\n",
    "import sys\n",
    "\n",
    "import numpy as np\n",
    "import pandas as pd\n",
    "from numpy import array\n",
    "from numpy import asarray\n",
    "from numpy import zeros\n",
    "\n",
    "from tensorflow.keras.preprocessing.text import Tokenizer\n",
    "from tensorflow.keras.preprocessing.sequence import pad_sequences\n",
    "from tensorflow.keras import models, regularizers, layers, optimizers, losses, metrics\n",
    "from tensorflow.keras.models import Sequential\n",
    "from tensorflow.keras.layers import Dense, Embedding, LSTM, Flatten\n",
    "from tensorflow.keras.utils import to_categorical\n",
    "from tensorflow.keras.datasets import imdb\n",
    "from tensorflow.keras.preprocessing import sequence\n",
    "\n",
    "# 항상 같은 결과를 갖기 위해 랜덤 시드 설정\n",
    "import tensorflow as tf\n",
    "tf.random.set_seed(1)\n",
    "np.random.seed(1)"
   ]
  },
  {
   "cell_type": "code",
   "execution_count": 87,
   "id": "eaaf2eda-8046-4672-9458-9e76f8602f44",
   "metadata": {},
   "outputs": [],
   "source": [
    "paragraph_dict_list = [\n",
    "         {'paragraph': 'dishplace is located in sunnyvale downtown there is parking around the area but it can be difficult to find during peak business hours my sisters and i came to this place for dinner on a weekday they were really busy so i highly recommended making reservations unless you have the patience to wait', 'category': 'food'},\n",
    "         {'paragraph': 'service can be slower during busy hours but our waiter was courteous and help gave some great entree recommendations', 'category': 'food'},\n",
    "         {'paragraph': 'portions are huge both french toast and their various omelettes are really good their french toast is probably 1.5x more than other brunch places great place to visit if you are hungry and dont want to wait 1 hour for a table', 'category': 'food'},\n",
    "         {'paragraph': 'we started with apps going the chicken and waffle slides and chicken nachos the sliders were amazing and the nachos were good too maybe by themselves the nachos would have scored better but after those sliders they were up against some tough competition', 'category': 'food'},\n",
    "         {'paragraph': 'the biscuits and gravy was too salty two people in my group had the gravy and all thought it was too salty my hubby ordered a side of double egg and it was served on two small plates who serves eggs to one person on separate plates we commented on that when it was delivered and even the server laughed and said she doesnt know why the kitchen does that presentation of food is important and they really missed on this one', 'category': 'food'},\n",
    "         {'paragraph': 'the garlic fries were a great starter (and a happy hour special) the pancakes looked and tasted great and were a fairly generous portion', 'category': 'food'},\n",
    "         {'paragraph': 'our meal was excellent i had the pasta ai formaggi which was so rich i didnt dare eat it all although i certainly wanted to excellent flavors with a great texture contrast between the soft pasta and the crisp bread crumbs too much sauce for me but a wonderful dish', 'category': 'food'},\n",
    "         {'paragraph': 'what i enjoy most about palo alto is so many restaurants have dog-friendly seating outside i had bookmarked italico from when they first opened about a 1.5 years ago and was jonesing for some pasta so time to finally knock that bookmark off', 'category': 'food'},\n",
    "         {'paragraph': 'the drinks came out fairly quickly a good two to three minutes after the orders were taken i expected my iced tea to taste a bit more sweet but this was straight up green tea with ice in it not to complain of course but i was pleasantly surprised', 'category': 'food'},\n",
    "         {'paragraph': 'despite the not so good burger the service was so slow the restaurant wasnt even half full and they took very long from the moment we got seated to the time we left it was almost 2 hours we thought that it would be quick since we ordered as soon as we sat down my coworkers did seem to enjoy their beef burgers for those who eat beef however i will not be returning it is too expensive and extremely slow service', 'category': 'food'},\n",
    "    \n",
    "         {'paragraph': 'the four reigning major champions simona halep caroline wozniacki angelique kerber and defending us open champion sloane stephens could make a case for being the quartet most likely to succeed especially as all but stephens has also enjoyed the no1 ranking within the last 14 months as they prepare for their gruelling new york campaigns they currently hold the top four places in the ranks', 'category': 'sports'},\n",
    "         {'paragraph': 'the briton was seeded nn7 here last year before a slump in form and confidence took her down to no46 after five first-round losses but there have been signs of a turnaround including a victory over a sub-par serena williams in san jose plus wins against jelena ostapenko and victoria azarenka in montreal. konta pulled out of new haven this week with illness but will hope for good things where she first scored wins in a major before her big breakthroughs to the semis in australia and wimbledon', 'category': 'sports'},\n",
    "         {'paragraph': 'stephens surged her way back from injury in stunning style to win her first major here last year—and ranked just no83 she has since proved what a big time player she is winning the miami title via four fellow major champions then reaching the final at the french open back on north american hard courts she ran to the final in montreal only just edged out by halep she has also avoided many of the big names in her quarter—except for wild card azarenka as a possible in the third round', 'category': 'sports'},\n",
    "         {'paragraph': 'when it came to england chances in the world cup it would be fair to say that most fans had never been more pessimistic than they were this year after enduring years of truly dismal performances at major tournaments – culminating in the 2014 event where they failed to win any of their three group games and finished in bottom spot those results led to the resignation of manager roy hodgson', 'category': 'sports'},\n",
    "         {'paragraph': 'the team that eliminated russia – croatia – also improved enormously during the tournament before it began their odds were 33/1 but they played with real flair and star players like luka modric ivan rakitic and ivan perisic showed their quality on the world stage having displayed their potential by winning all three of their group stage games croatia went on to face difficult tests like the semi-final against england', 'category': 'sports'},\n",
    "         {'paragraph': 'the perseyside outfit finished in fourth place in the premier league table and without a trophy last term after having reached the champions league final before losing to real madrid', 'category': 'sports'},\n",
    "         {'paragraph': 'liverpool fc will return to premier league action on saturday lunchtime when they travel to leicester city in the top flight as they look to make it four wins in a row in the league', 'category': 'sports'},\n",
    "         {'paragraph': 'alisson signed for liverpool fc from as roma this summer and the brazilian goalkeeper has helped the reds to keep three clean sheets in their first three premier league games', 'category': 'sports'},\n",
    "         {'paragraph': 'but the rankings during that run-in to new york hid some very different undercurrents for murray had struggled with a hip injury since the clay swing and had not played a match since losing his quarter-final at wimbledon and he would pull out of the us open just two days before the tournament began—too late however to promote nederer to the no2 seeding', 'category': 'sports'},\n",
    "         {'paragraph': 'then came the oh-so-familiar djokovic-nadal no-quarter-given battle for dominance in the third set there were exhilarating rallies with both chasing to the net both retrieving what looked like winning shots nadal more than once pulled off a reverse smash and had his chance to seal the tie-break but it was djokovic serving at 10-9 who dragged one decisive error from nadal for a two-sets lead', 'category': 'sports'}\n",
    "]\n",
    "df = pd.DataFrame(paragraph_dict_list)\n",
    "df = df[['paragraph', 'category']]"
   ]
  },
  {
   "cell_type": "code",
   "execution_count": 88,
   "id": "9b768e78-c1ea-405b-92d2-fd42fad12665",
   "metadata": {},
   "outputs": [],
   "source": [
    "docs = df['paragraph'].tolist()\n",
    "categories = df['category'].tolist()"
   ]
  },
  {
   "cell_type": "code",
   "execution_count": 89,
   "id": "e52c73ee-d6bb-457b-8236-53bd23d9bd0b",
   "metadata": {},
   "outputs": [],
   "source": [
    "from tensorflow.keras.preprocessing.text import Tokenizer\n",
    "\n",
    "t = Tokenizer()\n",
    "t.fit_on_texts(docs)"
   ]
  },
  {
   "cell_type": "code",
   "execution_count": 90,
   "id": "e9963971-8451-4ef3-bf89-8dbed8ea9987",
   "metadata": {},
   "outputs": [
    {
     "data": {
      "text/plain": [
       "{'the': 1,\n",
       " 'to': 2,\n",
       " 'and': 3,\n",
       " 'a': 4,\n",
       " 'in': 5,\n",
       " 'it': 6,\n",
       " 'was': 7,\n",
       " 'for': 8,\n",
       " 'but': 9,\n",
       " 'they': 10,\n",
       " 'of': 11,\n",
       " 'i': 12,\n",
       " 'were': 13,\n",
       " 'their': 14,\n",
       " 'on': 15,\n",
       " 'is': 16,\n",
       " 'so': 17,\n",
       " 'we': 18,\n",
       " 'with': 19,\n",
       " 'had': 20,\n",
       " 'that': 21,\n",
       " 'as': 22,\n",
       " 'this': 23,\n",
       " 'she': 24,\n",
       " 'be': 25,\n",
       " 'my': 26,\n",
       " 'great': 27,\n",
       " 'good': 28,\n",
       " 'too': 29,\n",
       " 'after': 30,\n",
       " 'two': 31,\n",
       " 'from': 32,\n",
       " 'first': 33,\n",
       " 'three': 34,\n",
       " 'major': 35,\n",
       " 'before': 36,\n",
       " 'her': 37,\n",
       " 'final': 38,\n",
       " 'league': 39,\n",
       " 'during': 40,\n",
       " 'came': 41,\n",
       " 'have': 42,\n",
       " 'some': 43,\n",
       " '1': 44,\n",
       " 'more': 45,\n",
       " 'would': 46,\n",
       " 'all': 47,\n",
       " 'when': 48,\n",
       " 'out': 49,\n",
       " 'not': 50,\n",
       " 'since': 51,\n",
       " 'four': 52,\n",
       " 'has': 53,\n",
       " 'last': 54,\n",
       " 'at': 55,\n",
       " 'there': 56,\n",
       " 'hours': 57,\n",
       " 'place': 58,\n",
       " 'really': 59,\n",
       " 'service': 60,\n",
       " 'are': 61,\n",
       " 'both': 62,\n",
       " 'french': 63,\n",
       " 'than': 64,\n",
       " 'nachos': 65,\n",
       " 'by': 66,\n",
       " 'those': 67,\n",
       " 'against': 68,\n",
       " 'group': 69,\n",
       " 'who': 70,\n",
       " 'one': 71,\n",
       " 'pasta': 72,\n",
       " 'what': 73,\n",
       " 'most': 74,\n",
       " 'time': 75,\n",
       " 'will': 76,\n",
       " 'champions': 77,\n",
       " 'open': 78,\n",
       " 'stephens': 79,\n",
       " 'also': 80,\n",
       " 'new': 81,\n",
       " 'wins': 82,\n",
       " 'big': 83,\n",
       " 'just': 84,\n",
       " 'winning': 85,\n",
       " '–': 86,\n",
       " 'games': 87,\n",
       " 'like': 88,\n",
       " 'premier': 89,\n",
       " 'nadal': 90,\n",
       " 'can': 91,\n",
       " 'difficult': 92,\n",
       " 'busy': 93,\n",
       " 'you': 94,\n",
       " 'wait': 95,\n",
       " 'our': 96,\n",
       " 'toast': 97,\n",
       " 'places': 98,\n",
       " 'hour': 99,\n",
       " 'table': 100,\n",
       " 'chicken': 101,\n",
       " 'sliders': 102,\n",
       " 'scored': 103,\n",
       " 'up': 104,\n",
       " 'gravy': 105,\n",
       " 'salty': 106,\n",
       " 'thought': 107,\n",
       " 'ordered': 108,\n",
       " 'plates': 109,\n",
       " 'even': 110,\n",
       " 'looked': 111,\n",
       " 'fairly': 112,\n",
       " 'excellent': 113,\n",
       " 'eat': 114,\n",
       " 'enjoy': 115,\n",
       " 'about': 116,\n",
       " 'many': 117,\n",
       " 'years': 118,\n",
       " 'off': 119,\n",
       " 'tea': 120,\n",
       " 'slow': 121,\n",
       " 'took': 122,\n",
       " 'very': 123,\n",
       " 'down': 124,\n",
       " 'beef': 125,\n",
       " 'however': 126,\n",
       " 'halep': 127,\n",
       " 'us': 128,\n",
       " 'make': 129,\n",
       " 'york': 130,\n",
       " 'top': 131,\n",
       " 'here': 132,\n",
       " 'year': 133,\n",
       " 'round': 134,\n",
       " 'been': 135,\n",
       " 'azarenka': 136,\n",
       " 'montreal': 137,\n",
       " 'pulled': 138,\n",
       " 'where': 139,\n",
       " 'wimbledon': 140,\n",
       " 'back': 141,\n",
       " 'injury': 142,\n",
       " 'win': 143,\n",
       " 'then': 144,\n",
       " 'third': 145,\n",
       " 'england': 146,\n",
       " 'world': 147,\n",
       " 'finished': 148,\n",
       " 'croatia': 149,\n",
       " 'tournament': 150,\n",
       " 'played': 151,\n",
       " 'real': 152,\n",
       " 'ivan': 153,\n",
       " 'stage': 154,\n",
       " 'having': 155,\n",
       " 'losing': 156,\n",
       " 'liverpool': 157,\n",
       " 'fc': 158,\n",
       " 'his': 159,\n",
       " 'quarter': 160,\n",
       " 'djokovic': 161,\n",
       " 'dishplace': 162,\n",
       " 'located': 163,\n",
       " 'sunnyvale': 164,\n",
       " 'downtown': 165,\n",
       " 'parking': 166,\n",
       " 'around': 167,\n",
       " 'area': 168,\n",
       " 'find': 169,\n",
       " 'peak': 170,\n",
       " 'business': 171,\n",
       " 'sisters': 172,\n",
       " 'dinner': 173,\n",
       " 'weekday': 174,\n",
       " 'highly': 175,\n",
       " 'recommended': 176,\n",
       " 'making': 177,\n",
       " 'reservations': 178,\n",
       " 'unless': 179,\n",
       " 'patience': 180,\n",
       " 'slower': 181,\n",
       " 'waiter': 182,\n",
       " 'courteous': 183,\n",
       " 'help': 184,\n",
       " 'gave': 185,\n",
       " 'entree': 186,\n",
       " 'recommendations': 187,\n",
       " 'portions': 188,\n",
       " 'huge': 189,\n",
       " 'various': 190,\n",
       " 'omelettes': 191,\n",
       " 'probably': 192,\n",
       " '5x': 193,\n",
       " 'other': 194,\n",
       " 'brunch': 195,\n",
       " 'visit': 196,\n",
       " 'if': 197,\n",
       " 'hungry': 198,\n",
       " 'dont': 199,\n",
       " 'want': 200,\n",
       " 'started': 201,\n",
       " 'apps': 202,\n",
       " 'going': 203,\n",
       " 'waffle': 204,\n",
       " 'slides': 205,\n",
       " 'amazing': 206,\n",
       " 'maybe': 207,\n",
       " 'themselves': 208,\n",
       " 'better': 209,\n",
       " 'tough': 210,\n",
       " 'competition': 211,\n",
       " 'biscuits': 212,\n",
       " 'people': 213,\n",
       " 'hubby': 214,\n",
       " 'side': 215,\n",
       " 'double': 216,\n",
       " 'egg': 217,\n",
       " 'served': 218,\n",
       " 'small': 219,\n",
       " 'serves': 220,\n",
       " 'eggs': 221,\n",
       " 'person': 222,\n",
       " 'separate': 223,\n",
       " 'commented': 224,\n",
       " 'delivered': 225,\n",
       " 'server': 226,\n",
       " 'laughed': 227,\n",
       " 'said': 228,\n",
       " 'doesnt': 229,\n",
       " 'know': 230,\n",
       " 'why': 231,\n",
       " 'kitchen': 232,\n",
       " 'does': 233,\n",
       " 'presentation': 234,\n",
       " 'food': 235,\n",
       " 'important': 236,\n",
       " 'missed': 237,\n",
       " 'garlic': 238,\n",
       " 'fries': 239,\n",
       " 'starter': 240,\n",
       " 'happy': 241,\n",
       " 'special': 242,\n",
       " 'pancakes': 243,\n",
       " 'tasted': 244,\n",
       " 'generous': 245,\n",
       " 'portion': 246,\n",
       " 'meal': 247,\n",
       " 'ai': 248,\n",
       " 'formaggi': 249,\n",
       " 'which': 250,\n",
       " 'rich': 251,\n",
       " 'didnt': 252,\n",
       " 'dare': 253,\n",
       " 'although': 254,\n",
       " 'certainly': 255,\n",
       " 'wanted': 256,\n",
       " 'flavors': 257,\n",
       " 'texture': 258,\n",
       " 'contrast': 259,\n",
       " 'between': 260,\n",
       " 'soft': 261,\n",
       " 'crisp': 262,\n",
       " 'bread': 263,\n",
       " 'crumbs': 264,\n",
       " 'much': 265,\n",
       " 'sauce': 266,\n",
       " 'me': 267,\n",
       " 'wonderful': 268,\n",
       " 'dish': 269,\n",
       " 'palo': 270,\n",
       " 'alto': 271,\n",
       " 'restaurants': 272,\n",
       " 'dog': 273,\n",
       " 'friendly': 274,\n",
       " 'seating': 275,\n",
       " 'outside': 276,\n",
       " 'bookmarked': 277,\n",
       " 'italico': 278,\n",
       " 'opened': 279,\n",
       " '5': 280,\n",
       " 'ago': 281,\n",
       " 'jonesing': 282,\n",
       " 'finally': 283,\n",
       " 'knock': 284,\n",
       " 'bookmark': 285,\n",
       " 'drinks': 286,\n",
       " 'quickly': 287,\n",
       " 'minutes': 288,\n",
       " 'orders': 289,\n",
       " 'taken': 290,\n",
       " 'expected': 291,\n",
       " 'iced': 292,\n",
       " 'taste': 293,\n",
       " 'bit': 294,\n",
       " 'sweet': 295,\n",
       " 'straight': 296,\n",
       " 'green': 297,\n",
       " 'ice': 298,\n",
       " 'complain': 299,\n",
       " 'course': 300,\n",
       " 'pleasantly': 301,\n",
       " 'surprised': 302,\n",
       " 'despite': 303,\n",
       " 'burger': 304,\n",
       " 'restaurant': 305,\n",
       " 'wasnt': 306,\n",
       " 'half': 307,\n",
       " 'full': 308,\n",
       " 'long': 309,\n",
       " 'moment': 310,\n",
       " 'got': 311,\n",
       " 'seated': 312,\n",
       " 'left': 313,\n",
       " 'almost': 314,\n",
       " '2': 315,\n",
       " 'quick': 316,\n",
       " 'soon': 317,\n",
       " 'sat': 318,\n",
       " 'coworkers': 319,\n",
       " 'did': 320,\n",
       " 'seem': 321,\n",
       " 'burgers': 322,\n",
       " 'returning': 323,\n",
       " 'expensive': 324,\n",
       " 'extremely': 325,\n",
       " 'reigning': 326,\n",
       " 'simona': 327,\n",
       " 'caroline': 328,\n",
       " 'wozniacki': 329,\n",
       " 'angelique': 330,\n",
       " 'kerber': 331,\n",
       " 'defending': 332,\n",
       " 'champion': 333,\n",
       " 'sloane': 334,\n",
       " 'could': 335,\n",
       " 'case': 336,\n",
       " 'being': 337,\n",
       " 'quartet': 338,\n",
       " 'likely': 339,\n",
       " 'succeed': 340,\n",
       " 'especially': 341,\n",
       " 'enjoyed': 342,\n",
       " 'no1': 343,\n",
       " 'ranking': 344,\n",
       " 'within': 345,\n",
       " '14': 346,\n",
       " 'months': 347,\n",
       " 'prepare': 348,\n",
       " 'gruelling': 349,\n",
       " 'campaigns': 350,\n",
       " 'currently': 351,\n",
       " 'hold': 352,\n",
       " 'ranks': 353,\n",
       " 'briton': 354,\n",
       " 'seeded': 355,\n",
       " 'nn7': 356,\n",
       " 'slump': 357,\n",
       " 'form': 358,\n",
       " 'confidence': 359,\n",
       " 'no46': 360,\n",
       " 'five': 361,\n",
       " 'losses': 362,\n",
       " 'signs': 363,\n",
       " 'turnaround': 364,\n",
       " 'including': 365,\n",
       " 'victory': 366,\n",
       " 'over': 367,\n",
       " 'sub': 368,\n",
       " 'par': 369,\n",
       " 'serena': 370,\n",
       " 'williams': 371,\n",
       " 'san': 372,\n",
       " 'jose': 373,\n",
       " 'plus': 374,\n",
       " 'jelena': 375,\n",
       " 'ostapenko': 376,\n",
       " 'victoria': 377,\n",
       " 'konta': 378,\n",
       " 'haven': 379,\n",
       " 'week': 380,\n",
       " 'illness': 381,\n",
       " 'hope': 382,\n",
       " 'things': 383,\n",
       " 'breakthroughs': 384,\n",
       " 'semis': 385,\n",
       " 'australia': 386,\n",
       " 'surged': 387,\n",
       " 'way': 388,\n",
       " 'stunning': 389,\n",
       " 'style': 390,\n",
       " 'year—and': 391,\n",
       " 'ranked': 392,\n",
       " 'no83': 393,\n",
       " 'proved': 394,\n",
       " 'player': 395,\n",
       " 'miami': 396,\n",
       " 'title': 397,\n",
       " 'via': 398,\n",
       " 'fellow': 399,\n",
       " 'reaching': 400,\n",
       " 'north': 401,\n",
       " 'american': 402,\n",
       " 'hard': 403,\n",
       " 'courts': 404,\n",
       " 'ran': 405,\n",
       " 'only': 406,\n",
       " 'edged': 407,\n",
       " 'avoided': 408,\n",
       " 'names': 409,\n",
       " 'quarter—except': 410,\n",
       " 'wild': 411,\n",
       " 'card': 412,\n",
       " 'possible': 413,\n",
       " 'chances': 414,\n",
       " 'cup': 415,\n",
       " 'fair': 416,\n",
       " 'say': 417,\n",
       " 'fans': 418,\n",
       " 'never': 419,\n",
       " 'pessimistic': 420,\n",
       " 'enduring': 421,\n",
       " 'truly': 422,\n",
       " 'dismal': 423,\n",
       " 'performances': 424,\n",
       " 'tournaments': 425,\n",
       " 'culminating': 426,\n",
       " '2014': 427,\n",
       " 'event': 428,\n",
       " 'failed': 429,\n",
       " 'any': 430,\n",
       " 'bottom': 431,\n",
       " 'spot': 432,\n",
       " 'results': 433,\n",
       " 'led': 434,\n",
       " 'resignation': 435,\n",
       " 'manager': 436,\n",
       " 'roy': 437,\n",
       " 'hodgson': 438,\n",
       " 'team': 439,\n",
       " 'eliminated': 440,\n",
       " 'russia': 441,\n",
       " 'improved': 442,\n",
       " 'enormously': 443,\n",
       " 'began': 444,\n",
       " 'odds': 445,\n",
       " '33': 446,\n",
       " 'flair': 447,\n",
       " 'star': 448,\n",
       " 'players': 449,\n",
       " 'luka': 450,\n",
       " 'modric': 451,\n",
       " 'rakitic': 452,\n",
       " 'perisic': 453,\n",
       " 'showed': 454,\n",
       " 'quality': 455,\n",
       " 'displayed': 456,\n",
       " 'potential': 457,\n",
       " 'went': 458,\n",
       " 'face': 459,\n",
       " 'tests': 460,\n",
       " 'semi': 461,\n",
       " 'perseyside': 462,\n",
       " 'outfit': 463,\n",
       " 'fourth': 464,\n",
       " 'without': 465,\n",
       " 'trophy': 466,\n",
       " 'term': 467,\n",
       " 'reached': 468,\n",
       " 'madrid': 469,\n",
       " 'return': 470,\n",
       " 'action': 471,\n",
       " 'saturday': 472,\n",
       " 'lunchtime': 473,\n",
       " 'travel': 474,\n",
       " 'leicester': 475,\n",
       " 'city': 476,\n",
       " 'flight': 477,\n",
       " 'look': 478,\n",
       " 'row': 479,\n",
       " 'alisson': 480,\n",
       " 'signed': 481,\n",
       " 'roma': 482,\n",
       " 'summer': 483,\n",
       " 'brazilian': 484,\n",
       " 'goalkeeper': 485,\n",
       " 'helped': 486,\n",
       " 'reds': 487,\n",
       " 'keep': 488,\n",
       " 'clean': 489,\n",
       " 'sheets': 490,\n",
       " 'rankings': 491,\n",
       " 'run': 492,\n",
       " 'hid': 493,\n",
       " 'different': 494,\n",
       " 'undercurrents': 495,\n",
       " 'murray': 496,\n",
       " 'struggled': 497,\n",
       " 'hip': 498,\n",
       " 'clay': 499,\n",
       " 'swing': 500,\n",
       " 'match': 501,\n",
       " 'he': 502,\n",
       " 'pull': 503,\n",
       " 'days': 504,\n",
       " 'began—too': 505,\n",
       " 'late': 506,\n",
       " 'promote': 507,\n",
       " 'nederer': 508,\n",
       " 'no2': 509,\n",
       " 'seeding': 510,\n",
       " 'oh': 511,\n",
       " 'familiar': 512,\n",
       " 'no': 513,\n",
       " 'given': 514,\n",
       " 'battle': 515,\n",
       " 'dominance': 516,\n",
       " 'set': 517,\n",
       " 'exhilarating': 518,\n",
       " 'rallies': 519,\n",
       " 'chasing': 520,\n",
       " 'net': 521,\n",
       " 'retrieving': 522,\n",
       " 'shots': 523,\n",
       " 'once': 524,\n",
       " 'reverse': 525,\n",
       " 'smash': 526,\n",
       " 'chance': 527,\n",
       " 'seal': 528,\n",
       " 'tie': 529,\n",
       " 'break': 530,\n",
       " 'serving': 531,\n",
       " '10': 532,\n",
       " '9': 533,\n",
       " 'dragged': 534,\n",
       " 'decisive': 535,\n",
       " 'error': 536,\n",
       " 'sets': 537,\n",
       " 'lead': 538}"
      ]
     },
     "execution_count": 90,
     "metadata": {},
     "output_type": "execute_result"
    }
   ],
   "source": [
    "t.word_index"
   ]
  },
  {
   "cell_type": "code",
   "execution_count": 106,
   "id": "72c8a016-6f06-459a-8f7d-3c8c5e4b6f19",
   "metadata": {},
   "outputs": [],
   "source": [
    "vocab_size = len(t.word_index) + 1"
   ]
  },
  {
   "cell_type": "code",
   "execution_count": 107,
   "id": "f1e886e5-8b28-4d62-991c-ce13cffa0f4e",
   "metadata": {},
   "outputs": [
    {
     "data": {
      "text/plain": [
       "539"
      ]
     },
     "execution_count": 107,
     "metadata": {},
     "output_type": "execute_result"
    }
   ],
   "source": [
    "vocab_size"
   ]
  },
  {
   "cell_type": "code",
   "execution_count": 93,
   "id": "086df332-006a-48dd-9962-316d41c039f3",
   "metadata": {},
   "outputs": [],
   "source": [
    "encoded_docs = t.texts_to_sequences(docs)"
   ]
  },
  {
   "cell_type": "code",
   "execution_count": 94,
   "id": "ce69265a-172a-4964-ac14-9dacc7468a44",
   "metadata": {},
   "outputs": [],
   "source": [
    "max_length = 91"
   ]
  },
  {
   "cell_type": "code",
   "execution_count": 95,
   "id": "993fcdb5-d80d-4c5a-b5c2-565de5a4513f",
   "metadata": {},
   "outputs": [],
   "source": [
    "padded_docs = pad_sequences(encoded_docs, maxlen=max_length, padding='post')"
   ]
  },
  {
   "cell_type": "code",
   "execution_count": 96,
   "id": "2dcd0e45-1f10-4b17-a1a9-7303f9c48093",
   "metadata": {},
   "outputs": [
    {
     "data": {
      "text/plain": [
       "array([162,  16, 163,   5, 164, 165,  56,  16, 166, 167,   1, 168,   9,\n",
       "         6,  91,  25,  92,   2, 169,  40, 170, 171,  57,  26, 172,   3,\n",
       "        12,  41,   2,  23,  58,   8, 173,  15,   4, 174,  10,  13,  59,\n",
       "        93,  17,  12, 175, 176, 177, 178, 179,  94,  42,   1, 180,   2,\n",
       "        95,   0,   0,   0,   0,   0,   0,   0,   0,   0,   0,   0,   0,\n",
       "         0,   0,   0,   0,   0,   0,   0,   0,   0,   0,   0,   0,   0,\n",
       "         0,   0,   0,   0,   0,   0,   0,   0,   0,   0,   0,   0,   0])"
      ]
     },
     "execution_count": 96,
     "metadata": {},
     "output_type": "execute_result"
    }
   ],
   "source": [
    "padded_docs[0]"
   ]
  },
  {
   "cell_type": "code",
   "execution_count": 97,
   "id": "34a6d455-524b-4a99-b672-0e149970de2c",
   "metadata": {},
   "outputs": [],
   "source": [
    "labels = np.array([category_encode(category) for category in categories])"
   ]
  },
  {
   "cell_type": "code",
   "execution_count": 98,
   "id": "05d2805b-2f7c-42ac-a615-47d2924b9dfb",
   "metadata": {},
   "outputs": [
    {
     "data": {
      "text/plain": [
       "array([[1, 0],\n",
       "       [1, 0],\n",
       "       [1, 0],\n",
       "       [1, 0],\n",
       "       [1, 0],\n",
       "       [1, 0],\n",
       "       [1, 0],\n",
       "       [1, 0],\n",
       "       [1, 0],\n",
       "       [1, 0],\n",
       "       [0, 1],\n",
       "       [0, 1],\n",
       "       [0, 1],\n",
       "       [0, 1],\n",
       "       [0, 1],\n",
       "       [0, 1],\n",
       "       [0, 1],\n",
       "       [0, 1],\n",
       "       [0, 1],\n",
       "       [0, 1]])"
      ]
     },
     "execution_count": 98,
     "metadata": {},
     "output_type": "execute_result"
    }
   ],
   "source": [
    "labels"
   ]
  },
  {
   "cell_type": "code",
   "execution_count": 99,
   "id": "627e04fc-fe2b-4809-b3c5-e2cae93f5efe",
   "metadata": {},
   "outputs": [],
   "source": [
    "embeddings_index = dict()"
   ]
  },
  {
   "cell_type": "code",
   "execution_count": 102,
   "id": "2d5d740c-31a9-4307-a579-8af62f30d3fa",
   "metadata": {},
   "outputs": [],
   "source": [
    "f = open('glove.6B.100d.txt', encoding = 'utf-8')\n",
    "for line in f:\n",
    "    values = line.split()\n",
    "    word = values[0]\n",
    "    coefs = np.asarray(values[1:], dtype = 'float32')\n",
    "    embeddings_index[word] = coefs\n",
    "f.close()"
   ]
  },
  {
   "cell_type": "code",
   "execution_count": 109,
   "id": "52817fa9-01d6-45b2-83c8-a5c71b9a80ae",
   "metadata": {},
   "outputs": [],
   "source": [
    "embedding_matrix = zeros((vocab_size, 100))\n",
    "for word, i in t.word_index.items():\n",
    "    embedding_vector = embeddings_index.get(word)\n",
    "    if embedding_vector is not None:\n",
    "        embedding_matrix[i] = embedding_vector      "
   ]
  },
  {
   "cell_type": "code",
   "execution_count": 110,
   "id": "4ebf8322-dde3-4952-a2cc-8052bb959272",
   "metadata": {},
   "outputs": [
    {
     "name": "stdout",
     "output_type": "stream",
     "text": [
      "Epoch 1/5\n",
      "1/1 [==============================] - 0s 441ms/step - loss: 0.6876 - accuracy: 0.5500\n",
      "Epoch 2/5\n",
      "1/1 [==============================] - 0s 7ms/step - loss: 0.4723 - accuracy: 0.6500\n",
      "Epoch 3/5\n",
      "1/1 [==============================] - 0s 6ms/step - loss: 0.2035 - accuracy: 1.0000\n",
      "Epoch 4/5\n",
      "1/1 [==============================] - 0s 5ms/step - loss: 0.1071 - accuracy: 1.0000\n",
      "Epoch 5/5\n",
      "1/1 [==============================] - 0s 7ms/step - loss: 0.0733 - accuracy: 1.0000\n"
     ]
    },
    {
     "data": {
      "text/plain": [
       "<keras.src.callbacks.History at 0x2220827a7d0>"
      ]
     },
     "execution_count": 110,
     "metadata": {},
     "output_type": "execute_result"
    }
   ],
   "source": [
    "model = Sequential()\n",
    "e = Embedding(vocab_size, 100, weights=[embedding_matrix], input_length=max_length, trainable=False)\n",
    "model.add(e)\n",
    "model.add(Flatten())\n",
    "model.add(Dense(2, activation='softmax'))\n",
    "model.compile(loss='categorical_crossentropy',optimizer='adam', metrics=['accuracy'])\n",
    "model.fit(padded_docs, np.array(labels), epochs=5, verbose=1)"
   ]
  },
  {
   "cell_type": "code",
   "execution_count": null,
   "id": "1795ef6f-58fb-4325-ad48-c1aeb89ce12b",
   "metadata": {},
   "outputs": [],
   "source": []
  }
 ],
 "metadata": {
  "kernelspec": {
   "display_name": "Python 3 (ipykernel)",
   "language": "python",
   "name": "python3"
  },
  "language_info": {
   "codemirror_mode": {
    "name": "ipython",
    "version": 3
   },
   "file_extension": ".py",
   "mimetype": "text/x-python",
   "name": "python",
   "nbconvert_exporter": "python",
   "pygments_lexer": "ipython3",
   "version": "3.11.6"
  }
 },
 "nbformat": 4,
 "nbformat_minor": 5
}
