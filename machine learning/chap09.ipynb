{
 "cells": [
  {
   "cell_type": "code",
   "execution_count": 1,
   "id": "33695564-094c-457f-ad23-24605118b4df",
   "metadata": {},
   "outputs": [],
   "source": [
    "from tensorflow.keras.datasets import imdb"
   ]
  },
  {
   "cell_type": "code",
   "execution_count": 2,
   "id": "7ad87cfe-d972-46f3-ac36-f3bb46c9241b",
   "metadata": {},
   "outputs": [
    {
     "name": "stdout",
     "output_type": "stream",
     "text": [
      "Downloading data from https://storage.googleapis.com/tensorflow/tf-keras-datasets/imdb.npz\n",
      "17464789/17464789 [==============================] - 1s 0us/step\n"
     ]
    }
   ],
   "source": [
    "(train_input, train_target), (test_input, test_target) = imdb.load_data(\n",
    "    num_words=500)"
   ]
  },
  {
   "cell_type": "code",
   "execution_count": 3,
   "id": "badd8e59-83a6-45cc-af90-5a655b8ffa74",
   "metadata": {},
   "outputs": [
    {
     "name": "stdout",
     "output_type": "stream",
     "text": [
      "(25000,) (25000,)\n"
     ]
    }
   ],
   "source": [
    "print(train_input.shape, test_input.shape)"
   ]
  },
  {
   "cell_type": "code",
   "execution_count": 4,
   "id": "8992c363-2ac0-46f8-b3e0-87c50cf1caa3",
   "metadata": {},
   "outputs": [
    {
     "name": "stdout",
     "output_type": "stream",
     "text": [
      "[1, 14, 22, 16, 43, 2, 2, 2, 2, 65, 458, 2, 66, 2, 4, 173, 36, 256, 5, 25, 100, 43, 2, 112, 50, 2, 2, 9, 35, 480, 284, 5, 150, 4, 172, 112, 167, 2, 336, 385, 39, 4, 172, 2, 2, 17, 2, 38, 13, 447, 4, 192, 50, 16, 6, 147, 2, 19, 14, 22, 4, 2, 2, 469, 4, 22, 71, 87, 12, 16, 43, 2, 38, 76, 15, 13, 2, 4, 22, 17, 2, 17, 12, 16, 2, 18, 2, 5, 62, 386, 12, 8, 316, 8, 106, 5, 4, 2, 2, 16, 480, 66, 2, 33, 4, 130, 12, 16, 38, 2, 5, 25, 124, 51, 36, 135, 48, 25, 2, 33, 6, 22, 12, 215, 28, 77, 52, 5, 14, 407, 16, 82, 2, 8, 4, 107, 117, 2, 15, 256, 4, 2, 7, 2, 5, 2, 36, 71, 43, 2, 476, 26, 400, 317, 46, 7, 4, 2, 2, 13, 104, 88, 4, 381, 15, 297, 98, 32, 2, 56, 26, 141, 6, 194, 2, 18, 4, 226, 22, 21, 134, 476, 26, 480, 5, 144, 30, 2, 18, 51, 36, 28, 224, 92, 25, 104, 4, 226, 65, 16, 38, 2, 88, 12, 16, 283, 5, 16, 2, 113, 103, 32, 15, 16, 2, 19, 178, 32]\n"
     ]
    }
   ],
   "source": [
    "print(train_input[0])"
   ]
  },
  {
   "cell_type": "code",
   "execution_count": 5,
   "id": "bc6e235a-b4e0-4960-b8eb-283e9d2f52a4",
   "metadata": {},
   "outputs": [
    {
     "data": {
      "text/plain": [
       "218"
      ]
     },
     "execution_count": 5,
     "metadata": {},
     "output_type": "execute_result"
    }
   ],
   "source": [
    "len(train_input[0])"
   ]
  },
  {
   "cell_type": "code",
   "execution_count": 6,
   "id": "39bc1dea-58c3-4f21-a8b7-7e31bfa44310",
   "metadata": {},
   "outputs": [
    {
     "data": {
      "text/plain": [
       "189"
      ]
     },
     "execution_count": 6,
     "metadata": {},
     "output_type": "execute_result"
    }
   ],
   "source": [
    "len(train_input[1])"
   ]
  },
  {
   "cell_type": "code",
   "execution_count": 7,
   "id": "5cd7abec-70d6-4c5a-b879-2bacc77c52bf",
   "metadata": {},
   "outputs": [
    {
     "name": "stdout",
     "output_type": "stream",
     "text": [
      "[1 0 0 1 0 0 1 0 1 0 1 0 0 0 0 0 1 1 0 1]\n"
     ]
    }
   ],
   "source": [
    "print(train_target[:20])"
   ]
  },
  {
   "cell_type": "code",
   "execution_count": 8,
   "id": "6e08ae8a-6e3a-4be8-9f3c-f625a2b17fc9",
   "metadata": {},
   "outputs": [],
   "source": [
    "from sklearn.model_selection import train_test_split\n",
    "train_input, val_input, train_target, val_target = train_test_split(\n",
    "    train_input, train_target, test_size=0.2, random_state=42)"
   ]
  },
  {
   "cell_type": "code",
   "execution_count": 9,
   "id": "04d2a498-9d3a-4cc7-8c14-fefbb559b310",
   "metadata": {},
   "outputs": [],
   "source": [
    "import numpy as np\n",
    "lengths = np.array([len(x) for x in train_input])"
   ]
  },
  {
   "cell_type": "code",
   "execution_count": 10,
   "id": "923b9617-90dc-4f6c-a99a-5ff3483d02fa",
   "metadata": {},
   "outputs": [
    {
     "name": "stdout",
     "output_type": "stream",
     "text": [
      "239.00925 178.0\n"
     ]
    }
   ],
   "source": [
    "print(np.mean(lengths), np.median(lengths))"
   ]
  },
  {
   "cell_type": "code",
   "execution_count": 12,
   "id": "1b98b891-6492-4c82-a396-2bac0af0f580",
   "metadata": {},
   "outputs": [
    {
     "data": {
      "image/png": "[encoded data removed]",
      "text/plain": [
       "<Figure size 640x480 with 1 Axes>"
      ]
     },
     "metadata": {},
     "output_type": "display_data"
    }
   ],
   "source": [
    "import matplotlib.pyplot as plt\n",
    "plt.hist(lengths)\n",
    "plt.xlabel('length')\n",
    "plt.ylabel('frequency')\n",
    "plt.show()"
   ]
  },
  {
   "cell_type": "code",
   "execution_count": 13,
   "id": "06a78230-d4ad-40a0-9515-e0064fd523c7",
   "metadata": {},
   "outputs": [],
   "source": [
    "from tensorflow.keras.preprocessing.sequence import pad_sequences\n",
    "train_seq = pad_sequences(train_input, maxlen=100)"
   ]
  },
  {
   "cell_type": "code",
   "execution_count": 14,
   "id": "794d5749-c24a-4604-8e20-5708eee172cd",
   "metadata": {},
   "outputs": [
    {
     "name": "stdout",
     "output_type": "stream",
     "text": [
      "(20000, 100)\n"
     ]
    }
   ],
   "source": [
    "print(train_seq.shape)"
   ]
  },
  {
   "cell_type": "code",
   "execution_count": 15,
   "id": "2e857fa4-73c7-4557-aa73-0e4076af8d73",
   "metadata": {},
   "outputs": [
    {
     "name": "stdout",
     "output_type": "stream",
     "text": [
      "[ 10   4  20   9   2 364 352   5  45   6   2   2  33 269   8   2 142   2\n",
      "   5   2  17  73  17 204   5   2  19  55   2   2  92  66 104  14  20  93\n",
      "  76   2 151  33   4  58  12 188   2 151  12 215  69 224 142  73 237   6\n",
      "   2   7   2   2 188   2 103  14  31  10  10 451   7   2   5   2  80  91\n",
      "   2  30   2  34  14  20 151  50  26 131  49   2  84  46  50  37  80  79\n",
      "   6   2  46   7  14  20  10  10 470 158]\n"
     ]
    }
   ],
   "source": [
    "print(train_seq[0])"
   ]
  },
  {
   "cell_type": "code",
   "execution_count": 16,
   "id": "55165460-ada0-4e5b-a54c-8673e948a4b2",
   "metadata": {},
   "outputs": [
    {
     "name": "stdout",
     "output_type": "stream",
     "text": [
      "[6, 2, 46, 7, 14, 20, 10, 10, 470, 158]\n"
     ]
    }
   ],
   "source": [
    "print(train_input[0][-10:])"
   ]
  },
  {
   "cell_type": "code",
   "execution_count": 17,
   "id": "8a3329dd-f18d-45d4-abc9-4d6f0bf7a570",
   "metadata": {},
   "outputs": [
    {
     "data": {
      "text/plain": [
       "259"
      ]
     },
     "execution_count": 17,
     "metadata": {},
     "output_type": "execute_result"
    }
   ],
   "source": [
    "len(train_input[0])"
   ]
  },
  {
   "cell_type": "code",
   "execution_count": 18,
   "id": "1a1e1810-e2f1-4db5-bcb5-6373b547b1d3",
   "metadata": {},
   "outputs": [
    {
     "name": "stdout",
     "output_type": "stream",
     "text": [
      "[  0   0   0   0   1   2 195  19  49   2   2 190   4   2 352   2 183  10\n",
      "  10  13  82  79   4   2  36  71 269   8   2  25  19  49   7   4   2   2\n",
      "   2   2   2  10  10  48  25  40   2  11   2   2  40   2   2   5   4   2\n",
      "   2  95  14 238  56 129   2  10  10  21   2  94 364 352   2   2  11 190\n",
      "  24 484   2   7  94 205 405  10  10  87   2  34  49   2   7   2   2   2\n",
      "   2   2 290   2  46  48  64  18   4   2]\n"
     ]
    }
   ],
   "source": [
    "print(train_seq[5])"
   ]
  },
  {
   "cell_type": "code",
   "execution_count": 19,
   "id": "d835ed28-feff-4ad9-84de-32455eccbaad",
   "metadata": {},
   "outputs": [],
   "source": [
    "val_seq = pad_sequences(val_input, maxlen=100)"
   ]
  },
  {
   "cell_type": "code",
   "execution_count": 20,
   "id": "e512daa2-975f-4f0c-8fe1-3c11f9e2d497",
   "metadata": {},
   "outputs": [],
   "source": [
    "from tensorflow import keras\n",
    "model = keras.Sequential()"
   ]
  },
  {
   "cell_type": "code",
   "execution_count": 21,
   "id": "4ac6ee53-e7e8-4af9-af9a-c9b62490c45a",
   "metadata": {},
   "outputs": [],
   "source": [
    "model.add(keras.layers.SimpleRNN(8, input_shape = (100, 500)))\n",
    "model.add(keras.layers.Dense(1, activation= 'sigmoid'))"
   ]
  },
  {
   "cell_type": "code",
   "execution_count": 22,
   "id": "fa3d4e4b-02e7-4ba0-a038-91bcfc5360ef",
   "metadata": {},
   "outputs": [],
   "source": [
    "train_oh = keras.utils.to_categorical(train_seq)"
   ]
  },
  {
   "cell_type": "code",
   "execution_count": 23,
   "id": "3343ce43-32db-48bd-ac7d-0ee458f5ddeb",
   "metadata": {},
   "outputs": [
    {
     "data": {
      "text/plain": [
       "(20000, 100)"
      ]
     },
     "execution_count": 23,
     "metadata": {},
     "output_type": "execute_result"
    }
   ],
   "source": [
    "train_seq.shape"
   ]
  },
  {
   "cell_type": "code",
   "execution_count": 24,
   "id": "6da9b9ad-a1b4-4603-893a-79879380a5ec",
   "metadata": {},
   "outputs": [
    {
     "data": {
      "text/plain": [
       "(20000, 100, 500)"
      ]
     },
     "execution_count": 24,
     "metadata": {},
     "output_type": "execute_result"
    }
   ],
   "source": [
    "train_oh.shape"
   ]
  },
  {
   "cell_type": "code",
   "execution_count": 25,
   "id": "e1cc54ce-d456-4208-8028-949e4093ddf9",
   "metadata": {},
   "outputs": [
    {
     "data": {
      "text/plain": [
       "array([[0., 0., 0., ..., 0., 0., 0.],\n",
       "       [0., 0., 0., ..., 0., 0., 0.],\n",
       "       [0., 0., 0., ..., 0., 0., 0.],\n",
       "       ...,\n",
       "       [0., 0., 0., ..., 0., 0., 0.],\n",
       "       [0., 0., 0., ..., 0., 0., 0.],\n",
       "       [0., 0., 0., ..., 0., 0., 0.]], dtype=float32)"
      ]
     },
     "execution_count": 25,
     "metadata": {},
     "output_type": "execute_result"
    }
   ],
   "source": [
    "train_oh[0]"
   ]
  },
  {
   "cell_type": "code",
   "execution_count": 26,
   "id": "f1a3624c-371e-43b5-9fb2-033b3a8713e5",
   "metadata": {},
   "outputs": [
    {
     "data": {
      "text/plain": [
       "array([0., 0., 0., 0., 0., 0., 0., 0., 0., 0., 1., 0., 0., 0., 0., 0., 0.,\n",
       "       0., 0., 0., 0., 0., 0., 0., 0., 0., 0., 0., 0., 0., 0., 0., 0., 0.,\n",
       "       0., 0., 0., 0., 0., 0., 0., 0., 0., 0., 0., 0., 0., 0., 0., 0., 0.,\n",
       "       0., 0., 0., 0., 0., 0., 0., 0., 0., 0., 0., 0., 0., 0., 0., 0., 0.,\n",
       "       0., 0., 0., 0., 0., 0., 0., 0., 0., 0., 0., 0., 0., 0., 0., 0., 0.,\n",
       "       0., 0., 0., 0., 0., 0., 0., 0., 0., 0., 0., 0., 0., 0., 0., 0., 0.,\n",
       "       0., 0., 0., 0., 0., 0., 0., 0., 0., 0., 0., 0., 0., 0., 0., 0., 0.,\n",
       "       0., 0., 0., 0., 0., 0., 0., 0., 0., 0., 0., 0., 0., 0., 0., 0., 0.,\n",
       "       0., 0., 0., 0., 0., 0., 0., 0., 0., 0., 0., 0., 0., 0., 0., 0., 0.,\n",
       "       0., 0., 0., 0., 0., 0., 0., 0., 0., 0., 0., 0., 0., 0., 0., 0., 0.,\n",
       "       0., 0., 0., 0., 0., 0., 0., 0., 0., 0., 0., 0., 0., 0., 0., 0., 0.,\n",
       "       0., 0., 0., 0., 0., 0., 0., 0., 0., 0., 0., 0., 0., 0., 0., 0., 0.,\n",
       "       0., 0., 0., 0., 0., 0., 0., 0., 0., 0., 0., 0., 0., 0., 0., 0., 0.,\n",
       "       0., 0., 0., 0., 0., 0., 0., 0., 0., 0., 0., 0., 0., 0., 0., 0., 0.,\n",
       "       0., 0., 0., 0., 0., 0., 0., 0., 0., 0., 0., 0., 0., 0., 0., 0., 0.,\n",
       "       0., 0., 0., 0., 0., 0., 0., 0., 0., 0., 0., 0., 0., 0., 0., 0., 0.,\n",
       "       0., 0., 0., 0., 0., 0., 0., 0., 0., 0., 0., 0., 0., 0., 0., 0., 0.,\n",
       "       0., 0., 0., 0., 0., 0., 0., 0., 0., 0., 0., 0., 0., 0., 0., 0., 0.,\n",
       "       0., 0., 0., 0., 0., 0., 0., 0., 0., 0., 0., 0., 0., 0., 0., 0., 0.,\n",
       "       0., 0., 0., 0., 0., 0., 0., 0., 0., 0., 0., 0., 0., 0., 0., 0., 0.,\n",
       "       0., 0., 0., 0., 0., 0., 0., 0., 0., 0., 0., 0., 0., 0., 0., 0., 0.,\n",
       "       0., 0., 0., 0., 0., 0., 0., 0., 0., 0., 0., 0., 0., 0., 0., 0., 0.,\n",
       "       0., 0., 0., 0., 0., 0., 0., 0., 0., 0., 0., 0., 0., 0., 0., 0., 0.,\n",
       "       0., 0., 0., 0., 0., 0., 0., 0., 0., 0., 0., 0., 0., 0., 0., 0., 0.,\n",
       "       0., 0., 0., 0., 0., 0., 0., 0., 0., 0., 0., 0., 0., 0., 0., 0., 0.,\n",
       "       0., 0., 0., 0., 0., 0., 0., 0., 0., 0., 0., 0., 0., 0., 0., 0., 0.,\n",
       "       0., 0., 0., 0., 0., 0., 0., 0., 0., 0., 0., 0., 0., 0., 0., 0., 0.,\n",
       "       0., 0., 0., 0., 0., 0., 0., 0., 0., 0., 0., 0., 0., 0., 0., 0., 0.,\n",
       "       0., 0., 0., 0., 0., 0., 0., 0., 0., 0., 0., 0., 0., 0., 0., 0., 0.,\n",
       "       0., 0., 0., 0., 0., 0., 0.], dtype=float32)"
      ]
     },
     "execution_count": 26,
     "metadata": {},
     "output_type": "execute_result"
    }
   ],
   "source": [
    "train_oh[0][0]"
   ]
  },
  {
   "cell_type": "code",
   "execution_count": 27,
   "id": "1c118c29-0445-425c-b53c-ecb199ed8544",
   "metadata": {},
   "outputs": [
    {
     "name": "stdout",
     "output_type": "stream",
     "text": [
      "1.0\n"
     ]
    }
   ],
   "source": [
    "print(np.sum(train_oh[0][0]))"
   ]
  },
  {
   "cell_type": "code",
   "execution_count": 28,
   "id": "105f8eda-fa82-4af5-8173-0d5ddc4ac6e6",
   "metadata": {},
   "outputs": [],
   "source": [
    "val_oh = keras.utils.to_categorical(val_seq)"
   ]
  },
  {
   "cell_type": "code",
   "execution_count": 29,
   "id": "bf0d674c-52cd-4a6e-909d-7b0a00ab3672",
   "metadata": {},
   "outputs": [
    {
     "name": "stdout",
     "output_type": "stream",
     "text": [
      "Model: \"sequential\"\n",
      "_________________________________________________________________\n",
      " Layer (type)                Output Shape              Param #   \n",
      "=================================================================\n",
      " simple_rnn (SimpleRNN)      (None, 8)                 4072      \n",
      "                                                                 \n",
      " dense (Dense)               (None, 1)                 9         \n",
      "                                                                 \n",
      "=================================================================\n",
      "Total params: 4081 (15.94 KB)\n",
      "Trainable params: 4081 (15.94 KB)\n",
      "Non-trainable params: 0 (0.00 Byte)\n",
      "_________________________________________________________________\n"
     ]
    }
   ],
   "source": [
    "model.summary()"
   ]
  },
  {
   "cell_type": "code",
   "execution_count": 30,
   "id": "6fa8c4f1-b039-4d41-ad0e-c67527d0985c",
   "metadata": {},
   "outputs": [],
   "source": [
    "rmsprop = keras.optimizers.RMSprop(learning_rate=0.0001)"
   ]
  },
  {
   "cell_type": "code",
   "execution_count": 31,
   "id": "8f762baa-5168-43c4-bfd5-c72d6d2b1aba",
   "metadata": {},
   "outputs": [],
   "source": [
    "model.compile(optimizer=rmsprop, loss='binary_crossentropy', metrics='accuracy')"
   ]
  },
  {
   "cell_type": "code",
   "execution_count": 32,
   "id": "b3d2621d-7d81-4ce9-8eaa-4d88255bfc3d",
   "metadata": {},
   "outputs": [
    {
     "name": "stdout",
     "output_type": "stream",
     "text": [
      "Epoch 1/100\n",
      "313/313 [==============================] - 8s 23ms/step - loss: 0.6985 - accuracy: 0.5138 - val_loss: 0.6961 - val_accuracy: 0.5150\n",
      "Epoch 2/100\n",
      "  7/313 [..............................] - ETA: 6s - loss: 0.6975 - accuracy: 0.4955"
     ]
    },
    {
     "name": "stderr",
     "output_type": "stream",
     "text": [
      "C:\\Users\\bbong\\anaconda3\\Lib\\site-packages\\keras\\src\\engine\\training.py:3079: UserWarning: You are saving your model as an HDF5 file via `model.save()`. This file format is considered legacy. We recommend using instead the native Keras format, e.g. `model.save('my_model.keras')`.\n",
      "  saving_api.save_model(\n"
     ]
    },
    {
     "name": "stdout",
     "output_type": "stream",
     "text": [
      "313/313 [==============================] - 7s 23ms/step - loss: 0.6818 - accuracy: 0.5675 - val_loss: 0.6754 - val_accuracy: 0.5872\n",
      "Epoch 3/100\n",
      "313/313 [==============================] - 7s 23ms/step - loss: 0.6642 - accuracy: 0.6163 - val_loss: 0.6601 - val_accuracy: 0.6246\n",
      "Epoch 4/100\n",
      "313/313 [==============================] - 8s 25ms/step - loss: 0.6469 - accuracy: 0.6488 - val_loss: 0.6438 - val_accuracy: 0.6520\n",
      "Epoch 5/100\n",
      "313/313 [==============================] - 9s 27ms/step - loss: 0.6291 - accuracy: 0.6748 - val_loss: 0.6270 - val_accuracy: 0.6742\n",
      "Epoch 6/100\n",
      "313/313 [==============================] - 8s 25ms/step - loss: 0.6095 - accuracy: 0.6990 - val_loss: 0.6091 - val_accuracy: 0.7002\n",
      "Epoch 7/100\n",
      "313/313 [==============================] - 7s 24ms/step - loss: 0.5907 - accuracy: 0.7179 - val_loss: 0.5906 - val_accuracy: 0.7172\n",
      "Epoch 8/100\n",
      "313/313 [==============================] - 10s 31ms/step - loss: 0.5734 - accuracy: 0.7296 - val_loss: 0.5753 - val_accuracy: 0.7284\n",
      "Epoch 9/100\n",
      "313/313 [==============================] - 8s 25ms/step - loss: 0.5574 - accuracy: 0.7425 - val_loss: 0.5607 - val_accuracy: 0.7362\n",
      "Epoch 10/100\n",
      "313/313 [==============================] - 8s 25ms/step - loss: 0.5426 - accuracy: 0.7537 - val_loss: 0.5469 - val_accuracy: 0.7478\n",
      "Epoch 11/100\n",
      "313/313 [==============================] - 9s 27ms/step - loss: 0.5289 - accuracy: 0.7615 - val_loss: 0.5397 - val_accuracy: 0.7494\n",
      "Epoch 12/100\n",
      "313/313 [==============================] - 7s 24ms/step - loss: 0.5170 - accuracy: 0.7660 - val_loss: 0.5255 - val_accuracy: 0.7616\n",
      "Epoch 13/100\n",
      "313/313 [==============================] - 7s 23ms/step - loss: 0.5057 - accuracy: 0.7747 - val_loss: 0.5150 - val_accuracy: 0.7660\n",
      "Epoch 14/100\n",
      "313/313 [==============================] - 7s 23ms/step - loss: 0.4956 - accuracy: 0.7814 - val_loss: 0.5072 - val_accuracy: 0.7668\n",
      "Epoch 15/100\n",
      "313/313 [==============================] - 7s 23ms/step - loss: 0.4866 - accuracy: 0.7855 - val_loss: 0.5007 - val_accuracy: 0.7692\n",
      "Epoch 16/100\n",
      "313/313 [==============================] - 7s 23ms/step - loss: 0.4778 - accuracy: 0.7911 - val_loss: 0.4952 - val_accuracy: 0.7708\n",
      "Epoch 17/100\n",
      "313/313 [==============================] - 7s 24ms/step - loss: 0.4712 - accuracy: 0.7927 - val_loss: 0.4884 - val_accuracy: 0.7738\n",
      "Epoch 18/100\n",
      "313/313 [==============================] - 8s 26ms/step - loss: 0.4641 - accuracy: 0.7959 - val_loss: 0.4835 - val_accuracy: 0.7736\n",
      "Epoch 19/100\n",
      "313/313 [==============================] - 10s 31ms/step - loss: 0.4582 - accuracy: 0.7983 - val_loss: 0.4806 - val_accuracy: 0.7754\n",
      "Epoch 20/100\n",
      "313/313 [==============================] - 10s 31ms/step - loss: 0.4526 - accuracy: 0.8006 - val_loss: 0.4823 - val_accuracy: 0.7758\n",
      "Epoch 21/100\n",
      "313/313 [==============================] - 8s 27ms/step - loss: 0.4481 - accuracy: 0.8007 - val_loss: 0.4723 - val_accuracy: 0.7796\n",
      "Epoch 22/100\n",
      "313/313 [==============================] - 9s 28ms/step - loss: 0.4433 - accuracy: 0.8037 - val_loss: 0.4760 - val_accuracy: 0.7712\n",
      "Epoch 23/100\n",
      "313/313 [==============================] - 9s 29ms/step - loss: 0.4392 - accuracy: 0.8060 - val_loss: 0.4700 - val_accuracy: 0.7772\n",
      "Epoch 24/100\n",
      "313/313 [==============================] - 7s 22ms/step - loss: 0.4355 - accuracy: 0.8066 - val_loss: 0.4650 - val_accuracy: 0.7818\n",
      "Epoch 25/100\n",
      "313/313 [==============================] - 8s 26ms/step - loss: 0.4321 - accuracy: 0.8087 - val_loss: 0.4664 - val_accuracy: 0.7846\n",
      "Epoch 26/100\n",
      "313/313 [==============================] - 9s 30ms/step - loss: 0.4291 - accuracy: 0.8095 - val_loss: 0.4618 - val_accuracy: 0.7854\n",
      "Epoch 27/100\n",
      "313/313 [==============================] - 7s 23ms/step - loss: 0.4256 - accuracy: 0.8101 - val_loss: 0.4599 - val_accuracy: 0.7860\n",
      "Epoch 28/100\n",
      "313/313 [==============================] - 7s 23ms/step - loss: 0.4229 - accuracy: 0.8118 - val_loss: 0.4618 - val_accuracy: 0.7806\n",
      "Epoch 29/100\n",
      "313/313 [==============================] - 7s 23ms/step - loss: 0.4204 - accuracy: 0.8128 - val_loss: 0.4704 - val_accuracy: 0.7762\n",
      "Epoch 30/100\n",
      "313/313 [==============================] - 7s 23ms/step - loss: 0.4185 - accuracy: 0.8132 - val_loss: 0.4574 - val_accuracy: 0.7872\n",
      "Epoch 31/100\n",
      "313/313 [==============================] - 7s 23ms/step - loss: 0.4162 - accuracy: 0.8143 - val_loss: 0.4581 - val_accuracy: 0.7848\n",
      "Epoch 32/100\n",
      "313/313 [==============================] - 7s 23ms/step - loss: 0.4138 - accuracy: 0.8147 - val_loss: 0.4593 - val_accuracy: 0.7844\n",
      "Epoch 33/100\n",
      "313/313 [==============================] - 7s 23ms/step - loss: 0.4119 - accuracy: 0.8153 - val_loss: 0.4561 - val_accuracy: 0.7872\n",
      "Epoch 34/100\n",
      "313/313 [==============================] - 7s 23ms/step - loss: 0.4101 - accuracy: 0.8159 - val_loss: 0.4579 - val_accuracy: 0.7840\n",
      "Epoch 35/100\n",
      "313/313 [==============================] - 7s 23ms/step - loss: 0.4089 - accuracy: 0.8156 - val_loss: 0.4656 - val_accuracy: 0.7850\n",
      "Epoch 36/100\n",
      "313/313 [==============================] - 8s 25ms/step - loss: 0.4071 - accuracy: 0.8165 - val_loss: 0.4584 - val_accuracy: 0.7844\n"
     ]
    }
   ],
   "source": [
    "checkpoint_cb = keras.callbacks.ModelCheckpoint('best-simplernn-model.h5', save_best_only=True)\n",
    "early_stopping_cb = keras.callbacks.EarlyStopping(patience=3, restore_best_weights=True)\n",
    "history = model.fit(train_oh, train_target, epochs=100, batch_size= 64, validation_data=(val_oh, val_target),\n",
    "                   callbacks=[checkpoint_cb, early_stopping_cb])"
   ]
  },
  {
   "cell_type": "code",
   "execution_count": 34,
   "id": "aab7b0ba-1995-4431-920e-dd0b30ae0c03",
   "metadata": {},
   "outputs": [
    {
     "data": {
      "image/png": "[encoded data removed]",
      "text/plain": [
       "<Figure size 640x480 with 1 Axes>"
      ]
     },
     "metadata": {},
     "output_type": "display_data"
    }
   ],
   "source": [
    "plt.plot(history.history['loss'])\n",
    "plt.plot(history.history['val_loss'])\n",
    "plt.xlabel('epoch')\n",
    "plt.ylabel('loss')\n",
    "plt.legend(['train', 'val'])\n",
    "plt.show()"
   ]
  },
  {
   "cell_type": "code",
   "execution_count": 33,
   "id": "bc39f577-46d7-4e25-af41-4292404068e7",
   "metadata": {},
   "outputs": [
    {
     "name": "stdout",
     "output_type": "stream",
     "text": [
      "8000000 4000000000\n"
     ]
    }
   ],
   "source": [
    "print(train_seq.nbytes, train_oh.nbytes)"
   ]
  },
  {
   "cell_type": "code",
   "execution_count": 35,
   "id": "b2b8763b-332d-4cb9-9f05-ae6354ea700b",
   "metadata": {},
   "outputs": [],
   "source": [
    "model2 = keras.Sequential()\n",
    "model2.add(keras.layers.Embedding(500, 16, input_length=100))\n",
    "model2.add(keras.layers.SimpleRNN(8))\n",
    "model2.add(keras.layers.Dense(1, activation='sigmoid'))"
   ]
  },
  {
   "cell_type": "code",
   "execution_count": null,
   "id": "040c5afd-f143-4e53-9dee-f877d48d48b7",
   "metadata": {},
   "outputs": [],
   "source": []
  }
 ],
 "metadata": {
  "kernelspec": {
   "display_name": "Python 3 (ipykernel)",
   "language": "python",
   "name": "python3"
  },
  "language_info": {
   "codemirror_mode": {
    "name": "ipython",
    "version": 3
   },
   "file_extension": ".py",
   "mimetype": "text/x-python",
   "name": "python",
   "nbconvert_exporter": "python",
   "pygments_lexer": "ipython3",
   "version": "3.11.6"
  }
 },
 "nbformat": 4,
 "nbformat_minor": 5
}
