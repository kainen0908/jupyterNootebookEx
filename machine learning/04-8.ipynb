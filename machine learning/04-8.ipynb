{
 "cells": [
  {
   "cell_type": "code",
   "execution_count": 1,
   "id": "614b82ca-8fad-4799-85d2-7a1cfccf090a",
   "metadata": {},
   "outputs": [],
   "source": [
    "from tensorflow.keras import optimizers\n",
    "from tensorflow.keras.models import Sequential\n",
    "from tensorflow.keras.layers import Dense\n",
    "import numpy as np\n",
    "import matplotlib.pylab as plt\n",
    "%matplotlib inline"
   ]
  },
  {
   "cell_type": "code",
   "execution_count": 2,
   "id": "22892aa2-9d5e-463e-bdcd-8271c44d055c",
   "metadata": {},
   "outputs": [],
   "source": [
    "X = np.linspace(0, 10, 10)\n",
    "Y = X + np.random.randn(*X.shape)"
   ]
  },
  {
   "cell_type": "code",
   "execution_count": 3,
   "id": "415b2f70-f3fd-44a8-bea8-5ee55e5b1969",
   "metadata": {},
   "outputs": [
    {
     "name": "stdout",
     "output_type": "stream",
     "text": [
      "(0.0, 0.1)\n",
      "(1.1, -1.0)\n",
      "(2.2, 1.7)\n",
      "(3.3, 3.3)\n",
      "(4.4, 6.2)\n",
      "(5.6, 4.4)\n",
      "(6.7, 4.9)\n",
      "(7.8, 8.5)\n",
      "(8.9, 8.3)\n",
      "(10.0, 10.6)\n"
     ]
    }
   ],
   "source": [
    "for x, y in zip(X,Y):\n",
    "    print((round(x,1), round(y,1)))"
   ]
  },
  {
   "cell_type": "code",
   "execution_count": 4,
   "id": "c1b3090e-e4f1-443b-bf25-5702f58952de",
   "metadata": {},
   "outputs": [],
   "source": [
    "model = Sequential()\n",
    "model.add(Dense(input_dim=1, units=1, activation=\"linear\", use_bias=False))"
   ]
  },
  {
   "cell_type": "code",
   "execution_count": 5,
   "id": "f8fae91a-165b-4b8b-9e18-1603f677ddde",
   "metadata": {},
   "outputs": [
    {
     "name": "stderr",
     "output_type": "stream",
     "text": [
      "WARNING:absl:`lr` is deprecated in Keras optimizer, please use `learning_rate` or use the legacy optimizer, e.g.,tf.keras.optimizers.legacy.SGD.\n"
     ]
    }
   ],
   "source": [
    "sgd = optimizers.SGD(lr=0.05)\n",
    "model.compile(optimizer='sgd', loss='mse')"
   ]
  },
  {
   "cell_type": "code",
   "execution_count": 6,
   "id": "f8ecc8c5-cd49-45b0-abfb-959a0b08f61d",
   "metadata": {},
   "outputs": [
    {
     "data": {
      "text/plain": [
       "[array([[1.2175876]], dtype=float32)]"
      ]
     },
     "execution_count": 6,
     "metadata": {},
     "output_type": "execute_result"
    }
   ],
   "source": [
    "weights = model.layers[0].get_weights()\n",
    "weights"
   ]
  },
  {
   "cell_type": "code",
   "execution_count": 7,
   "id": "82942f52-5408-490a-83e1-09e224e094da",
   "metadata": {},
   "outputs": [
    {
     "data": {
      "text/plain": [
       "1.2175876"
      ]
     },
     "execution_count": 7,
     "metadata": {},
     "output_type": "execute_result"
    }
   ],
   "source": [
    "w = weights[0][0][0]\n",
    "w"
   ]
  },
  {
   "cell_type": "code",
   "execution_count": 8,
   "id": "3853ef48-ba32-4178-9bf6-413607062dbf",
   "metadata": {},
   "outputs": [
    {
     "name": "stdout",
     "output_type": "stream",
     "text": [
      "Epoch 1/10\n",
      "1/1 [==============================] - 0s 253ms/step - loss: 3.3634\n",
      "Epoch 2/10\n",
      "1/1 [==============================] - 0s 7ms/step - loss: 1.4907\n",
      "Epoch 3/10\n",
      "1/1 [==============================] - 0s 5ms/step - loss: 1.3263\n",
      "Epoch 4/10\n",
      "1/1 [==============================] - 0s 5ms/step - loss: 1.3119\n",
      "Epoch 5/10\n",
      "1/1 [==============================] - 0s 4ms/step - loss: 1.3106\n",
      "Epoch 6/10\n",
      "1/1 [==============================] - 0s 4ms/step - loss: 1.3105\n",
      "Epoch 7/10\n",
      "1/1 [==============================] - 0s 6ms/step - loss: 1.3105\n",
      "Epoch 8/10\n",
      "1/1 [==============================] - 0s 4ms/step - loss: 1.3105\n",
      "Epoch 9/10\n",
      "1/1 [==============================] - 0s 4ms/step - loss: 1.3105\n",
      "Epoch 10/10\n",
      "1/1 [==============================] - 0s 4ms/step - loss: 1.3105\n"
     ]
    },
    {
     "data": {
      "text/plain": [
       "<keras.src.callbacks.History at 0x20eb7da70d0>"
      ]
     },
     "execution_count": 8,
     "metadata": {},
     "output_type": "execute_result"
    }
   ],
   "source": [
    "model.fit(X, Y, batch_size=10, epochs=10, verbose=1)"
   ]
  },
  {
   "cell_type": "code",
   "execution_count": 9,
   "id": "56cdc24b-7892-458b-ac4b-4b871214da12",
   "metadata": {},
   "outputs": [
    {
     "data": {
      "image/png": "[encoded data removed]",
      "text/plain": [
       "<Figure size 640x480 with 1 Axes>"
      ]
     },
     "metadata": {},
     "output_type": "display_data"
    }
   ],
   "source": [
    "plt.plot(X, Y, label = 'data')\n",
    "plt.plot(X, w*X, label = 'prediction')\n",
    "plt.legend()\n",
    "plt.show()"
   ]
  },
  {
   "cell_type": "code",
   "execution_count": 10,
   "id": "9dab6eae-87a0-41bf-ae99-ba4e1a3e1597",
   "metadata": {},
   "outputs": [
    {
     "data": {
      "text/plain": [
       "1.2175876"
      ]
     },
     "execution_count": 10,
     "metadata": {},
     "output_type": "execute_result"
    }
   ],
   "source": [
    "w = weights[0][0][0]\n",
    "w"
   ]
  },
  {
   "cell_type": "code",
   "execution_count": 11,
   "id": "4ebcc851-ab9b-4f30-8aa3-6d5eea7832c5",
   "metadata": {},
   "outputs": [],
   "source": [
    "from tensorflow.keras.layers import Activation"
   ]
  },
  {
   "cell_type": "code",
   "execution_count": 12,
   "id": "a19eafb4-fdd6-4f36-b6b2-d436d10452c1",
   "metadata": {},
   "outputs": [],
   "source": [
    "model.add(Dense(input_dim = 1, units= 1))\n",
    "model.add(Activation('sigmoid'))\n",
    "model.compile(loss='binary_crossentropy', optimizer = 'sgd',\n",
    "              metrics=['binary_accuracy'])"
   ]
  },
  {
   "cell_type": "code",
   "execution_count": 13,
   "id": "dcbfd642-1fd5-45af-b761-29303e2eca27",
   "metadata": {},
   "outputs": [],
   "source": [
    "X = np.array([-2, -1.5, -1, 1.25, 1.62, 2])\n",
    "Y = np.array([0, 0, 0, 1, 1, 1])"
   ]
  },
  {
   "cell_type": "code",
   "execution_count": 14,
   "id": "dfd36012-57df-415e-9f04-0dd14153a6cb",
   "metadata": {},
   "outputs": [
    {
     "name": "stdout",
     "output_type": "stream",
     "text": [
      "Epoch 1/300\n",
      "1/1 [==============================] - 0s 444ms/step - loss: 2.1623 - binary_accuracy: 0.0000e+00\n",
      "Epoch 2/300\n",
      "1/1 [==============================] - 0s 5ms/step - loss: 2.1107 - binary_accuracy: 0.0000e+00\n",
      "Epoch 3/300\n",
      "1/1 [==============================] - 0s 6ms/step - loss: 2.0610 - binary_accuracy: 0.0000e+00\n",
      "Epoch 4/300\n",
      "1/1 [==============================] - 0s 6ms/step - loss: 2.0133 - binary_accuracy: 0.0000e+00\n",
      "Epoch 5/300\n",
      "1/1 [==============================] - 0s 8ms/step - loss: 1.9674 - binary_accuracy: 0.0000e+00\n",
      "Epoch 6/300\n",
      "1/1 [==============================] - 0s 4ms/step - loss: 1.9233 - binary_accuracy: 0.0000e+00\n",
      "Epoch 7/300\n",
      "1/1 [==============================] - 0s 5ms/step - loss: 1.8810 - binary_accuracy: 0.0000e+00\n",
      "Epoch 8/300\n",
      "1/1 [==============================] - 0s 5ms/step - loss: 1.8402 - binary_accuracy: 0.0000e+00\n",
      "Epoch 9/300\n",
      "1/1 [==============================] - 0s 5ms/step - loss: 1.8010 - binary_accuracy: 0.0000e+00\n",
      "Epoch 10/300\n",
      "1/1 [==============================] - 0s 6ms/step - loss: 1.7633 - binary_accuracy: 0.0000e+00\n",
      "Epoch 11/300\n",
      "1/1 [==============================] - 0s 5ms/step - loss: 1.7271 - binary_accuracy: 0.0000e+00\n",
      "Epoch 12/300\n",
      "1/1 [==============================] - 0s 5ms/step - loss: 1.6922 - binary_accuracy: 0.0000e+00\n",
      "Epoch 13/300\n",
      "1/1 [==============================] - 0s 5ms/step - loss: 1.6587 - binary_accuracy: 0.0000e+00\n",
      "Epoch 14/300\n",
      "1/1 [==============================] - 0s 7ms/step - loss: 1.6264 - binary_accuracy: 0.0000e+00\n",
      "Epoch 15/300\n",
      "1/1 [==============================] - 0s 5ms/step - loss: 1.5954 - binary_accuracy: 0.0000e+00\n",
      "Epoch 16/300\n",
      "1/1 [==============================] - 0s 6ms/step - loss: 1.5654 - binary_accuracy: 0.0000e+00\n",
      "Epoch 17/300\n",
      "1/1 [==============================] - 0s 6ms/step - loss: 1.5366 - binary_accuracy: 0.0000e+00\n",
      "Epoch 18/300\n",
      "1/1 [==============================] - 0s 7ms/step - loss: 1.5089 - binary_accuracy: 0.0000e+00\n",
      "Epoch 19/300\n",
      "1/1 [==============================] - 0s 6ms/step - loss: 1.4822 - binary_accuracy: 0.0000e+00\n",
      "Epoch 20/300\n",
      "1/1 [==============================] - 0s 6ms/step - loss: 1.4564 - binary_accuracy: 0.0000e+00\n",
      "Epoch 21/300\n",
      "1/1 [==============================] - 0s 8ms/step - loss: 1.4316 - binary_accuracy: 0.0000e+00\n",
      "Epoch 22/300\n",
      "1/1 [==============================] - 0s 5ms/step - loss: 1.4076 - binary_accuracy: 0.0000e+00\n",
      "Epoch 23/300\n",
      "1/1 [==============================] - 0s 5ms/step - loss: 1.3845 - binary_accuracy: 0.0000e+00\n",
      "Epoch 24/300\n",
      "1/1 [==============================] - 0s 9ms/step - loss: 1.3622 - binary_accuracy: 0.0000e+00\n",
      "Epoch 25/300\n",
      "1/1 [==============================] - 0s 11ms/step - loss: 1.3407 - binary_accuracy: 0.0000e+00\n",
      "Epoch 26/300\n",
      "1/1 [==============================] - 0s 5ms/step - loss: 1.3199 - binary_accuracy: 0.0000e+00\n",
      "Epoch 27/300\n",
      "1/1 [==============================] - 0s 7ms/step - loss: 1.2998 - binary_accuracy: 0.0000e+00\n",
      "Epoch 28/300\n",
      "1/1 [==============================] - 0s 9ms/step - loss: 1.2804 - binary_accuracy: 0.0000e+00\n",
      "Epoch 29/300\n",
      "1/1 [==============================] - 0s 5ms/step - loss: 1.2616 - binary_accuracy: 0.0000e+00\n",
      "Epoch 30/300\n",
      "1/1 [==============================] - 0s 6ms/step - loss: 1.2434 - binary_accuracy: 0.0000e+00\n",
      "Epoch 31/300\n",
      "1/1 [==============================] - 0s 5ms/step - loss: 1.2259 - binary_accuracy: 0.0000e+00\n",
      "Epoch 32/300\n",
      "1/1 [==============================] - 0s 10ms/step - loss: 1.2089 - binary_accuracy: 0.0000e+00\n",
      "Epoch 33/300\n",
      "1/1 [==============================] - 0s 5ms/step - loss: 1.1924 - binary_accuracy: 0.0000e+00\n",
      "Epoch 34/300\n",
      "1/1 [==============================] - 0s 7ms/step - loss: 1.1765 - binary_accuracy: 0.0000e+00\n",
      "Epoch 35/300\n",
      "1/1 [==============================] - 0s 8ms/step - loss: 1.1610 - binary_accuracy: 0.0000e+00\n",
      "Epoch 36/300\n",
      "1/1 [==============================] - 0s 6ms/step - loss: 1.1460 - binary_accuracy: 0.0000e+00\n",
      "Epoch 37/300\n",
      "1/1 [==============================] - 0s 5ms/step - loss: 1.1315 - binary_accuracy: 0.0000e+00\n",
      "Epoch 38/300\n",
      "1/1 [==============================] - 0s 8ms/step - loss: 1.1174 - binary_accuracy: 0.0000e+00\n",
      "Epoch 39/300\n",
      "1/1 [==============================] - 0s 9ms/step - loss: 1.1037 - binary_accuracy: 0.0000e+00\n",
      "Epoch 40/300\n",
      "1/1 [==============================] - 0s 5ms/step - loss: 1.0904 - binary_accuracy: 0.0000e+00\n",
      "Epoch 41/300\n",
      "1/1 [==============================] - 0s 8ms/step - loss: 1.0775 - binary_accuracy: 0.0000e+00\n",
      "Epoch 42/300\n",
      "1/1 [==============================] - 0s 6ms/step - loss: 1.0650 - binary_accuracy: 0.0000e+00\n",
      "Epoch 43/300\n",
      "1/1 [==============================] - 0s 7ms/step - loss: 1.0528 - binary_accuracy: 0.0000e+00\n",
      "Epoch 44/300\n",
      "1/1 [==============================] - 0s 7ms/step - loss: 1.0409 - binary_accuracy: 0.0000e+00\n",
      "Epoch 45/300\n",
      "1/1 [==============================] - 0s 7ms/step - loss: 1.0293 - binary_accuracy: 0.0000e+00\n",
      "Epoch 46/300\n",
      "1/1 [==============================] - 0s 9ms/step - loss: 1.0181 - binary_accuracy: 0.0000e+00\n",
      "Epoch 47/300\n",
      "1/1 [==============================] - 0s 7ms/step - loss: 1.0072 - binary_accuracy: 0.0000e+00\n",
      "Epoch 48/300\n",
      "1/1 [==============================] - 0s 8ms/step - loss: 0.9965 - binary_accuracy: 0.0000e+00\n",
      "Epoch 49/300\n",
      "1/1 [==============================] - 0s 10ms/step - loss: 0.9861 - binary_accuracy: 0.0000e+00\n",
      "Epoch 50/300\n",
      "1/1 [==============================] - 0s 5ms/step - loss: 0.9760 - binary_accuracy: 0.0000e+00\n",
      "Epoch 51/300\n",
      "1/1 [==============================] - 0s 21ms/step - loss: 0.9661 - binary_accuracy: 0.0000e+00\n",
      "Epoch 52/300\n",
      "1/1 [==============================] - 0s 9ms/step - loss: 0.9564 - binary_accuracy: 0.0000e+00\n",
      "Epoch 53/300\n",
      "1/1 [==============================] - 0s 5ms/step - loss: 0.9470 - binary_accuracy: 0.0000e+00\n",
      "Epoch 54/300\n",
      "1/1 [==============================] - 0s 10ms/step - loss: 0.9378 - binary_accuracy: 0.0000e+00\n",
      "Epoch 55/300\n",
      "1/1 [==============================] - 0s 9ms/step - loss: 0.9288 - binary_accuracy: 0.0000e+00\n",
      "Epoch 56/300\n",
      "1/1 [==============================] - 0s 5ms/step - loss: 0.9200 - binary_accuracy: 0.0000e+00\n",
      "Epoch 57/300\n",
      "1/1 [==============================] - 0s 9ms/step - loss: 0.9114 - binary_accuracy: 0.0000e+00\n",
      "Epoch 58/300\n",
      "1/1 [==============================] - 0s 6ms/step - loss: 0.9030 - binary_accuracy: 0.0000e+00\n",
      "Epoch 59/300\n",
      "1/1 [==============================] - 0s 6ms/step - loss: 0.8948 - binary_accuracy: 0.0000e+00\n",
      "Epoch 60/300\n",
      "1/1 [==============================] - 0s 4ms/step - loss: 0.8867 - binary_accuracy: 0.0000e+00\n",
      "Epoch 61/300\n",
      "1/1 [==============================] - 0s 6ms/step - loss: 0.8788 - binary_accuracy: 0.0000e+00\n",
      "Epoch 62/300\n",
      "1/1 [==============================] - 0s 5ms/step - loss: 0.8711 - binary_accuracy: 0.0000e+00\n",
      "Epoch 63/300\n",
      "1/1 [==============================] - 0s 6ms/step - loss: 0.8635 - binary_accuracy: 0.0000e+00\n",
      "Epoch 64/300\n",
      "1/1 [==============================] - 0s 4ms/step - loss: 0.8561 - binary_accuracy: 0.0000e+00\n",
      "Epoch 65/300\n",
      "1/1 [==============================] - 0s 6ms/step - loss: 0.8488 - binary_accuracy: 0.0000e+00\n",
      "Epoch 66/300\n",
      "1/1 [==============================] - 0s 6ms/step - loss: 0.8416 - binary_accuracy: 0.0000e+00\n",
      "Epoch 67/300\n",
      "1/1 [==============================] - 0s 5ms/step - loss: 0.8346 - binary_accuracy: 0.0000e+00\n",
      "Epoch 68/300\n",
      "1/1 [==============================] - 0s 5ms/step - loss: 0.8277 - binary_accuracy: 0.0000e+00\n",
      "Epoch 69/300\n",
      "1/1 [==============================] - 0s 6ms/step - loss: 0.8209 - binary_accuracy: 0.0000e+00\n",
      "Epoch 70/300\n",
      "1/1 [==============================] - 0s 5ms/step - loss: 0.8143 - binary_accuracy: 0.0000e+00\n",
      "Epoch 71/300\n",
      "1/1 [==============================] - 0s 5ms/step - loss: 0.8077 - binary_accuracy: 0.0000e+00\n",
      "Epoch 72/300\n",
      "1/1 [==============================] - 0s 4ms/step - loss: 0.8013 - binary_accuracy: 0.0000e+00\n",
      "Epoch 73/300\n",
      "1/1 [==============================] - 0s 5ms/step - loss: 0.7950 - binary_accuracy: 0.0000e+00\n",
      "Epoch 74/300\n",
      "1/1 [==============================] - 0s 6ms/step - loss: 0.7887 - binary_accuracy: 0.0000e+00\n",
      "Epoch 75/300\n",
      "1/1 [==============================] - 0s 5ms/step - loss: 0.7826 - binary_accuracy: 0.0000e+00\n",
      "Epoch 76/300\n",
      "1/1 [==============================] - 0s 6ms/step - loss: 0.7766 - binary_accuracy: 0.0000e+00\n",
      "Epoch 77/300\n",
      "1/1 [==============================] - 0s 5ms/step - loss: 0.7706 - binary_accuracy: 0.0000e+00\n",
      "Epoch 78/300\n",
      "1/1 [==============================] - 0s 5ms/step - loss: 0.7648 - binary_accuracy: 0.0000e+00\n",
      "Epoch 79/300\n",
      "1/1 [==============================] - 0s 6ms/step - loss: 0.7590 - binary_accuracy: 0.0000e+00\n",
      "Epoch 80/300\n",
      "1/1 [==============================] - 0s 6ms/step - loss: 0.7533 - binary_accuracy: 0.0000e+00\n",
      "Epoch 81/300\n",
      "1/1 [==============================] - 0s 5ms/step - loss: 0.7477 - binary_accuracy: 0.0000e+00\n",
      "Epoch 82/300\n",
      "1/1 [==============================] - 0s 5ms/step - loss: 0.7421 - binary_accuracy: 0.0000e+00\n",
      "Epoch 83/300\n",
      "1/1 [==============================] - 0s 6ms/step - loss: 0.7366 - binary_accuracy: 0.0000e+00\n",
      "Epoch 84/300\n",
      "1/1 [==============================] - 0s 6ms/step - loss: 0.7312 - binary_accuracy: 0.0000e+00\n",
      "Epoch 85/300\n",
      "1/1 [==============================] - 0s 5ms/step - loss: 0.7259 - binary_accuracy: 0.0000e+00\n",
      "Epoch 86/300\n",
      "1/1 [==============================] - 0s 4ms/step - loss: 0.7206 - binary_accuracy: 0.0000e+00\n",
      "Epoch 87/300\n",
      "1/1 [==============================] - 0s 7ms/step - loss: 0.7154 - binary_accuracy: 0.0000e+00\n",
      "Epoch 88/300\n",
      "1/1 [==============================] - 0s 6ms/step - loss: 0.7103 - binary_accuracy: 0.0000e+00\n",
      "Epoch 89/300\n",
      "1/1 [==============================] - 0s 6ms/step - loss: 0.7052 - binary_accuracy: 0.0000e+00\n",
      "Epoch 90/300\n",
      "1/1 [==============================] - 0s 4ms/step - loss: 0.7001 - binary_accuracy: 0.0000e+00\n",
      "Epoch 91/300\n",
      "1/1 [==============================] - 0s 5ms/step - loss: 0.6952 - binary_accuracy: 0.3333\n",
      "Epoch 92/300\n",
      "1/1 [==============================] - 0s 6ms/step - loss: 0.6902 - binary_accuracy: 0.8333\n",
      "Epoch 93/300\n",
      "1/1 [==============================] - 0s 5ms/step - loss: 0.6853 - binary_accuracy: 1.0000\n",
      "Epoch 94/300\n",
      "1/1 [==============================] - 0s 7ms/step - loss: 0.6805 - binary_accuracy: 1.0000\n",
      "Epoch 95/300\n",
      "1/1 [==============================] - 0s 7ms/step - loss: 0.6757 - binary_accuracy: 1.0000\n",
      "Epoch 96/300\n",
      "1/1 [==============================] - 0s 5ms/step - loss: 0.6710 - binary_accuracy: 1.0000\n",
      "Epoch 97/300\n",
      "1/1 [==============================] - 0s 5ms/step - loss: 0.6663 - binary_accuracy: 1.0000\n",
      "Epoch 98/300\n",
      "1/1 [==============================] - 0s 4ms/step - loss: 0.6617 - binary_accuracy: 1.0000\n",
      "Epoch 99/300\n",
      "1/1 [==============================] - 0s 5ms/step - loss: 0.6571 - binary_accuracy: 1.0000\n",
      "Epoch 100/300\n",
      "1/1 [==============================] - 0s 5ms/step - loss: 0.6525 - binary_accuracy: 1.0000\n",
      "Epoch 101/300\n",
      "1/1 [==============================] - 0s 5ms/step - loss: 0.6480 - binary_accuracy: 1.0000\n",
      "Epoch 102/300\n",
      "1/1 [==============================] - 0s 4ms/step - loss: 0.6435 - binary_accuracy: 1.0000\n",
      "Epoch 103/300\n",
      "1/1 [==============================] - 0s 4ms/step - loss: 0.6390 - binary_accuracy: 1.0000\n",
      "Epoch 104/300\n",
      "1/1 [==============================] - 0s 5ms/step - loss: 0.6346 - binary_accuracy: 1.0000\n",
      "Epoch 105/300\n",
      "1/1 [==============================] - 0s 7ms/step - loss: 0.6302 - binary_accuracy: 1.0000\n",
      "Epoch 106/300\n",
      "1/1 [==============================] - 0s 5ms/step - loss: 0.6259 - binary_accuracy: 1.0000\n",
      "Epoch 107/300\n",
      "1/1 [==============================] - 0s 5ms/step - loss: 0.6216 - binary_accuracy: 1.0000\n",
      "Epoch 108/300\n",
      "1/1 [==============================] - 0s 5ms/step - loss: 0.6173 - binary_accuracy: 1.0000\n",
      "Epoch 109/300\n",
      "1/1 [==============================] - 0s 5ms/step - loss: 0.6131 - binary_accuracy: 1.0000\n",
      "Epoch 110/300\n",
      "1/1 [==============================] - 0s 6ms/step - loss: 0.6088 - binary_accuracy: 1.0000\n",
      "Epoch 111/300\n",
      "1/1 [==============================] - 0s 5ms/step - loss: 0.6046 - binary_accuracy: 1.0000\n",
      "Epoch 112/300\n",
      "1/1 [==============================] - 0s 5ms/step - loss: 0.6005 - binary_accuracy: 1.0000\n",
      "Epoch 113/300\n",
      "1/1 [==============================] - 0s 5ms/step - loss: 0.5963 - binary_accuracy: 1.0000\n",
      "Epoch 114/300\n",
      "1/1 [==============================] - 0s 7ms/step - loss: 0.5922 - binary_accuracy: 1.0000\n",
      "Epoch 115/300\n",
      "1/1 [==============================] - 0s 4ms/step - loss: 0.5881 - binary_accuracy: 1.0000\n",
      "Epoch 116/300\n",
      "1/1 [==============================] - 0s 6ms/step - loss: 0.5841 - binary_accuracy: 1.0000\n",
      "Epoch 117/300\n",
      "1/1 [==============================] - 0s 5ms/step - loss: 0.5801 - binary_accuracy: 1.0000\n",
      "Epoch 118/300\n",
      "1/1 [==============================] - 0s 6ms/step - loss: 0.5760 - binary_accuracy: 1.0000\n",
      "Epoch 119/300\n",
      "1/1 [==============================] - 0s 4ms/step - loss: 0.5721 - binary_accuracy: 1.0000\n",
      "Epoch 120/300\n",
      "1/1 [==============================] - 0s 5ms/step - loss: 0.5681 - binary_accuracy: 1.0000\n",
      "Epoch 121/300\n",
      "1/1 [==============================] - 0s 6ms/step - loss: 0.5642 - binary_accuracy: 1.0000\n",
      "Epoch 122/300\n",
      "1/1 [==============================] - 0s 6ms/step - loss: 0.5603 - binary_accuracy: 1.0000\n",
      "Epoch 123/300\n",
      "1/1 [==============================] - 0s 5ms/step - loss: 0.5564 - binary_accuracy: 1.0000\n",
      "Epoch 124/300\n",
      "1/1 [==============================] - 0s 5ms/step - loss: 0.5525 - binary_accuracy: 1.0000\n",
      "Epoch 125/300\n",
      "1/1 [==============================] - 0s 4ms/step - loss: 0.5486 - binary_accuracy: 1.0000\n",
      "Epoch 126/300\n",
      "1/1 [==============================] - 0s 4ms/step - loss: 0.5448 - binary_accuracy: 1.0000\n",
      "Epoch 127/300\n",
      "1/1 [==============================] - 0s 7ms/step - loss: 0.5410 - binary_accuracy: 1.0000\n",
      "Epoch 128/300\n",
      "1/1 [==============================] - 0s 5ms/step - loss: 0.5372 - binary_accuracy: 1.0000\n",
      "Epoch 129/300\n",
      "1/1 [==============================] - 0s 5ms/step - loss: 0.5334 - binary_accuracy: 1.0000\n",
      "Epoch 130/300\n",
      "1/1 [==============================] - 0s 5ms/step - loss: 0.5297 - binary_accuracy: 1.0000\n",
      "Epoch 131/300\n",
      "1/1 [==============================] - 0s 5ms/step - loss: 0.5260 - binary_accuracy: 1.0000\n",
      "Epoch 132/300\n",
      "1/1 [==============================] - 0s 5ms/step - loss: 0.5223 - binary_accuracy: 1.0000\n",
      "Epoch 133/300\n",
      "1/1 [==============================] - 0s 6ms/step - loss: 0.5186 - binary_accuracy: 1.0000\n",
      "Epoch 134/300\n",
      "1/1 [==============================] - 0s 6ms/step - loss: 0.5149 - binary_accuracy: 1.0000\n",
      "Epoch 135/300\n",
      "1/1 [==============================] - 0s 5ms/step - loss: 0.5112 - binary_accuracy: 1.0000\n",
      "Epoch 136/300\n",
      "1/1 [==============================] - 0s 6ms/step - loss: 0.5076 - binary_accuracy: 1.0000\n",
      "Epoch 137/300\n",
      "1/1 [==============================] - 0s 4ms/step - loss: 0.5040 - binary_accuracy: 1.0000\n",
      "Epoch 138/300\n",
      "1/1 [==============================] - 0s 6ms/step - loss: 0.5004 - binary_accuracy: 1.0000\n",
      "Epoch 139/300\n",
      "1/1 [==============================] - 0s 4ms/step - loss: 0.4968 - binary_accuracy: 1.0000\n",
      "Epoch 140/300\n",
      "1/1 [==============================] - 0s 5ms/step - loss: 0.4932 - binary_accuracy: 1.0000\n",
      "Epoch 141/300\n",
      "1/1 [==============================] - 0s 4ms/step - loss: 0.4897 - binary_accuracy: 1.0000\n",
      "Epoch 142/300\n",
      "1/1 [==============================] - 0s 5ms/step - loss: 0.4862 - binary_accuracy: 1.0000\n",
      "Epoch 143/300\n",
      "1/1 [==============================] - 0s 6ms/step - loss: 0.4827 - binary_accuracy: 1.0000\n",
      "Epoch 144/300\n",
      "1/1 [==============================] - 0s 5ms/step - loss: 0.4792 - binary_accuracy: 1.0000\n",
      "Epoch 145/300\n",
      "1/1 [==============================] - 0s 6ms/step - loss: 0.4757 - binary_accuracy: 1.0000\n",
      "Epoch 146/300\n",
      "1/1 [==============================] - 0s 4ms/step - loss: 0.4722 - binary_accuracy: 1.0000\n",
      "Epoch 147/300\n",
      "1/1 [==============================] - 0s 5ms/step - loss: 0.4688 - binary_accuracy: 1.0000\n",
      "Epoch 148/300\n",
      "1/1 [==============================] - 0s 6ms/step - loss: 0.4654 - binary_accuracy: 1.0000\n",
      "Epoch 149/300\n",
      "1/1 [==============================] - 0s 5ms/step - loss: 0.4620 - binary_accuracy: 1.0000\n",
      "Epoch 150/300\n",
      "1/1 [==============================] - 0s 6ms/step - loss: 0.4586 - binary_accuracy: 1.0000\n",
      "Epoch 151/300\n",
      "1/1 [==============================] - 0s 4ms/step - loss: 0.4552 - binary_accuracy: 1.0000\n",
      "Epoch 152/300\n",
      "1/1 [==============================] - 0s 5ms/step - loss: 0.4519 - binary_accuracy: 1.0000\n",
      "Epoch 153/300\n",
      "1/1 [==============================] - 0s 6ms/step - loss: 0.4485 - binary_accuracy: 1.0000\n",
      "Epoch 154/300\n",
      "1/1 [==============================] - 0s 5ms/step - loss: 0.4452 - binary_accuracy: 1.0000\n",
      "Epoch 155/300\n",
      "1/1 [==============================] - 0s 5ms/step - loss: 0.4419 - binary_accuracy: 1.0000\n",
      "Epoch 156/300\n",
      "1/1 [==============================] - 0s 4ms/step - loss: 0.4386 - binary_accuracy: 1.0000\n",
      "Epoch 157/300\n",
      "1/1 [==============================] - 0s 5ms/step - loss: 0.4354 - binary_accuracy: 1.0000\n",
      "Epoch 158/300\n",
      "1/1 [==============================] - 0s 5ms/step - loss: 0.4321 - binary_accuracy: 1.0000\n",
      "Epoch 159/300\n",
      "1/1 [==============================] - 0s 6ms/step - loss: 0.4289 - binary_accuracy: 1.0000\n",
      "Epoch 160/300\n",
      "1/1 [==============================] - 0s 6ms/step - loss: 0.4257 - binary_accuracy: 1.0000\n",
      "Epoch 161/300\n",
      "1/1 [==============================] - 0s 5ms/step - loss: 0.4225 - binary_accuracy: 1.0000\n",
      "Epoch 162/300\n",
      "1/1 [==============================] - 0s 7ms/step - loss: 0.4193 - binary_accuracy: 1.0000\n",
      "Epoch 163/300\n",
      "1/1 [==============================] - 0s 5ms/step - loss: 0.4161 - binary_accuracy: 1.0000\n",
      "Epoch 164/300\n",
      "1/1 [==============================] - 0s 8ms/step - loss: 0.4130 - binary_accuracy: 1.0000\n",
      "Epoch 165/300\n",
      "1/1 [==============================] - 0s 5ms/step - loss: 0.4099 - binary_accuracy: 1.0000\n",
      "Epoch 166/300\n",
      "1/1 [==============================] - 0s 5ms/step - loss: 0.4068 - binary_accuracy: 1.0000\n",
      "Epoch 167/300\n",
      "1/1 [==============================] - 0s 3ms/step - loss: 0.4037 - binary_accuracy: 1.0000\n",
      "Epoch 168/300\n",
      "1/1 [==============================] - 0s 5ms/step - loss: 0.4006 - binary_accuracy: 1.0000\n",
      "Epoch 169/300\n",
      "1/1 [==============================] - 0s 5ms/step - loss: 0.3976 - binary_accuracy: 1.0000\n",
      "Epoch 170/300\n",
      "1/1 [==============================] - 0s 5ms/step - loss: 0.3945 - binary_accuracy: 1.0000\n",
      "Epoch 171/300\n",
      "1/1 [==============================] - 0s 6ms/step - loss: 0.3915 - binary_accuracy: 1.0000\n",
      "Epoch 172/300\n",
      "1/1 [==============================] - 0s 5ms/step - loss: 0.3885 - binary_accuracy: 1.0000\n",
      "Epoch 173/300\n",
      "1/1 [==============================] - 0s 7ms/step - loss: 0.3855 - binary_accuracy: 1.0000\n",
      "Epoch 174/300\n",
      "1/1 [==============================] - 0s 4ms/step - loss: 0.3826 - binary_accuracy: 1.0000\n",
      "Epoch 175/300\n",
      "1/1 [==============================] - 0s 5ms/step - loss: 0.3796 - binary_accuracy: 1.0000\n",
      "Epoch 176/300\n",
      "1/1 [==============================] - 0s 6ms/step - loss: 0.3767 - binary_accuracy: 1.0000\n",
      "Epoch 177/300\n",
      "1/1 [==============================] - 0s 5ms/step - loss: 0.3738 - binary_accuracy: 1.0000\n",
      "Epoch 178/300\n",
      "1/1 [==============================] - 0s 6ms/step - loss: 0.3709 - binary_accuracy: 1.0000\n",
      "Epoch 179/300\n",
      "1/1 [==============================] - 0s 5ms/step - loss: 0.3680 - binary_accuracy: 1.0000\n",
      "Epoch 180/300\n",
      "1/1 [==============================] - 0s 7ms/step - loss: 0.3652 - binary_accuracy: 1.0000\n",
      "Epoch 181/300\n",
      "1/1 [==============================] - 0s 5ms/step - loss: 0.3624 - binary_accuracy: 1.0000\n",
      "Epoch 182/300\n",
      "1/1 [==============================] - 0s 6ms/step - loss: 0.3596 - binary_accuracy: 1.0000\n",
      "Epoch 183/300\n",
      "1/1 [==============================] - 0s 4ms/step - loss: 0.3568 - binary_accuracy: 1.0000\n",
      "Epoch 184/300\n",
      "1/1 [==============================] - 0s 8ms/step - loss: 0.3540 - binary_accuracy: 1.0000\n",
      "Epoch 185/300\n",
      "1/1 [==============================] - 0s 5ms/step - loss: 0.3512 - binary_accuracy: 1.0000\n",
      "Epoch 186/300\n",
      "1/1 [==============================] - 0s 7ms/step - loss: 0.3485 - binary_accuracy: 1.0000\n",
      "Epoch 187/300\n",
      "1/1 [==============================] - 0s 4ms/step - loss: 0.3458 - binary_accuracy: 1.0000\n",
      "Epoch 188/300\n",
      "1/1 [==============================] - 0s 5ms/step - loss: 0.3431 - binary_accuracy: 1.0000\n",
      "Epoch 189/300\n",
      "1/1 [==============================] - 0s 5ms/step - loss: 0.3404 - binary_accuracy: 1.0000\n",
      "Epoch 190/300\n",
      "1/1 [==============================] - 0s 6ms/step - loss: 0.3377 - binary_accuracy: 1.0000\n",
      "Epoch 191/300\n",
      "1/1 [==============================] - 0s 4ms/step - loss: 0.3351 - binary_accuracy: 1.0000\n",
      "Epoch 192/300\n",
      "1/1 [==============================] - 0s 5ms/step - loss: 0.3325 - binary_accuracy: 1.0000\n",
      "Epoch 193/300\n",
      "1/1 [==============================] - 0s 6ms/step - loss: 0.3299 - binary_accuracy: 1.0000\n",
      "Epoch 194/300\n",
      "1/1 [==============================] - 0s 3ms/step - loss: 0.3273 - binary_accuracy: 1.0000\n",
      "Epoch 195/300\n",
      "1/1 [==============================] - 0s 7ms/step - loss: 0.3247 - binary_accuracy: 1.0000\n",
      "Epoch 196/300\n",
      "1/1 [==============================] - 0s 5ms/step - loss: 0.3222 - binary_accuracy: 1.0000\n",
      "Epoch 197/300\n",
      "1/1 [==============================] - 0s 5ms/step - loss: 0.3197 - binary_accuracy: 1.0000\n",
      "Epoch 198/300\n",
      "1/1 [==============================] - 0s 5ms/step - loss: 0.3172 - binary_accuracy: 1.0000\n",
      "Epoch 199/300\n",
      "1/1 [==============================] - 0s 6ms/step - loss: 0.3147 - binary_accuracy: 1.0000\n",
      "Epoch 200/300\n",
      "1/1 [==============================] - 0s 5ms/step - loss: 0.3122 - binary_accuracy: 1.0000\n",
      "Epoch 201/300\n",
      "1/1 [==============================] - 0s 5ms/step - loss: 0.3097 - binary_accuracy: 1.0000\n",
      "Epoch 202/300\n",
      "1/1 [==============================] - 0s 6ms/step - loss: 0.3073 - binary_accuracy: 1.0000\n",
      "Epoch 203/300\n",
      "1/1 [==============================] - 0s 4ms/step - loss: 0.3049 - binary_accuracy: 1.0000\n",
      "Epoch 204/300\n",
      "1/1 [==============================] - 0s 6ms/step - loss: 0.3025 - binary_accuracy: 1.0000\n",
      "Epoch 205/300\n",
      "1/1 [==============================] - 0s 4ms/step - loss: 0.3001 - binary_accuracy: 1.0000\n",
      "Epoch 206/300\n",
      "1/1 [==============================] - 0s 5ms/step - loss: 0.2978 - binary_accuracy: 1.0000\n",
      "Epoch 207/300\n",
      "1/1 [==============================] - 0s 6ms/step - loss: 0.2954 - binary_accuracy: 1.0000\n",
      "Epoch 208/300\n",
      "1/1 [==============================] - 0s 6ms/step - loss: 0.2931 - binary_accuracy: 1.0000\n",
      "Epoch 209/300\n",
      "1/1 [==============================] - 0s 6ms/step - loss: 0.2908 - binary_accuracy: 1.0000\n",
      "Epoch 210/300\n",
      "1/1 [==============================] - 0s 5ms/step - loss: 0.2886 - binary_accuracy: 1.0000\n",
      "Epoch 211/300\n",
      "1/1 [==============================] - 0s 4ms/step - loss: 0.2863 - binary_accuracy: 1.0000\n",
      "Epoch 212/300\n",
      "1/1 [==============================] - 0s 4ms/step - loss: 0.2841 - binary_accuracy: 1.0000\n",
      "Epoch 213/300\n",
      "1/1 [==============================] - 0s 6ms/step - loss: 0.2818 - binary_accuracy: 1.0000\n",
      "Epoch 214/300\n",
      "1/1 [==============================] - 0s 5ms/step - loss: 0.2796 - binary_accuracy: 1.0000\n",
      "Epoch 215/300\n",
      "1/1 [==============================] - 0s 5ms/step - loss: 0.2774 - binary_accuracy: 1.0000\n",
      "Epoch 216/300\n",
      "1/1 [==============================] - 0s 6ms/step - loss: 0.2753 - binary_accuracy: 1.0000\n",
      "Epoch 217/300\n",
      "1/1 [==============================] - 0s 5ms/step - loss: 0.2731 - binary_accuracy: 1.0000\n",
      "Epoch 218/300\n",
      "1/1 [==============================] - 0s 7ms/step - loss: 0.2710 - binary_accuracy: 1.0000\n",
      "Epoch 219/300\n",
      "1/1 [==============================] - 0s 5ms/step - loss: 0.2689 - binary_accuracy: 1.0000\n",
      "Epoch 220/300\n",
      "1/1 [==============================] - 0s 5ms/step - loss: 0.2668 - binary_accuracy: 1.0000\n",
      "Epoch 221/300\n",
      "1/1 [==============================] - 0s 5ms/step - loss: 0.2647 - binary_accuracy: 1.0000\n",
      "Epoch 222/300\n",
      "1/1 [==============================] - 0s 7ms/step - loss: 0.2626 - binary_accuracy: 1.0000\n",
      "Epoch 223/300\n",
      "1/1 [==============================] - 0s 11ms/step - loss: 0.2606 - binary_accuracy: 1.0000\n",
      "Epoch 224/300\n",
      "1/1 [==============================] - 0s 5ms/step - loss: 0.2586 - binary_accuracy: 1.0000\n",
      "Epoch 225/300\n",
      "1/1 [==============================] - 0s 5ms/step - loss: 0.2566 - binary_accuracy: 1.0000\n",
      "Epoch 226/300\n",
      "1/1 [==============================] - 0s 7ms/step - loss: 0.2546 - binary_accuracy: 1.0000\n",
      "Epoch 227/300\n",
      "1/1 [==============================] - 0s 6ms/step - loss: 0.2526 - binary_accuracy: 1.0000\n",
      "Epoch 228/300\n",
      "1/1 [==============================] - 0s 6ms/step - loss: 0.2507 - binary_accuracy: 1.0000\n",
      "Epoch 229/300\n",
      "1/1 [==============================] - 0s 6ms/step - loss: 0.2487 - binary_accuracy: 1.0000\n",
      "Epoch 230/300\n",
      "1/1 [==============================] - 0s 5ms/step - loss: 0.2468 - binary_accuracy: 1.0000\n",
      "Epoch 231/300\n",
      "1/1 [==============================] - 0s 5ms/step - loss: 0.2449 - binary_accuracy: 1.0000\n",
      "Epoch 232/300\n",
      "1/1 [==============================] - 0s 5ms/step - loss: 0.2430 - binary_accuracy: 1.0000\n",
      "Epoch 233/300\n",
      "1/1 [==============================] - 0s 5ms/step - loss: 0.2412 - binary_accuracy: 1.0000\n",
      "Epoch 234/300\n",
      "1/1 [==============================] - 0s 5ms/step - loss: 0.2393 - binary_accuracy: 1.0000\n",
      "Epoch 235/300\n",
      "1/1 [==============================] - 0s 4ms/step - loss: 0.2375 - binary_accuracy: 1.0000\n",
      "Epoch 236/300\n",
      "1/1 [==============================] - 0s 5ms/step - loss: 0.2357 - binary_accuracy: 1.0000\n",
      "Epoch 237/300\n",
      "1/1 [==============================] - 0s 5ms/step - loss: 0.2339 - binary_accuracy: 1.0000\n",
      "Epoch 238/300\n",
      "1/1 [==============================] - 0s 5ms/step - loss: 0.2321 - binary_accuracy: 1.0000\n",
      "Epoch 239/300\n",
      "1/1 [==============================] - 0s 6ms/step - loss: 0.2303 - binary_accuracy: 1.0000\n",
      "Epoch 240/300\n",
      "1/1 [==============================] - 0s 4ms/step - loss: 0.2286 - binary_accuracy: 1.0000\n",
      "Epoch 241/300\n",
      "1/1 [==============================] - 0s 5ms/step - loss: 0.2269 - binary_accuracy: 1.0000\n",
      "Epoch 242/300\n",
      "1/1 [==============================] - 0s 4ms/step - loss: 0.2251 - binary_accuracy: 1.0000\n",
      "Epoch 243/300\n",
      "1/1 [==============================] - 0s 6ms/step - loss: 0.2234 - binary_accuracy: 1.0000\n",
      "Epoch 244/300\n",
      "1/1 [==============================] - 0s 5ms/step - loss: 0.2217 - binary_accuracy: 1.0000\n",
      "Epoch 245/300\n",
      "1/1 [==============================] - 0s 4ms/step - loss: 0.2201 - binary_accuracy: 1.0000\n",
      "Epoch 246/300\n",
      "1/1 [==============================] - 0s 7ms/step - loss: 0.2184 - binary_accuracy: 1.0000\n",
      "Epoch 247/300\n",
      "1/1 [==============================] - 0s 4ms/step - loss: 0.2168 - binary_accuracy: 1.0000\n",
      "Epoch 248/300\n",
      "1/1 [==============================] - 0s 6ms/step - loss: 0.2152 - binary_accuracy: 1.0000\n",
      "Epoch 249/300\n",
      "1/1 [==============================] - 0s 4ms/step - loss: 0.2136 - binary_accuracy: 1.0000\n",
      "Epoch 250/300\n",
      "1/1 [==============================] - 0s 6ms/step - loss: 0.2120 - binary_accuracy: 1.0000\n",
      "Epoch 251/300\n",
      "1/1 [==============================] - 0s 4ms/step - loss: 0.2104 - binary_accuracy: 1.0000\n",
      "Epoch 252/300\n",
      "1/1 [==============================] - 0s 4ms/step - loss: 0.2088 - binary_accuracy: 1.0000\n",
      "Epoch 253/300\n",
      "1/1 [==============================] - 0s 6ms/step - loss: 0.2073 - binary_accuracy: 1.0000\n",
      "Epoch 254/300\n",
      "1/1 [==============================] - 0s 4ms/step - loss: 0.2057 - binary_accuracy: 1.0000\n",
      "Epoch 255/300\n",
      "1/1 [==============================] - 0s 6ms/step - loss: 0.2042 - binary_accuracy: 1.0000\n",
      "Epoch 256/300\n",
      "1/1 [==============================] - 0s 4ms/step - loss: 0.2027 - binary_accuracy: 1.0000\n",
      "Epoch 257/300\n",
      "1/1 [==============================] - 0s 5ms/step - loss: 0.2012 - binary_accuracy: 1.0000\n",
      "Epoch 258/300\n",
      "1/1 [==============================] - 0s 5ms/step - loss: 0.1998 - binary_accuracy: 1.0000\n",
      "Epoch 259/300\n",
      "1/1 [==============================] - 0s 5ms/step - loss: 0.1983 - binary_accuracy: 1.0000\n",
      "Epoch 260/300\n",
      "1/1 [==============================] - 0s 7ms/step - loss: 0.1968 - binary_accuracy: 1.0000\n",
      "Epoch 261/300\n",
      "1/1 [==============================] - 0s 4ms/step - loss: 0.1954 - binary_accuracy: 1.0000\n",
      "Epoch 262/300\n",
      "1/1 [==============================] - 0s 7ms/step - loss: 0.1940 - binary_accuracy: 1.0000\n",
      "Epoch 263/300\n",
      "1/1 [==============================] - 0s 5ms/step - loss: 0.1926 - binary_accuracy: 1.0000\n",
      "Epoch 264/300\n",
      "1/1 [==============================] - 0s 5ms/step - loss: 0.1912 - binary_accuracy: 1.0000\n",
      "Epoch 265/300\n",
      "1/1 [==============================] - 0s 4ms/step - loss: 0.1898 - binary_accuracy: 1.0000\n",
      "Epoch 266/300\n",
      "1/1 [==============================] - 0s 7ms/step - loss: 0.1884 - binary_accuracy: 1.0000\n",
      "Epoch 267/300\n",
      "1/1 [==============================] - 0s 5ms/step - loss: 0.1871 - binary_accuracy: 1.0000\n",
      "Epoch 268/300\n",
      "1/1 [==============================] - 0s 5ms/step - loss: 0.1858 - binary_accuracy: 1.0000\n",
      "Epoch 269/300\n",
      "1/1 [==============================] - 0s 4ms/step - loss: 0.1844 - binary_accuracy: 1.0000\n",
      "Epoch 270/300\n",
      "1/1 [==============================] - 0s 6ms/step - loss: 0.1831 - binary_accuracy: 1.0000\n",
      "Epoch 271/300\n",
      "1/1 [==============================] - 0s 6ms/step - loss: 0.1818 - binary_accuracy: 1.0000\n",
      "Epoch 272/300\n",
      "1/1 [==============================] - 0s 5ms/step - loss: 0.1805 - binary_accuracy: 1.0000\n",
      "Epoch 273/300\n",
      "1/1 [==============================] - 0s 6ms/step - loss: 0.1792 - binary_accuracy: 1.0000\n",
      "Epoch 274/300\n",
      "1/1 [==============================] - 0s 5ms/step - loss: 0.1780 - binary_accuracy: 1.0000\n",
      "Epoch 275/300\n",
      "1/1 [==============================] - 0s 7ms/step - loss: 0.1767 - binary_accuracy: 1.0000\n",
      "Epoch 276/300\n",
      "1/1 [==============================] - 0s 5ms/step - loss: 0.1755 - binary_accuracy: 1.0000\n",
      "Epoch 277/300\n",
      "1/1 [==============================] - 0s 7ms/step - loss: 0.1743 - binary_accuracy: 1.0000\n",
      "Epoch 278/300\n",
      "1/1 [==============================] - 0s 6ms/step - loss: 0.1730 - binary_accuracy: 1.0000\n",
      "Epoch 279/300\n",
      "1/1 [==============================] - 0s 7ms/step - loss: 0.1718 - binary_accuracy: 1.0000\n",
      "Epoch 280/300\n",
      "1/1 [==============================] - 0s 5ms/step - loss: 0.1706 - binary_accuracy: 1.0000\n",
      "Epoch 281/300\n",
      "1/1 [==============================] - 0s 8ms/step - loss: 0.1695 - binary_accuracy: 1.0000\n",
      "Epoch 282/300\n",
      "1/1 [==============================] - 0s 6ms/step - loss: 0.1683 - binary_accuracy: 1.0000\n",
      "Epoch 283/300\n",
      "1/1 [==============================] - 0s 5ms/step - loss: 0.1671 - binary_accuracy: 1.0000\n",
      "Epoch 284/300\n",
      "1/1 [==============================] - 0s 5ms/step - loss: 0.1660 - binary_accuracy: 1.0000\n",
      "Epoch 285/300\n",
      "1/1 [==============================] - 0s 7ms/step - loss: 0.1648 - binary_accuracy: 1.0000\n",
      "Epoch 286/300\n",
      "1/1 [==============================] - 0s 6ms/step - loss: 0.1637 - binary_accuracy: 1.0000\n",
      "Epoch 287/300\n",
      "1/1 [==============================] - 0s 5ms/step - loss: 0.1626 - binary_accuracy: 1.0000\n",
      "Epoch 288/300\n",
      "1/1 [==============================] - 0s 6ms/step - loss: 0.1615 - binary_accuracy: 1.0000\n",
      "Epoch 289/300\n",
      "1/1 [==============================] - 0s 6ms/step - loss: 0.1604 - binary_accuracy: 1.0000\n",
      "Epoch 290/300\n",
      "1/1 [==============================] - 0s 6ms/step - loss: 0.1593 - binary_accuracy: 1.0000\n",
      "Epoch 291/300\n",
      "1/1 [==============================] - 0s 4ms/step - loss: 0.1582 - binary_accuracy: 1.0000\n",
      "Epoch 292/300\n",
      "1/1 [==============================] - 0s 6ms/step - loss: 0.1572 - binary_accuracy: 1.0000\n",
      "Epoch 293/300\n",
      "1/1 [==============================] - 0s 6ms/step - loss: 0.1561 - binary_accuracy: 1.0000\n",
      "Epoch 294/300\n",
      "1/1 [==============================] - 0s 5ms/step - loss: 0.1551 - binary_accuracy: 1.0000\n",
      "Epoch 295/300\n",
      "1/1 [==============================] - 0s 6ms/step - loss: 0.1540 - binary_accuracy: 1.0000\n",
      "Epoch 296/300\n",
      "1/1 [==============================] - 0s 5ms/step - loss: 0.1530 - binary_accuracy: 1.0000\n",
      "Epoch 297/300\n",
      "1/1 [==============================] - 0s 6ms/step - loss: 0.1520 - binary_accuracy: 1.0000\n",
      "Epoch 298/300\n",
      "1/1 [==============================] - 0s 5ms/step - loss: 0.1510 - binary_accuracy: 1.0000\n",
      "Epoch 299/300\n",
      "1/1 [==============================] - 0s 7ms/step - loss: 0.1500 - binary_accuracy: 1.0000\n",
      "Epoch 300/300\n",
      "1/1 [==============================] - 0s 12ms/step - loss: 0.1490 - binary_accuracy: 1.0000\n"
     ]
    },
    {
     "data": {
      "text/plain": [
       "<keras.src.callbacks.History at 0x20eb7e41f90>"
      ]
     },
     "execution_count": 14,
     "metadata": {},
     "output_type": "execute_result"
    }
   ],
   "source": [
    "model.fit(X, Y, epochs=300, verbose=1)"
   ]
  },
  {
   "cell_type": "code",
   "execution_count": 15,
   "id": "02de92ee-b011-4e44-8329-447702a1f739",
   "metadata": {},
   "outputs": [
    {
     "name": "stdout",
     "output_type": "stream",
     "text": [
      "1/1 [==============================] - 0s 112ms/step\n"
     ]
    },
    {
     "data": {
      "text/plain": [
       "array([[0.07786015],\n",
       "       [0.13511132],\n",
       "       [0.22422355],\n",
       "       [0.8216466 ],\n",
       "       [0.87898475],\n",
       "       [0.9205954 ]], dtype=float32)"
      ]
     },
     "execution_count": 15,
     "metadata": {},
     "output_type": "execute_result"
    }
   ],
   "source": [
    "model.predict([-2, -1.5, -1, 1.25, 1.62, 2])"
   ]
  },
  {
   "cell_type": "code",
   "execution_count": 16,
   "id": "54432144-fa2c-40cb-aa32-afb70c742b37",
   "metadata": {},
   "outputs": [
    {
     "name": "stdout",
     "output_type": "stream",
     "text": [
      "1/1 [==============================] - 0s 68ms/step\n"
     ]
    },
    {
     "data": {
      "text/plain": [
       "array([[0.],\n",
       "       [1.]], dtype=float32)"
      ]
     },
     "execution_count": 16,
     "metadata": {},
     "output_type": "execute_result"
    }
   ],
   "source": [
    "model.predict([-1000, 1000])"
   ]
  },
  {
   "cell_type": "code",
   "execution_count": 17,
   "id": "685be4c7-f037-4964-8cc3-00129d2b00dd",
   "metadata": {},
   "outputs": [
    {
     "data": {
      "text/plain": [
       "[<tf.Variable 'dense/kernel:0' shape=(1, 1) dtype=float32, numpy=array([[-0.9448924]], dtype=float32)>]"
      ]
     },
     "execution_count": 17,
     "metadata": {},
     "output_type": "execute_result"
    }
   ],
   "source": [
    "model.layers[0].weights"
   ]
  },
  {
   "cell_type": "code",
   "execution_count": 18,
   "id": "8f9f9e44-0b16-41ee-a926-8600dc37a815",
   "metadata": {},
   "outputs": [
    {
     "data": {
      "text/plain": [
       "[array([[-0.9448924]], dtype=float32)]"
      ]
     },
     "execution_count": 18,
     "metadata": {},
     "output_type": "execute_result"
    }
   ],
   "source": [
    "model.layers[0].get_weights()"
   ]
  },
  {
   "cell_type": "markdown",
   "id": "51072713-2937-406d-a342-70a450c90967",
   "metadata": {},
   "source": [
    "# 다중입력 로지스틱회귀"
   ]
  },
  {
   "cell_type": "code",
   "execution_count": 19,
   "id": "bb59160a-0a80-4840-be33-7d722be4b3da",
   "metadata": {},
   "outputs": [],
   "source": [
    "model = Sequential()\n",
    "model.add(Dense(input_dim = 2, units = 1))\n",
    "model.add(Activation('sigmoid'))\n",
    "model.compile(loss = 'binary_crossentropy', optimizer = 'sgd', metrics = ['binary_accuracy'])"
   ]
  },
  {
   "cell_type": "code",
   "execution_count": 20,
   "id": "c14c5553-1b4d-45e3-a502-63e6bb3527da",
   "metadata": {},
   "outputs": [],
   "source": [
    "X = np.array([(0, 0), (0, 1), (1, 0), (1, 1)])"
   ]
  },
  {
   "cell_type": "code",
   "execution_count": 21,
   "id": "8bbde0fb-9fc4-4dc5-8bf5-1c7327eefee3",
   "metadata": {},
   "outputs": [],
   "source": [
    "Y = np.array([0, 0, 0, 1])"
   ]
  },
  {
   "cell_type": "code",
   "execution_count": 22,
   "id": "bb423fcb-6fba-41e1-9661-13ee457b15f7",
   "metadata": {},
   "outputs": [
    {
     "data": {
      "text/plain": [
       "<keras.src.callbacks.History at 0x20eba86ffd0>"
      ]
     },
     "execution_count": 22,
     "metadata": {},
     "output_type": "execute_result"
    }
   ],
   "source": [
    "model.fit(X, Y, epochs=5000, verbose=0)"
   ]
  },
  {
   "cell_type": "code",
   "execution_count": 23,
   "id": "7417d817-4973-4591-afdd-00bd081c4d16",
   "metadata": {},
   "outputs": [
    {
     "name": "stdout",
     "output_type": "stream",
     "text": [
      "1/1 [==============================] - 0s 43ms/step\n"
     ]
    },
    {
     "data": {
      "text/plain": [
       "array([[0.02838964],\n",
       "       [0.20836996],\n",
       "       [0.20386924],\n",
       "       [0.697594  ]], dtype=float32)"
      ]
     },
     "execution_count": 23,
     "metadata": {},
     "output_type": "execute_result"
    }
   ],
   "source": [
    "model.predict(X)"
   ]
  },
  {
   "cell_type": "code",
   "execution_count": 24,
   "id": "1ad94e57-592b-4847-9ab8-7a9f035a8f91",
   "metadata": {},
   "outputs": [
    {
     "name": "stdout",
     "output_type": "stream",
     "text": [
      "Model: \"sequential_1\"\n",
      "_________________________________________________________________\n",
      " Layer (type)                Output Shape              Param #   \n",
      "=================================================================\n",
      " dense_2 (Dense)             (None, 1)                 3         \n",
      "                                                                 \n",
      " activation_1 (Activation)   (None, 1)                 0         \n",
      "                                                                 \n",
      "=================================================================\n",
      "Total params: 3 (12.00 Byte)\n",
      "Trainable params: 3 (12.00 Byte)\n",
      "Non-trainable params: 0 (0.00 Byte)\n",
      "_________________________________________________________________\n"
     ]
    }
   ],
   "source": [
    "model.summary()"
   ]
  },
  {
   "cell_type": "code",
   "execution_count": 25,
   "id": "ea69c65f-5b3c-47c8-912b-c5ac6a678cb0",
   "metadata": {},
   "outputs": [
    {
     "data": {
      "text/plain": [
       "[<tf.Variable 'dense_2/kernel:0' shape=(2, 1) dtype=float32, numpy=\n",
       " array([[2.170646 ],\n",
       "        [2.1981516]], dtype=float32)>,\n",
       " <tf.Variable 'dense_2/bias:0' shape=(1,) dtype=float32, numpy=array([-3.5329306], dtype=float32)>]"
      ]
     },
     "execution_count": 25,
     "metadata": {},
     "output_type": "execute_result"
    }
   ],
   "source": [
    "model.layers[0].weights"
   ]
  },
  {
   "cell_type": "code",
   "execution_count": 26,
   "id": "4a041b66-1648-4042-acfa-dffefcc2c49c",
   "metadata": {},
   "outputs": [
    {
     "data": {
      "text/plain": [
       "[array([[2.170646 ],\n",
       "        [2.1981516]], dtype=float32),\n",
       " array([-3.5329306], dtype=float32)]"
      ]
     },
     "execution_count": 26,
     "metadata": {},
     "output_type": "execute_result"
    }
   ],
   "source": [
    "model.layers[0].get_weights()"
   ]
  },
  {
   "cell_type": "markdown",
   "id": "524d5e1e-6c70-4abb-9aba-aba0197019b2",
   "metadata": {},
   "source": [
    "# 십중"
   ]
  },
  {
   "cell_type": "code",
   "execution_count": 27,
   "id": "78c86d3d-116d-4b76-8e0b-5c2998c1901b",
   "metadata": {},
   "outputs": [],
   "source": [
    "from tensorflow.keras.utils import to_categorical\n",
    "from tensorflow.keras.datasets import mnist"
   ]
  },
  {
   "cell_type": "code",
   "execution_count": 28,
   "id": "036b14b6-047f-4a04-95c5-fb47e1fb1cfc",
   "metadata": {},
   "outputs": [
    {
     "name": "stdout",
     "output_type": "stream",
     "text": [
      "Downloading data from https://storage.googleapis.com/tensorflow/tf-keras-datasets/mnist.npz\n",
      "11490434/11490434 [==============================] - 1s 0us/step\n"
     ]
    }
   ],
   "source": [
    "(X_train, y_train),(X_test, y_test) = mnist.load_data()"
   ]
  },
  {
   "cell_type": "code",
   "execution_count": 29,
   "id": "fee9ee44-78d6-40aa-9c60-18203ec75115",
   "metadata": {},
   "outputs": [
    {
     "data": {
      "text/plain": [
       "(60000, 28, 28)"
      ]
     },
     "execution_count": 29,
     "metadata": {},
     "output_type": "execute_result"
    }
   ],
   "source": [
    "X_train.shape"
   ]
  },
  {
   "cell_type": "code",
   "execution_count": 31,
   "id": "41b7055f-daaf-414a-978a-95b3a4274a04",
   "metadata": {},
   "outputs": [
    {
     "data": {
      "text/plain": [
       "(10000, 28, 28)"
      ]
     },
     "execution_count": 31,
     "metadata": {},
     "output_type": "execute_result"
    }
   ],
   "source": [
    "X_test.shape"
   ]
  },
  {
   "cell_type": "code",
   "execution_count": 32,
   "id": "bba505d9-19de-4e63-924a-387c331fd039",
   "metadata": {},
   "outputs": [
    {
     "data": {
      "text/plain": [
       "array([[  0,   0,   0,   0,   0,   0,   0,   0,   0,   0,   0,   0,   0,\n",
       "          0,   0,   0,   0,   0,   0,   0,   0,   0,   0,   0,   0,   0,\n",
       "          0,   0],\n",
       "       [  0,   0,   0,   0,   0,   0,   0,   0,   0,   0,   0,   0,   0,\n",
       "          0,   0,   0,   0,   0,   0,   0,   0,   0,   0,   0,   0,   0,\n",
       "          0,   0],\n",
       "       [  0,   0,   0,   0,   0,   0,   0,   0,   0,   0,   0,   0,   0,\n",
       "          0,   0,   0,   0,   0,   0,   0,   0,   0,   0,   0,   0,   0,\n",
       "          0,   0],\n",
       "       [  0,   0,   0,   0,   0,   0,   0,   0,   0,   0,   0,   0,   0,\n",
       "          0,   0,   0,   0,   0,   0,   0,   0,   0,   0,   0,   0,   0,\n",
       "          0,   0],\n",
       "       [  0,   0,   0,   0,   0,   0,   0,   0,   0,   0,   0,   0,   0,\n",
       "          0,   0,   0,   0,   0,   0,   0,   0,   0,   0,   0,   0,   0,\n",
       "          0,   0],\n",
       "       [  0,   0,   0,   0,   0,   0,   0,   0,   0,   0,   0,   0,   3,\n",
       "         18,  18,  18, 126, 136, 175,  26, 166, 255, 247, 127,   0,   0,\n",
       "          0,   0],\n",
       "       [  0,   0,   0,   0,   0,   0,   0,   0,  30,  36,  94, 154, 170,\n",
       "        253, 253, 253, 253, 253, 225, 172, 253, 242, 195,  64,   0,   0,\n",
       "          0,   0],\n",
       "       [  0,   0,   0,   0,   0,   0,   0,  49, 238, 253, 253, 253, 253,\n",
       "        253, 253, 253, 253, 251,  93,  82,  82,  56,  39,   0,   0,   0,\n",
       "          0,   0],\n",
       "       [  0,   0,   0,   0,   0,   0,   0,  18, 219, 253, 253, 253, 253,\n",
       "        253, 198, 182, 247, 241,   0,   0,   0,   0,   0,   0,   0,   0,\n",
       "          0,   0],\n",
       "       [  0,   0,   0,   0,   0,   0,   0,   0,  80, 156, 107, 253, 253,\n",
       "        205,  11,   0,  43, 154,   0,   0,   0,   0,   0,   0,   0,   0,\n",
       "          0,   0],\n",
       "       [  0,   0,   0,   0,   0,   0,   0,   0,   0,  14,   1, 154, 253,\n",
       "         90,   0,   0,   0,   0,   0,   0,   0,   0,   0,   0,   0,   0,\n",
       "          0,   0],\n",
       "       [  0,   0,   0,   0,   0,   0,   0,   0,   0,   0,   0, 139, 253,\n",
       "        190,   2,   0,   0,   0,   0,   0,   0,   0,   0,   0,   0,   0,\n",
       "          0,   0],\n",
       "       [  0,   0,   0,   0,   0,   0,   0,   0,   0,   0,   0,  11, 190,\n",
       "        253,  70,   0,   0,   0,   0,   0,   0,   0,   0,   0,   0,   0,\n",
       "          0,   0],\n",
       "       [  0,   0,   0,   0,   0,   0,   0,   0,   0,   0,   0,   0,  35,\n",
       "        241, 225, 160, 108,   1,   0,   0,   0,   0,   0,   0,   0,   0,\n",
       "          0,   0],\n",
       "       [  0,   0,   0,   0,   0,   0,   0,   0,   0,   0,   0,   0,   0,\n",
       "         81, 240, 253, 253, 119,  25,   0,   0,   0,   0,   0,   0,   0,\n",
       "          0,   0],\n",
       "       [  0,   0,   0,   0,   0,   0,   0,   0,   0,   0,   0,   0,   0,\n",
       "          0,  45, 186, 253, 253, 150,  27,   0,   0,   0,   0,   0,   0,\n",
       "          0,   0],\n",
       "       [  0,   0,   0,   0,   0,   0,   0,   0,   0,   0,   0,   0,   0,\n",
       "          0,   0,  16,  93, 252, 253, 187,   0,   0,   0,   0,   0,   0,\n",
       "          0,   0],\n",
       "       [  0,   0,   0,   0,   0,   0,   0,   0,   0,   0,   0,   0,   0,\n",
       "          0,   0,   0,   0, 249, 253, 249,  64,   0,   0,   0,   0,   0,\n",
       "          0,   0],\n",
       "       [  0,   0,   0,   0,   0,   0,   0,   0,   0,   0,   0,   0,   0,\n",
       "          0,  46, 130, 183, 253, 253, 207,   2,   0,   0,   0,   0,   0,\n",
       "          0,   0],\n",
       "       [  0,   0,   0,   0,   0,   0,   0,   0,   0,   0,   0,   0,  39,\n",
       "        148, 229, 253, 253, 253, 250, 182,   0,   0,   0,   0,   0,   0,\n",
       "          0,   0],\n",
       "       [  0,   0,   0,   0,   0,   0,   0,   0,   0,   0,  24, 114, 221,\n",
       "        253, 253, 253, 253, 201,  78,   0,   0,   0,   0,   0,   0,   0,\n",
       "          0,   0],\n",
       "       [  0,   0,   0,   0,   0,   0,   0,   0,  23,  66, 213, 253, 253,\n",
       "        253, 253, 198,  81,   2,   0,   0,   0,   0,   0,   0,   0,   0,\n",
       "          0,   0],\n",
       "       [  0,   0,   0,   0,   0,   0,  18, 171, 219, 253, 253, 253, 253,\n",
       "        195,  80,   9,   0,   0,   0,   0,   0,   0,   0,   0,   0,   0,\n",
       "          0,   0],\n",
       "       [  0,   0,   0,   0,  55, 172, 226, 253, 253, 253, 253, 244, 133,\n",
       "         11,   0,   0,   0,   0,   0,   0,   0,   0,   0,   0,   0,   0,\n",
       "          0,   0],\n",
       "       [  0,   0,   0,   0, 136, 253, 253, 253, 212, 135, 132,  16,   0,\n",
       "          0,   0,   0,   0,   0,   0,   0,   0,   0,   0,   0,   0,   0,\n",
       "          0,   0],\n",
       "       [  0,   0,   0,   0,   0,   0,   0,   0,   0,   0,   0,   0,   0,\n",
       "          0,   0,   0,   0,   0,   0,   0,   0,   0,   0,   0,   0,   0,\n",
       "          0,   0],\n",
       "       [  0,   0,   0,   0,   0,   0,   0,   0,   0,   0,   0,   0,   0,\n",
       "          0,   0,   0,   0,   0,   0,   0,   0,   0,   0,   0,   0,   0,\n",
       "          0,   0],\n",
       "       [  0,   0,   0,   0,   0,   0,   0,   0,   0,   0,   0,   0,   0,\n",
       "          0,   0,   0,   0,   0,   0,   0,   0,   0,   0,   0,   0,   0,\n",
       "          0,   0]], dtype=uint8)"
      ]
     },
     "execution_count": 32,
     "metadata": {},
     "output_type": "execute_result"
    }
   ],
   "source": [
    "X_train[0]"
   ]
  },
  {
   "cell_type": "code",
   "execution_count": 34,
   "id": "1d5e5daf-8c55-46ce-a772-b0648d172fcc",
   "metadata": {},
   "outputs": [
    {
     "name": "stdout",
     "output_type": "stream",
     "text": [
      "  0   0   0   0   0   0   0   0   0   0   0   0   0   0 \n",
      "  0   0   0   0   0   0   0   0   0   0   0   0   0   0 \n",
      "  0   0   0   0   0   0   0   0   0   0   0   0   0   0 \n",
      "  0   0   0   0  30  94 170 253 253 225 253 195   0   0 \n",
      "  0   0   0   0 219 253 253 198 247   0   0   0   0   0 \n",
      "  0   0   0   0   0   1 253   0   0   0   0   0   0   0 \n",
      "  0   0   0   0   0   0 190  70   0   0   0   0   0   0 \n",
      "  0   0   0   0   0   0   0 240 253  25   0   0   0   0 \n",
      "  0   0   0   0   0   0   0   0  93 253   0   0   0   0 \n",
      "  0   0   0   0   0   0   0  46 183 253   2   0   0   0 \n",
      "  0   0   0   0   0  24 221 253 253  78   0   0   0   0 \n",
      "  0   0   0  18 219 253 253  80   0   0   0   0   0   0 \n",
      "  0   0 136 253 212 132   0   0   0   0   0   0   0   0 \n",
      "  0   0   0   0   0   0   0   0   0   0   0   0   0   0 \n"
     ]
    }
   ],
   "source": [
    "for i in range(0, 28, 2):\n",
    "    for j in range(0, 28, 2):\n",
    "        print(\"%3d\"% X_train[0][i][j], end=' ')\n",
    "    print()"
   ]
  },
  {
   "cell_type": "code",
   "execution_count": 36,
   "id": "b3bcb223-25fe-47c1-8ab3-e2c7bb17f8a6",
   "metadata": {},
   "outputs": [],
   "source": [
    "X_train = X_train.astype('float32')\n",
    "X_test = X_test.astype('float32')\n",
    "X_train /= 255\n",
    "X_test /= 255"
   ]
  },
  {
   "cell_type": "code",
   "execution_count": 37,
   "id": "2133299a-5ae5-4262-a4b1-521484914916",
   "metadata": {},
   "outputs": [
    {
     "name": "stdout",
     "output_type": "stream",
     "text": [
      "0.00 0.00 0.00 0.00 0.00 0.00 0.00 0.00 0.00 0.00 0.00 0.00 0.00 0.00 \n",
      "0.00 0.00 0.00 0.00 0.00 0.00 0.00 0.00 0.00 0.00 0.00 0.00 0.00 0.00 \n",
      "0.00 0.00 0.00 0.00 0.00 0.00 0.00 0.00 0.00 0.00 0.00 0.00 0.00 0.00 \n",
      "0.00 0.00 0.00 0.00 0.12 0.37 0.67 0.99 0.99 0.88 0.99 0.76 0.00 0.00 \n",
      "0.00 0.00 0.00 0.00 0.86 0.99 0.99 0.78 0.97 0.00 0.00 0.00 0.00 0.00 \n",
      "0.00 0.00 0.00 0.00 0.00 0.00 0.99 0.00 0.00 0.00 0.00 0.00 0.00 0.00 \n",
      "0.00 0.00 0.00 0.00 0.00 0.00 0.75 0.27 0.00 0.00 0.00 0.00 0.00 0.00 \n",
      "0.00 0.00 0.00 0.00 0.00 0.00 0.00 0.94 0.99 0.10 0.00 0.00 0.00 0.00 \n",
      "0.00 0.00 0.00 0.00 0.00 0.00 0.00 0.00 0.36 0.99 0.00 0.00 0.00 0.00 \n",
      "0.00 0.00 0.00 0.00 0.00 0.00 0.00 0.18 0.72 0.99 0.01 0.00 0.00 0.00 \n",
      "0.00 0.00 0.00 0.00 0.00 0.09 0.87 0.99 0.99 0.31 0.00 0.00 0.00 0.00 \n",
      "0.00 0.00 0.00 0.07 0.86 0.99 0.99 0.31 0.00 0.00 0.00 0.00 0.00 0.00 \n",
      "0.00 0.00 0.53 0.99 0.83 0.52 0.00 0.00 0.00 0.00 0.00 0.00 0.00 0.00 \n",
      "0.00 0.00 0.00 0.00 0.00 0.00 0.00 0.00 0.00 0.00 0.00 0.00 0.00 0.00 \n"
     ]
    }
   ],
   "source": [
    "for i in range(0, 28, 2):\n",
    "    for j in range(0, 28, 2):\n",
    "        print(\"%.2f\"% X_train[0][i][j], end=' ')\n",
    "    print()"
   ]
  },
  {
   "cell_type": "code",
   "execution_count": 38,
   "id": "bdc17ba4-7909-4634-9a91-ef0bd29428a3",
   "metadata": {},
   "outputs": [
    {
     "data": {
      "text/plain": [
       "5"
      ]
     },
     "execution_count": 38,
     "metadata": {},
     "output_type": "execute_result"
    }
   ],
   "source": [
    "y_train[0]"
   ]
  },
  {
   "cell_type": "code",
   "execution_count": 39,
   "id": "b50756dc-1f1a-4c24-a09b-356a5b24756a",
   "metadata": {},
   "outputs": [],
   "source": [
    "input_dim = 784\n",
    "X_train=X_train.reshape(60000, input_dim)\n",
    "X_test=X_test.reshape(10000, input_dim)"
   ]
  },
  {
   "cell_type": "code",
   "execution_count": 40,
   "id": "be4f8ffe-a26a-4a1e-8d6e-96f59a6c7fd0",
   "metadata": {},
   "outputs": [],
   "source": [
    "num_classes = 10\n",
    "y_train = to_categorical(y_train, num_classes)\n",
    "y_test = to_categorical(y_test, num_classes)"
   ]
  },
  {
   "cell_type": "code",
   "execution_count": 41,
   "id": "b8a4ff4e-b07a-4305-8983-5af261109589",
   "metadata": {},
   "outputs": [
    {
     "data": {
      "text/plain": [
       "array([0., 0., 0., 0., 0., 1., 0., 0., 0., 0.], dtype=float32)"
      ]
     },
     "execution_count": 41,
     "metadata": {},
     "output_type": "execute_result"
    }
   ],
   "source": [
    "y_train[0]"
   ]
  },
  {
   "cell_type": "code",
   "execution_count": 42,
   "id": "11d9c4b2-6ad3-49dd-b6b4-97d694634010",
   "metadata": {},
   "outputs": [],
   "source": [
    "model = Sequential()\n",
    "model.add(Dense(input_dim= input_dim, units = 10, activation= 'softmax'))"
   ]
  },
  {
   "cell_type": "code",
   "execution_count": 43,
   "id": "f3704934-ec47-48fb-94b8-7dd79c0dce04",
   "metadata": {},
   "outputs": [
    {
     "data": {
      "text/plain": [
       "<keras.src.callbacks.History at 0x20ebb7af690>"
      ]
     },
     "execution_count": 43,
     "metadata": {},
     "output_type": "execute_result"
    }
   ],
   "source": [
    "model.compile(optimizer='sgd', loss= 'categorical_crossentropy', metrics='accuracy')\n",
    "model.fit(X_train, y_train, batch_size=2048, epochs=100, verbose=0)"
   ]
  },
  {
   "cell_type": "code",
   "execution_count": 44,
   "id": "809daaa7-c8dd-49a1-957f-299a019dd548",
   "metadata": {},
   "outputs": [
    {
     "name": "stdout",
     "output_type": "stream",
     "text": [
      "313/313 [==============================] - 1s 2ms/step - loss: 0.4222 - accuracy: 0.8901\n"
     ]
    },
    {
     "data": {
      "text/plain": [
       "[0.42217645049095154, 0.8901000022888184]"
      ]
     },
     "execution_count": 44,
     "metadata": {},
     "output_type": "execute_result"
    }
   ],
   "source": [
    "score = model.evaluate(X_test, y_test)\n",
    "score"
   ]
  },
  {
   "cell_type": "markdown",
   "id": "68c33a1f-5e86-4c86-82bc-b51406572a51",
   "metadata": {},
   "source": [
    "# 뉴럴 네트워크"
   ]
  },
  {
   "cell_type": "code",
   "execution_count": 46,
   "id": "a511f47f-bc37-4b4d-8f81-d91ea89a17c2",
   "metadata": {},
   "outputs": [],
   "source": [
    "from tensorflow.keras.layers import Flatten\n",
    "from tensorflow.keras.layers import Dropout\n",
    "from tensorflow.keras.callbacks import EarlyStopping, ModelCheckpoint"
   ]
  },
  {
   "cell_type": "code",
   "execution_count": 47,
   "id": "2e648f4d-cc87-4955-9466-7c95419459fe",
   "metadata": {},
   "outputs": [],
   "source": [
    "model = Sequential([\n",
    "    Dense(256, activation='relu'),\n",
    "    Dense(128, activation='relu'),\n",
    "    Dropout(0, 1),\n",
    "    Dense(10),\n",
    "    Activation('softmax')\n",
    "])"
   ]
  },
  {
   "cell_type": "code",
   "execution_count": 48,
   "id": "a99dadaf-1811-41cf-84f8-21961e47edf8",
   "metadata": {},
   "outputs": [],
   "source": [
    "model.compile(optimizer='adam', loss='categorical_crossentropy', metrics='accuracy')"
   ]
  },
  {
   "cell_type": "code",
   "execution_count": 49,
   "id": "f73f3da5-e2c8-4c6b-8d99-f20f13aa6a35",
   "metadata": {},
   "outputs": [],
   "source": [
    "callbacks = [EarlyStopping(monitor='val_accuracy', patience=5, restore_best_weights=True),\n",
    "             ModelCheckpoint(filepath = 'best_model.h5', monitor='val_accuracy', save_best_only=True)]"
   ]
  },
  {
   "cell_type": "code",
   "execution_count": 50,
   "id": "c8706ad2-e9d3-430d-a5aa-b797b0c5dad6",
   "metadata": {},
   "outputs": [
    {
     "name": "stdout",
     "output_type": "stream",
     "text": [
      "Epoch 1/300\n",
      "54/54 [==============================] - 2s 15ms/step - loss: 0.6600 - accuracy: 0.8265 - val_loss: 0.2158 - val_accuracy: 0.9392\n",
      "Epoch 2/300\n",
      "11/54 [=====>........................] - ETA: 0s - loss: 0.2539 - accuracy: 0.9273"
     ]
    },
    {
     "name": "stderr",
     "output_type": "stream",
     "text": [
      "C:\\Users\\bbong\\anaconda3\\Lib\\site-packages\\keras\\src\\engine\\training.py:3079: UserWarning: You are saving your model as an HDF5 file via `model.save()`. This file format is considered legacy. We recommend using instead the native Keras format, e.g. `model.save('my_model.keras')`.\n",
      "  saving_api.save_model(\n"
     ]
    },
    {
     "name": "stdout",
     "output_type": "stream",
     "text": [
      "54/54 [==============================] - 1s 12ms/step - loss: 0.2288 - accuracy: 0.9334 - val_loss: 0.1563 - val_accuracy: 0.9590\n",
      "Epoch 3/300\n",
      "54/54 [==============================] - 1s 12ms/step - loss: 0.1680 - accuracy: 0.9518 - val_loss: 0.1287 - val_accuracy: 0.9645\n",
      "Epoch 4/300\n",
      "54/54 [==============================] - 1s 11ms/step - loss: 0.1330 - accuracy: 0.9615 - val_loss: 0.1089 - val_accuracy: 0.9683\n",
      "Epoch 5/300\n",
      "54/54 [==============================] - 1s 11ms/step - loss: 0.1071 - accuracy: 0.9685 - val_loss: 0.0996 - val_accuracy: 0.9700\n",
      "Epoch 6/300\n",
      "54/54 [==============================] - 1s 11ms/step - loss: 0.0884 - accuracy: 0.9750 - val_loss: 0.0905 - val_accuracy: 0.9732\n",
      "Epoch 7/300\n",
      "54/54 [==============================] - 1s 11ms/step - loss: 0.0754 - accuracy: 0.9778 - val_loss: 0.0928 - val_accuracy: 0.9728\n",
      "Epoch 8/300\n",
      "54/54 [==============================] - 1s 11ms/step - loss: 0.0629 - accuracy: 0.9819 - val_loss: 0.0807 - val_accuracy: 0.9768\n",
      "Epoch 9/300\n",
      "54/54 [==============================] - 1s 11ms/step - loss: 0.0518 - accuracy: 0.9854 - val_loss: 0.0817 - val_accuracy: 0.9753\n",
      "Epoch 10/300\n",
      "54/54 [==============================] - 1s 13ms/step - loss: 0.0449 - accuracy: 0.9875 - val_loss: 0.0804 - val_accuracy: 0.9772\n",
      "Epoch 11/300\n",
      "54/54 [==============================] - 1s 12ms/step - loss: 0.0383 - accuracy: 0.9897 - val_loss: 0.0780 - val_accuracy: 0.9772\n",
      "Epoch 12/300\n",
      "54/54 [==============================] - 1s 10ms/step - loss: 0.0332 - accuracy: 0.9913 - val_loss: 0.0815 - val_accuracy: 0.9767\n",
      "Epoch 13/300\n",
      "54/54 [==============================] - 1s 13ms/step - loss: 0.0287 - accuracy: 0.9926 - val_loss: 0.0763 - val_accuracy: 0.9787\n",
      "Epoch 14/300\n",
      "54/54 [==============================] - 1s 12ms/step - loss: 0.0237 - accuracy: 0.9948 - val_loss: 0.0723 - val_accuracy: 0.9787\n",
      "Epoch 15/300\n",
      "54/54 [==============================] - 1s 15ms/step - loss: 0.0204 - accuracy: 0.9955 - val_loss: 0.0779 - val_accuracy: 0.9782\n",
      "Epoch 16/300\n",
      "54/54 [==============================] - 1s 13ms/step - loss: 0.0178 - accuracy: 0.9965 - val_loss: 0.0753 - val_accuracy: 0.9793\n",
      "Epoch 17/300\n",
      "54/54 [==============================] - 1s 11ms/step - loss: 0.0151 - accuracy: 0.9971 - val_loss: 0.0759 - val_accuracy: 0.9788\n",
      "Epoch 18/300\n",
      "54/54 [==============================] - 1s 12ms/step - loss: 0.0140 - accuracy: 0.9972 - val_loss: 0.0752 - val_accuracy: 0.9802\n",
      "Epoch 19/300\n",
      "54/54 [==============================] - 1s 12ms/step - loss: 0.0119 - accuracy: 0.9978 - val_loss: 0.0777 - val_accuracy: 0.9797\n",
      "Epoch 20/300\n",
      "54/54 [==============================] - 1s 13ms/step - loss: 0.0095 - accuracy: 0.9984 - val_loss: 0.0750 - val_accuracy: 0.9803\n",
      "Epoch 21/300\n",
      "54/54 [==============================] - 1s 13ms/step - loss: 0.0077 - accuracy: 0.9991 - val_loss: 0.0779 - val_accuracy: 0.9798\n",
      "Epoch 22/300\n",
      "54/54 [==============================] - 1s 12ms/step - loss: 0.0067 - accuracy: 0.9992 - val_loss: 0.0777 - val_accuracy: 0.9807\n",
      "Epoch 23/300\n",
      "54/54 [==============================] - 1s 12ms/step - loss: 0.0058 - accuracy: 0.9994 - val_loss: 0.0783 - val_accuracy: 0.9802\n",
      "Epoch 24/300\n",
      "54/54 [==============================] - 1s 12ms/step - loss: 0.0053 - accuracy: 0.9996 - val_loss: 0.0770 - val_accuracy: 0.9798\n",
      "Epoch 25/300\n",
      "54/54 [==============================] - 1s 13ms/step - loss: 0.0044 - accuracy: 0.9997 - val_loss: 0.0794 - val_accuracy: 0.9808\n",
      "Epoch 26/300\n",
      "54/54 [==============================] - 1s 11ms/step - loss: 0.0038 - accuracy: 0.9999 - val_loss: 0.0816 - val_accuracy: 0.9807\n",
      "Epoch 27/300\n",
      "54/54 [==============================] - 1s 11ms/step - loss: 0.0032 - accuracy: 0.9999 - val_loss: 0.0813 - val_accuracy: 0.9802\n",
      "Epoch 28/300\n",
      "54/54 [==============================] - 1s 12ms/step - loss: 0.0028 - accuracy: 0.9999 - val_loss: 0.0813 - val_accuracy: 0.9810\n",
      "Epoch 29/300\n",
      "54/54 [==============================] - 1s 13ms/step - loss: 0.0024 - accuracy: 0.9999 - val_loss: 0.0825 - val_accuracy: 0.9812\n",
      "Epoch 30/300\n",
      "54/54 [==============================] - 1s 14ms/step - loss: 0.0024 - accuracy: 0.9999 - val_loss: 0.0830 - val_accuracy: 0.9815\n",
      "Epoch 31/300\n",
      "54/54 [==============================] - 1s 13ms/step - loss: 0.0021 - accuracy: 1.0000 - val_loss: 0.0834 - val_accuracy: 0.9812\n",
      "Epoch 32/300\n",
      "54/54 [==============================] - 1s 13ms/step - loss: 0.0018 - accuracy: 1.0000 - val_loss: 0.0842 - val_accuracy: 0.9807\n",
      "Epoch 33/300\n",
      "54/54 [==============================] - 1s 12ms/step - loss: 0.0016 - accuracy: 1.0000 - val_loss: 0.0846 - val_accuracy: 0.9808\n",
      "Epoch 34/300\n",
      "54/54 [==============================] - 1s 11ms/step - loss: 0.0015 - accuracy: 1.0000 - val_loss: 0.0856 - val_accuracy: 0.9810\n",
      "Epoch 35/300\n",
      "54/54 [==============================] - 1s 12ms/step - loss: 0.0014 - accuracy: 1.0000 - val_loss: 0.0865 - val_accuracy: 0.9815\n"
     ]
    },
    {
     "data": {
      "text/plain": [
       "<keras.src.callbacks.History at 0x20ebffdd590>"
      ]
     },
     "execution_count": 50,
     "metadata": {},
     "output_type": "execute_result"
    }
   ],
   "source": [
    "model.fit(X_train, y_train, epochs=300, batch_size = 1000, validation_split=0.1, callbacks=callbacks)"
   ]
  },
  {
   "cell_type": "code",
   "execution_count": 51,
   "id": "839cf18d-9978-4eaa-a506-8fff49ca1632",
   "metadata": {},
   "outputs": [
    {
     "name": "stdout",
     "output_type": "stream",
     "text": [
      "313/313 [==============================] - 1s 2ms/step - loss: 0.0730 - accuracy: 0.9809\n",
      "[0.07303179055452347, 0.98089998960495]\n"
     ]
    }
   ],
   "source": [
    "results = model.evaluate(X_test, y_test)\n",
    "print(results)"
   ]
  },
  {
   "cell_type": "code",
   "execution_count": null,
   "id": "7be366e9-a751-4c64-b222-7247b3818810",
   "metadata": {},
   "outputs": [],
   "source": []
  }
 ],
 "metadata": {
  "kernelspec": {
   "display_name": "Python 3 (ipykernel)",
   "language": "python",
   "name": "python3"
  },
  "language_info": {
   "codemirror_mode": {
    "name": "ipython",
    "version": 3
   },
   "file_extension": ".py",
   "mimetype": "text/x-python",
   "name": "python",
   "nbconvert_exporter": "python",
   "pygments_lexer": "ipython3",
   "version": "3.11.6"
  }
 },
 "nbformat": 4,
 "nbformat_minor": 5
}
