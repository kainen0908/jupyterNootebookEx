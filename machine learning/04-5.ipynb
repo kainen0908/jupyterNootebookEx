{
 "cells": [
  {
   "cell_type": "code",
   "execution_count": 1,
   "id": "57d7323a-67e7-4409-8b60-8a981a71198b",
   "metadata": {},
   "outputs": [],
   "source": [
    "from sklearn import datasets\n",
    "from sklearn import tree\n",
    "from sklearn.ensemble import RandomForestClassifier\n",
    "from sklearn.model_selection import cross_val_score\n",
    "import matplotlib.pyplot as plt\n",
    "import pandas as pd\n",
    "import numpy as np"
   ]
  },
  {
   "cell_type": "code",
   "execution_count": 2,
   "id": "a1a99ed1-9dfb-45b3-871c-4aa6295b2327",
   "metadata": {},
   "outputs": [],
   "source": [
    "mnist = datasets.load_digits()\n",
    "features, labels = mnist.data, mnist.target"
   ]
  },
  {
   "cell_type": "code",
   "execution_count": 3,
   "id": "624d079b-6b98-49bf-9753-d81f48cda215",
   "metadata": {},
   "outputs": [],
   "source": [
    "def cross_validation(classifier, features, labels):\n",
    "    cv_scores = []\n",
    "    for i in range(10):\n",
    "        scores = cross_val_score(classifier, features, labels, cv= 10, scoring='accuracy')\n",
    "        cv_scores.append(scores.mean())\n",
    "    return cv_scores"
   ]
  },
  {
   "cell_type": "code",
   "execution_count": 4,
   "id": "cc9dfa8e-331a-4558-ba23-5a8e4b94f4a3",
   "metadata": {},
   "outputs": [
    {
     "data": {
      "text/plain": [
       "(1797, 64)"
      ]
     },
     "execution_count": 4,
     "metadata": {},
     "output_type": "execute_result"
    }
   ],
   "source": [
    "features.shape"
   ]
  },
  {
   "cell_type": "code",
   "execution_count": 5,
   "id": "aaf3512f-705b-44aa-9e08-1dfb74620b06",
   "metadata": {},
   "outputs": [
    {
     "data": {
      "text/plain": [
       "array([[ 0.,  0.,  5., 13.,  9.,  1.,  0.,  0.],\n",
       "       [ 0.,  0., 13., 15., 10., 15.,  5.,  0.],\n",
       "       [ 0.,  3., 15.,  2.,  0., 11.,  8.,  0.],\n",
       "       [ 0.,  4., 12.,  0.,  0.,  8.,  8.,  0.],\n",
       "       [ 0.,  5.,  8.,  0.,  0.,  9.,  8.,  0.],\n",
       "       [ 0.,  4., 11.,  0.,  1., 12.,  7.,  0.],\n",
       "       [ 0.,  2., 14.,  5., 10., 12.,  0.,  0.],\n",
       "       [ 0.,  0.,  6., 13., 10.,  0.,  0.,  0.]])"
      ]
     },
     "execution_count": 5,
     "metadata": {},
     "output_type": "execute_result"
    }
   ],
   "source": [
    "features[0].reshape(8,8)"
   ]
  },
  {
   "cell_type": "code",
   "execution_count": 6,
   "id": "3ebe9dd3-ca83-473c-a80a-8e8b7e2cf1f8",
   "metadata": {},
   "outputs": [],
   "source": [
    "dt_cv_scores = cross_validation(tree.DecisionTreeClassifier(), features, labels)"
   ]
  },
  {
   "cell_type": "code",
   "execution_count": 7,
   "id": "f053435e-a44a-46c7-af35-b3dd6152b94d",
   "metadata": {},
   "outputs": [],
   "source": [
    "rf_cv_scores = cross_validation(RandomForestClassifier(), features, labels)"
   ]
  },
  {
   "cell_type": "code",
   "execution_count": 8,
   "id": "79a02f2e-0e09-4ad5-bb23-ab2e52983b92",
   "metadata": {},
   "outputs": [
    {
     "data": {
      "text/plain": [
       "<Axes: >"
      ]
     },
     "execution_count": 8,
     "metadata": {},
     "output_type": "execute_result"
    },
    {
     "data": {
      "image/png": "[encoded data removed]",
      "text/plain": [
       "<Figure size 640x480 with 1 Axes>"
      ]
     },
     "metadata": {},
     "output_type": "display_data"
    }
   ],
   "source": [
    "cv_list = [\n",
    "    ['random_forest', rf_cv_scores],\n",
    "    ['decision_tree', dt_cv_scores]\n",
    "]\n",
    "cv_dict = dict(cv_list)\n",
    "df = pd.DataFrame.from_dict(cv_dict)\n",
    "df.plot()"
   ]
  },
  {
   "cell_type": "code",
   "execution_count": 9,
   "id": "8f2056e3-e230-4539-aa07-ae9a7e8be1d9",
   "metadata": {},
   "outputs": [
    {
     "data": {
      "text/plain": [
       "0.8278047796399752"
      ]
     },
     "execution_count": 9,
     "metadata": {},
     "output_type": "execute_result"
    }
   ],
   "source": [
    "np.mean(dt_cv_scores)"
   ]
  },
  {
   "cell_type": "code",
   "execution_count": 10,
   "id": "28f571ab-f051-4cad-a0f4-c5910c014d8b",
   "metadata": {},
   "outputs": [
    {
     "data": {
      "text/plain": [
       "0.9493528864059589"
      ]
     },
     "execution_count": 10,
     "metadata": {},
     "output_type": "execute_result"
    }
   ],
   "source": [
    "np.mean(rf_cv_scores)"
   ]
  },
  {
   "cell_type": "code",
   "execution_count": 11,
   "id": "655ba14e-8bc8-4ce5-8949-caad023c6513",
   "metadata": {},
   "outputs": [],
   "source": [
    "from sklearn.neighbors import KNeighborsClassifier\n",
    "from sklearn.svm import SVC\n",
    "from sklearn.ensemble import VotingClassifier"
   ]
  },
  {
   "cell_type": "code",
   "execution_count": 12,
   "id": "e6384372-c76d-4713-9006-9eeeb1c5799c",
   "metadata": {},
   "outputs": [],
   "source": [
    "from sklearn.model_selection import train_test_split"
   ]
  },
  {
   "cell_type": "code",
   "execution_count": 13,
   "id": "51a1c248-d5db-49cd-9045-53b380939fd5",
   "metadata": {},
   "outputs": [],
   "source": [
    "X_train, X_test, y_train, y_test = train_test_split(features, labels, test_size=0.2)"
   ]
  },
  {
   "cell_type": "code",
   "execution_count": 14,
   "id": "5d282bc1-8706-40fd-b58f-55503788f93b",
   "metadata": {},
   "outputs": [],
   "source": [
    "from sklearn.metrics import accuracy_score"
   ]
  },
  {
   "cell_type": "code",
   "execution_count": 15,
   "id": "fbb5a3aa-0335-444a-a6a5-52bccbb7a4c6",
   "metadata": {},
   "outputs": [
    {
     "name": "stdout",
     "output_type": "stream",
     "text": [
      "[accuracy]\n",
      "d-tree 0.8305555555555556\n",
      "knn 0.8472222222222222\n",
      "svm 0.9055555555555556\n"
     ]
    }
   ],
   "source": [
    "dtree = tree.DecisionTreeClassifier(criterion='gini', max_depth=8, max_features=32, random_state=35)\n",
    "dtree = dtree.fit(X_train, y_train)\n",
    "dtree_predicted = dtree.predict(X_test)\n",
    "\n",
    "knn = KNeighborsClassifier(n_neighbors=299).fit(X_train, y_train)\n",
    "knn_predicted = knn.predict(X_test)\n",
    "\n",
    "svm = SVC(C=0.1, gamma=0.003, probability=True, random_state=35).fit(X_train, y_train)\n",
    "svm_predicted = svm.predict(X_test)\n",
    "\n",
    "print('[accuracy]')\n",
    "print('d-tree', accuracy_score(y_test, dtree_predicted))\n",
    "print('knn', accuracy_score(y_test, knn_predicted))\n",
    "print('svm', accuracy_score(y_test, svm_predicted))"
   ]
  },
  {
   "cell_type": "code",
   "execution_count": 16,
   "id": "f30f4963-6915-4d98-9f82-5c460a284699",
   "metadata": {},
   "outputs": [
    {
     "name": "stdout",
     "output_type": "stream",
     "text": [
      "[[2.28371626e-03 2.60884779e-03 7.34828299e-03 1.13220530e-02\n",
      "  2.98384806e-03 1.54474301e-02 1.92289616e-03 5.77805138e-03\n",
      "  2.90954736e-02 9.21209401e-01]\n",
      " [1.55791113e-04 5.61244252e-05 9.99449639e-01 2.36295536e-05\n",
      "  2.80680766e-05 5.86502956e-05 4.63685740e-05 5.00159432e-05\n",
      "  5.16823970e-05 8.00304751e-05]]\n"
     ]
    }
   ],
   "source": [
    "svm_proba = svm.predict_proba(X_test)\n",
    "print(svm_proba[:2])"
   ]
  },
  {
   "cell_type": "code",
   "execution_count": 17,
   "id": "a23eb9b7-3268-42d9-9a8b-f85c93d52af5",
   "metadata": {},
   "outputs": [
    {
     "data": {
      "text/plain": [
       "0.9111111111111111"
      ]
     },
     "execution_count": 17,
     "metadata": {},
     "output_type": "execute_result"
    }
   ],
   "source": [
    "voting_clf = VotingClassifier(estimators=[\n",
    "    ('decision_tree', dtree), ('knn', knn), ('svm', svm)], \n",
    "    weights=[1,1,1], voting='hard').fit(X_train, y_train)\n",
    "hard_voting_predicted = voting_clf.predict(X_test)\n",
    "accuracy_score(y_test, hard_voting_predicted)"
   ]
  },
  {
   "cell_type": "code",
   "execution_count": 18,
   "id": "448e0717-0138-4560-8a07-853c171499f8",
   "metadata": {},
   "outputs": [
    {
     "data": {
      "text/plain": [
       "0.9083333333333333"
      ]
     },
     "execution_count": 18,
     "metadata": {},
     "output_type": "execute_result"
    }
   ],
   "source": [
    "voting_clf = VotingClassifier(estimators=[\n",
    "    ('decision_tree', dtree), ('knn', knn), ('svm', svm)], \n",
    "    weights=[1,1,1], voting='soft').fit(X_train, y_train)\n",
    "soft_voting_predicted = voting_clf.predict(X_test)\n",
    "accuracy_score(y_test, soft_voting_predicted)"
   ]
  },
  {
   "cell_type": "code",
   "execution_count": 19,
   "id": "081bf7b3-6495-47ad-864a-5abf3950ed26",
   "metadata": {},
   "outputs": [
    {
     "data": {
      "text/plain": [
       "([<matplotlib.axis.XTick at 0x1c727f29490>,\n",
       "  <matplotlib.axis.XTick at 0x1c727f1e050>,\n",
       "  <matplotlib.axis.XTick at 0x1c726dd5950>,\n",
       "  <matplotlib.axis.XTick at 0x1c72a0fa790>,\n",
       "  <matplotlib.axis.XTick at 0x1c72a0fcb90>],\n",
       " [Text(0, 0, 'decision tree'),\n",
       "  Text(1, 0, 'knn'),\n",
       "  Text(2, 0, 'svm'),\n",
       "  Text(3, 0, 'hard_voting'),\n",
       "  Text(4, 0, 'soft_voting')])"
      ]
     },
     "execution_count": 19,
     "metadata": {},
     "output_type": "execute_result"
    },
    {
     "data": {
      "image/png": "[encoded data removed]",
      "text/plain": [
       "<Figure size 640x480 with 1 Axes>"
      ]
     },
     "metadata": {},
     "output_type": "display_data"
    }
   ],
   "source": [
    "x = np.arange(5)\n",
    "plt.bar(x, height=[accuracy_score(y_test, dtree_predicted),\n",
    "                   accuracy_score(y_test, knn_predicted),\n",
    "                   accuracy_score(y_test, svm_predicted),\n",
    "                   accuracy_score(y_test, hard_voting_predicted),\n",
    "                   accuracy_score(y_test, soft_voting_predicted)])\n",
    "plt.xticks(x, ['decision tree', 'knn', 'svm', 'hard_voting', 'soft_voting'])"
   ]
  },
  {
   "cell_type": "code",
   "execution_count": null,
   "id": "c13b36f4-b764-405a-83ee-98fbb62a9797",
   "metadata": {},
   "outputs": [],
   "source": []
  }
 ],
 "metadata": {
  "kernelspec": {
   "display_name": "Python 3 (ipykernel)",
   "language": "python",
   "name": "python3"
  },
  "language_info": {
   "codemirror_mode": {
    "name": "ipython",
    "version": 3
   },
   "file_extension": ".py",
   "mimetype": "text/x-python",
   "name": "python",
   "nbconvert_exporter": "python",
   "pygments_lexer": "ipython3",
   "version": "3.11.6"
  }
 },
 "nbformat": 4,
 "nbformat_minor": 5
}
