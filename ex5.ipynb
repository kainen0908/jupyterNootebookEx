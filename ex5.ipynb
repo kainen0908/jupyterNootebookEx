{
 "cells": [
  {
   "cell_type": "code",
   "execution_count": 1,
   "id": "777f5b74-5cad-4991-8d4f-402a6198ff5f",
   "metadata": {},
   "outputs": [
    {
     "data": {
      "text/plain": [
       "dict"
      ]
     },
     "execution_count": 1,
     "metadata": {},
     "output_type": "execute_result"
    }
   ],
   "source": [
    "import json\n",
    "\n",
    "python_dict = {\n",
    "    '이름': '홍길동',\n",
    "    '나이': 25,\n",
    "    '거주지': '서울',\n",
    "    '신체정보': {\n",
    "        '키':175.4,\n",
    "        '몸무게': 71.2\n",
    "    },\n",
    "    '취미': [\n",
    "        '등산',\n",
    "        '자전거타기',\n",
    "        '독서'\n",
    "    ]\n",
    "}\n",
    "\n",
    "type(python_dict)"
   ]
  },
  {
   "cell_type": "code",
   "execution_count": 2,
   "id": "5cf1e6bf-e6b9-4ef7-98c9-16407e250688",
   "metadata": {},
   "outputs": [
    {
     "data": {
      "text/plain": [
       "str"
      ]
     },
     "execution_count": 2,
     "metadata": {},
     "output_type": "execute_result"
    }
   ],
   "source": [
    "json_data = json.dumps(python_dict)\n",
    "type(json_data)"
   ]
  },
  {
   "cell_type": "code",
   "execution_count": 3,
   "id": "9403d581-64ba-4d23-bf96-93926a207b01",
   "metadata": {},
   "outputs": [
    {
     "name": "stdout",
     "output_type": "stream",
     "text": [
      "{\"\\uc774\\ub984\": \"\\ud64d\\uae38\\ub3d9\", \"\\ub098\\uc774\": 25, \"\\uac70\\uc8fc\\uc9c0\": \"\\uc11c\\uc6b8\", \"\\uc2e0\\uccb4\\uc815\\ubcf4\": {\"\\ud0a4\": 175.4, \"\\ubab8\\ubb34\\uac8c\": 71.2}, \"\\ucde8\\ubbf8\": [\"\\ub4f1\\uc0b0\", \"\\uc790\\uc804\\uac70\\ud0c0\\uae30\", \"\\ub3c5\\uc11c\"]}\n"
     ]
    }
   ],
   "source": [
    "print(json_data)"
   ]
  },
  {
   "cell_type": "code",
   "execution_count": 4,
   "id": "cee3eef6-23a7-49dd-8a21-cac2c6fb3cca",
   "metadata": {},
   "outputs": [
    {
     "name": "stdout",
     "output_type": "stream",
     "text": [
      "{\n",
      "   \"거주지\": \"서울\",\n",
      "   \"나이\": 25,\n",
      "   \"신체정보\": {\n",
      "      \"몸무게\": 71.2,\n",
      "      \"키\": 175.4\n",
      "   },\n",
      "   \"이름\": \"홍길동\",\n",
      "   \"취미\": [\n",
      "      \"등산\",\n",
      "      \"자전거타기\",\n",
      "      \"독서\"\n",
      "   ]\n",
      "}\n"
     ]
    }
   ],
   "source": [
    "json_data = json.dumps(python_dict, indent = 3, sort_keys = True, ensure_ascii = False)\n",
    "print(json_data)"
   ]
  },
  {
   "cell_type": "code",
   "execution_count": 5,
   "id": "7f9729b8-0743-449b-af8e-1cce297a3bdd",
   "metadata": {},
   "outputs": [
    {
     "data": {
      "text/plain": [
       "str"
      ]
     },
     "execution_count": 5,
     "metadata": {},
     "output_type": "execute_result"
    }
   ],
   "source": [
    "type(json_data)"
   ]
  },
  {
   "cell_type": "code",
   "execution_count": 6,
   "id": "63c6cbfa-1af3-43a1-958b-e7660b90e61d",
   "metadata": {},
   "outputs": [
    {
     "data": {
      "text/plain": [
       "dict"
      ]
     },
     "execution_count": 6,
     "metadata": {},
     "output_type": "execute_result"
    }
   ],
   "source": [
    "json_dict = json.loads(json_data)\n",
    "type(json_dict)"
   ]
  },
  {
   "cell_type": "code",
   "execution_count": 7,
   "id": "330d8b96-9b9d-46c1-8343-740766bd22ec",
   "metadata": {},
   "outputs": [
    {
     "data": {
      "text/plain": [
       "{'몸무게': 71.2, '키': 175.4}"
      ]
     },
     "execution_count": 7,
     "metadata": {},
     "output_type": "execute_result"
    }
   ],
   "source": [
    "json_dict['신체정보']"
   ]
  },
  {
   "cell_type": "code",
   "execution_count": 8,
   "id": "a99554e4-4039-45db-a74d-e8567fdbf390",
   "metadata": {},
   "outputs": [
    {
     "data": {
      "text/plain": [
       "71.2"
      ]
     },
     "execution_count": 8,
     "metadata": {},
     "output_type": "execute_result"
    }
   ],
   "source": [
    "json_dict['신체정보']['몸무게']"
   ]
  },
  {
   "cell_type": "code",
   "execution_count": 9,
   "id": "8465f7b5-f4b8-426c-98bd-09309e2b3cc6",
   "metadata": {},
   "outputs": [
    {
     "data": {
      "text/plain": [
       "'등산'"
      ]
     },
     "execution_count": 9,
     "metadata": {},
     "output_type": "execute_result"
    }
   ],
   "source": [
    "json_dict['취미'][0]"
   ]
  },
  {
   "cell_type": "code",
   "execution_count": 10,
   "id": "aced3521-dc65-4297-ab49-3716777aedbd",
   "metadata": {},
   "outputs": [
    {
     "name": "stdout",
     "output_type": "stream",
     "text": [
      "<?xml version=\"1.0\" encoding=\"UTF-8\" ?>\n",
      "<사용자정보>\n",
      "    <이름>홍길동</이름>\n",
      "    <나이>25</나이>\n",
      "    <거주지>서울</거주지>\n",
      "    <신체정보>\n",
      "        <키 unit=\"cm\">175.4</키>\n",
      "        <몸무게 unit=\"kg\">71.2</몸무게>\n",
      "    </신체정보>\n",
      "    <취미>등산</취미>\n",
      "    <취미>자전거타기</취미>\n",
      "    <취미>독서</취미>\n",
      "</사용자정보> \n",
      "\n"
     ]
    }
   ],
   "source": [
    "xml_data = \"\"\"<?xml version=\"1.0\" encoding=\"UTF-8\" ?>\n",
    "<사용자정보>\n",
    "    <이름>홍길동</이름>\n",
    "    <나이>25</나이>\n",
    "    <거주지>서울</거주지>\n",
    "    <신체정보>\n",
    "        <키 unit=\"cm\">175.4</키>\n",
    "        <몸무게 unit=\"kg\">71.2</몸무게>\n",
    "    </신체정보>\n",
    "    <취미>등산</취미>\n",
    "    <취미>자전거타기</취미>\n",
    "    <취미>독서</취미>\n",
    "</사용자정보> \n",
    "\"\"\"\n",
    "print(xml_data)"
   ]
  },
  {
   "cell_type": "code",
   "execution_count": 11,
   "id": "7ef8c2be-c751-4909-aceb-908bffef7fa7",
   "metadata": {},
   "outputs": [
    {
     "data": {
      "text/plain": [
       "{'사용자정보': {'이름': '홍길동',\n",
       "  '나이': '25',\n",
       "  '거주지': '서울',\n",
       "  '신체정보': {'키': {'@unit': 'cm', '#text': '175.4'},\n",
       "   '몸무게': {'@unit': 'kg', '#text': '71.2'}},\n",
       "  '취미': ['등산', '자전거타기', '독서']}}"
      ]
     },
     "execution_count": 11,
     "metadata": {},
     "output_type": "execute_result"
    }
   ],
   "source": [
    "import xmltodict\n",
    "# import 안될 시 anaconda prompt에서 아래 명령어 입력\n",
    "# pip install xmltodict\n",
    "dict_data = xmltodict.parse(xml_data, xml_attribs=True)\n",
    "dict_data"
   ]
  },
  {
   "cell_type": "code",
   "execution_count": 12,
   "id": "26012cf5-0d71-4a6c-92d3-d04c1335a218",
   "metadata": {},
   "outputs": [
    {
     "data": {
      "text/plain": [
       "'홍길동'"
      ]
     },
     "execution_count": 12,
     "metadata": {},
     "output_type": "execute_result"
    }
   ],
   "source": [
    "dict_data['사용자정보']['이름']"
   ]
  },
  {
   "cell_type": "code",
   "execution_count": 13,
   "id": "ee242c68-f41a-4426-9974-4c470ca4d47b",
   "metadata": {},
   "outputs": [
    {
     "data": {
      "text/plain": [
       "'cm'"
      ]
     },
     "execution_count": 13,
     "metadata": {},
     "output_type": "execute_result"
    }
   ],
   "source": [
    "dict_data['사용자정보']['신체정보']['키']['@unit']"
   ]
  },
  {
   "cell_type": "code",
   "execution_count": 14,
   "id": "c1da01a5-41b0-4505-9eb8-bca81566b53b",
   "metadata": {},
   "outputs": [
    {
     "data": {
      "text/plain": [
       "'175.4'"
      ]
     },
     "execution_count": 14,
     "metadata": {},
     "output_type": "execute_result"
    }
   ],
   "source": [
    "dict_data['사용자정보']['신체정보']['키']['#text']"
   ]
  },
  {
   "cell_type": "code",
   "execution_count": 15,
   "id": "a369d6f4-ca52-4198-9ab0-a70c10e59027",
   "metadata": {},
   "outputs": [
    {
     "data": {
      "text/plain": [
       "{'사용자정보': {'이름': '홍길동',\n",
       "  '나이': '25',\n",
       "  '거주지': '서울',\n",
       "  '신체정보': {'키': '175.4', '몸무게': '71.2'},\n",
       "  '취미': ['등산', '자전거타기', '독서']}}"
      ]
     },
     "execution_count": 15,
     "metadata": {},
     "output_type": "execute_result"
    }
   ],
   "source": [
    "dict_data2 = xmltodict.parse(xml_data, xml_attribs=False)\n",
    "dict_data2"
   ]
  },
  {
   "cell_type": "code",
   "execution_count": 16,
   "id": "baf0253b-8fbd-4e3a-94d5-448168512dbf",
   "metadata": {},
   "outputs": [
    {
     "name": "stdout",
     "output_type": "stream",
     "text": [
      "https://api.github.com/events\n"
     ]
    }
   ],
   "source": [
    "base_url = 'https://api.github.com/'\n",
    "sub_dir = 'events'\n",
    "url = base_url + sub_dir\n",
    "print(url)"
   ]
  },
  {
   "cell_type": "code",
   "execution_count": 17,
   "id": "1c5681c3-2843-4c51-b49b-252a0b9a1e01",
   "metadata": {},
   "outputs": [],
   "source": [
    "import requests"
   ]
  },
  {
   "cell_type": "code",
   "execution_count": 19,
   "id": "9298b473-92ec-4506-9b59-1458ce3670ee",
   "metadata": {},
   "outputs": [
    {
     "name": "stdout",
     "output_type": "stream",
     "text": [
      "{\"timestamp\": 1697173870, \"iss_position\": {\"latitude\": \"-16.9941\", \"longitude\": \"-161.3832\"}, \"message\": \"success\"}\n"
     ]
    }
   ],
   "source": [
    "url = 'http://api.open-notify.org/iss-now.json'\n",
    "r = requests.get(url)\n",
    "print(r.text)"
   ]
  },
  {
   "cell_type": "code",
   "execution_count": 20,
   "id": "d236f28d-d9a5-430c-9f84-d09be8d4a669",
   "metadata": {},
   "outputs": [
    {
     "data": {
      "text/plain": [
       "dict"
      ]
     },
     "execution_count": 20,
     "metadata": {},
     "output_type": "execute_result"
    }
   ],
   "source": [
    "json_to_dict = json.loads(r.text)\n",
    "type(json_to_dict)"
   ]
  },
  {
   "cell_type": "code",
   "execution_count": 22,
   "id": "c0a347bc-af73-4309-afcf-487b721ca1c1",
   "metadata": {},
   "outputs": [
    {
     "name": "stdout",
     "output_type": "stream",
     "text": [
      "-16.9941\n",
      "-161.3832\n"
     ]
    }
   ],
   "source": [
    "print(json_to_dict['iss_position']['latitude'])\n",
    "print(json_to_dict['iss_position']['longitude'])"
   ]
  },
  {
   "cell_type": "code",
   "execution_count": 23,
   "id": "79b08729-316e-4bce-8e11-3917e2b43c7b",
   "metadata": {},
   "outputs": [
    {
     "name": "stdout",
     "output_type": "stream",
     "text": [
      "{'latitude': '-34.1573', 'longitude': '-144.4487'}\n",
      "{'latitude': '-34.5830', 'longitude': '-143.9023'}\n",
      "{'latitude': '-35.0269', 'longitude': '-143.3220'}\n",
      "{'latitude': '-35.4467', 'longitude': '-142.7632'}\n",
      "{'latitude': '-35.8842', 'longitude': '-142.1695'}\n",
      "{'latitude': '-36.2977', 'longitude': '-141.5976'}\n",
      "{'latitude': '-36.7284', 'longitude': '-140.9901'}\n",
      "{'latitude': '-37.1353', 'longitude': '-140.4049'}\n",
      "{'latitude': '-37.5589', 'longitude': '-139.7830'}\n",
      "{'latitude': '-37.9588', 'longitude': '-139.1836'}\n"
     ]
    }
   ],
   "source": [
    "import requests\n",
    "import time\n",
    "\n",
    "url = 'http://api.open-notify.org/iss-now.json'\n",
    "\n",
    "def ISS_Position(iss_position_api_url):\n",
    "    json_to_dict = requests.get(iss_position_api_url).json()\n",
    "    return json_to_dict['iss_position']\n",
    "\n",
    "for k in range(10):\n",
    "    print(ISS_Position(url))\n",
    "    time.sleep(10)"
   ]
  },
  {
   "cell_type": "code",
   "execution_count": 27,
   "id": "67b9688f-eedf-4c75-9bfe-6de79c626cd4",
   "metadata": {},
   "outputs": [
    {
     "name": "stdout",
     "output_type": "stream",
     "text": [
      "[{\"name\":{\"common\":\"South Korea\",\"official\":\"Republic of Korea\",\"nativeName\":{\"kor\":{\"official\":\"대한민국\",\"common\":\"한국\"}}},\"tld\":[\".kr\",\".한국\"],\"cca2\":\"KR\",\"ccn3\":\"410\",\"cca3\":\"KOR\",\"cioc\":\"KOR\",\"independent\":true,\"status\":\"officially-assigned\",\"unMember\":true,\"currencies\":{\"KRW\":{\"name\":\"South Korean won\",\"symbol\":\"₩\"}},\"idd\":{\"root\":\"+8\",\"suffixes\":[\"2\"]},\"capital\":[\"Seoul\"],\"altSpellings\":[\"KR\",\"Korea, Republic of\",\"Republic of Korea\",\"남한\",\"남조선\"],\"region\":\"Asia\",\"subregion\":\"Eastern Asia\",\"languages\":{\"kor\":\"Korean\"},\"translations\":{\"ara\":{\"official\":\"جمهورية كوريا\",\"common\":\"كوريا الجنوبية\"},\"bre\":{\"official\":\"Republik Korea\",\"common\":\"Korea ar Su\"},\"ces\":{\"official\":\"Korejská republika\",\"common\":\"Jižní Korea\"},\"cym\":{\"official\":\"Republic of Korea\",\"common\":\"South Korea\"},\"deu\":{\"official\":\"Republik Korea\",\"common\":\"Südkorea\"},\"est\":{\"official\":\"Korea Vabariik\",\"common\":\"Lõuna-Korea\"},\"fin\":{\"official\":\"Korean tasavalta\",\"common\":\"Etelä-Korea\"},\"fra\":{\"official\":\"République de Corée\",\"common\":\"Corée du Sud\"},\"hrv\":{\"official\":\"Republika Koreja\",\"common\":\"Južna Koreja\"},\"hun\":{\"official\":\"Koreai Köztársaság\",\"common\":\"Dél-Korea\"},\"ita\":{\"official\":\"Repubblica di Corea\",\"common\":\"Corea del Sud\"},\"jpn\":{\"official\":\"大韓民国\",\"common\":\"韓国\"},\"kor\":{\"official\":\"대한민국\",\"common\":\"한국\"},\"nld\":{\"official\":\"Republiek Korea\",\"common\":\"Zuid-Korea\"},\"per\":{\"official\":\"جمهوری کره\",\"common\":\"کرهٔ جنوبی\"},\"pol\":{\"official\":\"Republika Korei\",\"common\":\"Korea Południowa\"},\"por\":{\"official\":\"República da Coreia\",\"common\":\"Coreia do Sul\"},\"rus\":{\"official\":\"Республика Корея\",\"common\":\"Южная Корея\"},\"slk\":{\"official\":\"Kórejská republika\",\"common\":\"Južná Kórea\"},\"spa\":{\"official\":\"República de Corea\",\"common\":\"Corea del Sur\"},\"srp\":{\"official\":\"Република Кореја\",\"common\":\"Јужна Кореја\"},\"swe\":{\"official\":\"Republiken Korea\",\"common\":\"Sydkorea\"},\"tur\":{\"official\":\"Kore Cumhuriyeti\",\"common\":\"Güney Kore\"},\"urd\":{\"official\":\"جمہوریہ کوریا \",\"common\":\"جنوبی کوریا\"},\"zho\":{\"official\":\"大韩民国\",\"common\":\"韩国\"}},\"latlng\":[37.0,127.5],\"landlocked\":false,\"borders\":[\"PRK\"],\"area\":100210.0,\"demonyms\":{\"eng\":{\"f\":\"South Korean\",\"m\":\"South Korean\"},\"fra\":{\"f\":\"Sud-coréenne\",\"m\":\"Sud-coréen\"}},\"flag\":\"\\uD83C\\uDDF0\\uD83C\\uDDF7\",\"maps\":{\"googleMaps\":\"https://goo.gl/maps/7ecjaJXefjAQhxjGA\",\"openStreetMaps\":\"https://www.openstreetmap.org/relation/307756\"},\"population\":51780579,\"gini\":{\"2016\":31.4},\"fifa\":\"KOR\",\"car\":{\"signs\":[\"ROK\"],\"side\":\"right\"},\"timezones\":[\"UTC+09:00\"],\"continents\":[\"Asia\"],\"flags\":{\"png\":\"https://flagcdn.com/w320/kr.png\",\"svg\":\"https://flagcdn.com/kr.svg\",\"alt\":\"The flag of South Korea has a white field, at the center of which is a red and blue Taegeuk circle surrounded by four black trigrams, one in each corner.\"},\"coatOfArms\":{\"png\":\"https://mainfacts.com/media/images/coats_of_arms/kr.png\",\"svg\":\"https://mainfacts.com/media/images/coats_of_arms/kr.svg\"},\"startOfWeek\":\"monday\",\"capitalInfo\":{\"latlng\":[37.55,126.98]},\"postalCode\":{\"format\":\"SEOUL ###-###\",\"regex\":\"^(?:SEOUL)*(\\\\d{6})$\"}}]\n"
     ]
    }
   ],
   "source": [
    "url_temp = \"https://restcountries.com/v3.1/name/\"\n",
    "country = \"South Korea\"\n",
    "url = url_temp + country\n",
    "r = requests.get(url)\n",
    "print(r.text)"
   ]
  },
  {
   "cell_type": "code",
   "execution_count": 28,
   "id": "6f565e03-3963-4f4f-a9a2-7279783e979d",
   "metadata": {},
   "outputs": [
    {
     "data": {
      "text/plain": [
       "[{'name': {'common': 'South Korea',\n",
       "   'official': 'Republic of Korea',\n",
       "   'nativeName': {'kor': {'official': '대한민국', 'common': '한국'}}},\n",
       "  'tld': ['.kr', '.한국'],\n",
       "  'cca2': 'KR',\n",
       "  'ccn3': '410',\n",
       "  'cca3': 'KOR',\n",
       "  'cioc': 'KOR',\n",
       "  'independent': True,\n",
       "  'status': 'officially-assigned',\n",
       "  'unMember': True,\n",
       "  'currencies': {'KRW': {'name': 'South Korean won', 'symbol': '₩'}},\n",
       "  'idd': {'root': '+8', 'suffixes': ['2']},\n",
       "  'capital': ['Seoul'],\n",
       "  'altSpellings': ['KR',\n",
       "   'Korea, Republic of',\n",
       "   'Republic of Korea',\n",
       "   '남한',\n",
       "   '남조선'],\n",
       "  'region': 'Asia',\n",
       "  'subregion': 'Eastern Asia',\n",
       "  'languages': {'kor': 'Korean'},\n",
       "  'translations': {'ara': {'official': 'جمهورية كوريا',\n",
       "    'common': 'كوريا الجنوبية'},\n",
       "   'bre': {'official': 'Republik Korea', 'common': 'Korea ar Su'},\n",
       "   'ces': {'official': 'Korejská republika', 'common': 'Jižní Korea'},\n",
       "   'cym': {'official': 'Republic of Korea', 'common': 'South Korea'},\n",
       "   'deu': {'official': 'Republik Korea', 'common': 'Südkorea'},\n",
       "   'est': {'official': 'Korea Vabariik', 'common': 'Lõuna-Korea'},\n",
       "   'fin': {'official': 'Korean tasavalta', 'common': 'Etelä-Korea'},\n",
       "   'fra': {'official': 'République de Corée', 'common': 'Corée du Sud'},\n",
       "   'hrv': {'official': 'Republika Koreja', 'common': 'Južna Koreja'},\n",
       "   'hun': {'official': 'Koreai Köztársaság', 'common': 'Dél-Korea'},\n",
       "   'ita': {'official': 'Repubblica di Corea', 'common': 'Corea del Sud'},\n",
       "   'jpn': {'official': '大韓民国', 'common': '韓国'},\n",
       "   'kor': {'official': '대한민국', 'common': '한국'},\n",
       "   'nld': {'official': 'Republiek Korea', 'common': 'Zuid-Korea'},\n",
       "   'per': {'official': 'جمهوری کره', 'common': 'کرهٔ جنوبی'},\n",
       "   'pol': {'official': 'Republika Korei', 'common': 'Korea Południowa'},\n",
       "   'por': {'official': 'República da Coreia', 'common': 'Coreia do Sul'},\n",
       "   'rus': {'official': 'Республика Корея', 'common': 'Южная Корея'},\n",
       "   'slk': {'official': 'Kórejská republika', 'common': 'Južná Kórea'},\n",
       "   'spa': {'official': 'República de Corea', 'common': 'Corea del Sur'},\n",
       "   'srp': {'official': 'Република Кореја', 'common': 'Јужна Кореја'},\n",
       "   'swe': {'official': 'Republiken Korea', 'common': 'Sydkorea'},\n",
       "   'tur': {'official': 'Kore Cumhuriyeti', 'common': 'Güney Kore'},\n",
       "   'urd': {'official': 'جمہوریہ کوریا ', 'common': 'جنوبی کوریا'},\n",
       "   'zho': {'official': '大韩民国', 'common': '韩国'}},\n",
       "  'latlng': [37.0, 127.5],\n",
       "  'landlocked': False,\n",
       "  'borders': ['PRK'],\n",
       "  'area': 100210.0,\n",
       "  'demonyms': {'eng': {'f': 'South Korean', 'm': 'South Korean'},\n",
       "   'fra': {'f': 'Sud-coréenne', 'm': 'Sud-coréen'}},\n",
       "  'flag': '🇰🇷',\n",
       "  'maps': {'googleMaps': 'https://goo.gl/maps/7ecjaJXefjAQhxjGA',\n",
       "   'openStreetMaps': 'https://www.openstreetmap.org/relation/307756'},\n",
       "  'population': 51780579,\n",
       "  'gini': {'2016': 31.4},\n",
       "  'fifa': 'KOR',\n",
       "  'car': {'signs': ['ROK'], 'side': 'right'},\n",
       "  'timezones': ['UTC+09:00'],\n",
       "  'continents': ['Asia'],\n",
       "  'flags': {'png': 'https://flagcdn.com/w320/kr.png',\n",
       "   'svg': 'https://flagcdn.com/kr.svg',\n",
       "   'alt': 'The flag of South Korea has a white field, at the center of which is a red and blue Taegeuk circle surrounded by four black trigrams, one in each corner.'},\n",
       "  'coatOfArms': {'png': 'https://mainfacts.com/media/images/coats_of_arms/kr.png',\n",
       "   'svg': 'https://mainfacts.com/media/images/coats_of_arms/kr.svg'},\n",
       "  'startOfWeek': 'monday',\n",
       "  'capitalInfo': {'latlng': [37.55, 126.98]},\n",
       "  'postalCode': {'format': 'SEOUL ###-###', 'regex': '^(?:SEOUL)*(\\\\d{6})$'}}]"
      ]
     },
     "execution_count": 28,
     "metadata": {},
     "output_type": "execute_result"
    }
   ],
   "source": [
    "json_to_list = requests.get(url).json()\n",
    "json_to_list"
   ]
  },
  {
   "cell_type": "code",
   "execution_count": 29,
   "id": "ba6f1758-8c15-46e7-9687-fd916132fc2e",
   "metadata": {},
   "outputs": [
    {
     "data": {
      "text/plain": [
       "['Seoul']"
      ]
     },
     "execution_count": 29,
     "metadata": {},
     "output_type": "execute_result"
    }
   ],
   "source": [
    "json_to_list[0]['capital']"
   ]
  },
  {
   "cell_type": "code",
   "execution_count": 30,
   "id": "5e6d7855-8f77-4090-a26b-22cf13287124",
   "metadata": {},
   "outputs": [
    {
     "name": "stdout",
     "output_type": "stream",
     "text": [
      "South Korea: ['Seoul']\n",
      "United States of America: ['Washington, D.C.']\n",
      "United Kingdom: ['London']\n",
      "France: ['Paris']\n",
      "Germany: ['Berlin']\n"
     ]
    }
   ],
   "source": [
    "countries = ['South Korea', 'United States of America', 'United Kingdom', 'France', 'Germany']\n",
    "def country_to_capital(country):\n",
    "    url_temp = \"https://restcountries.com/v3.1/name/\"\n",
    "    url = url_temp + country\n",
    "    json_to_list = requests.get(url).json()\n",
    "    return json_to_list[0]['capital']\n",
    "\n",
    "for country in countries:\n",
    "    capital = country_to_capital(country)\n",
    "    print('{0}: {1}'.format(country, capital))"
   ]
  },
  {
   "cell_type": "code",
   "execution_count": 31,
   "id": "9a06aceb-4467-447a-a0a6-0664f09ccf38",
   "metadata": {},
   "outputs": [],
   "source": [
    "import tweepy\n",
    "consumer_key = ''\n",
    "consumer_secret = ''\n",
    "access_token = ''\n",
    "access_secret = ''"
   ]
  },
  {
   "cell_type": "code",
   "execution_count": 32,
   "id": "c57cc1a9-422e-4cc6-b782-bbd77aa45782",
   "metadata": {},
   "outputs": [],
   "source": [
    "auth = tweepy.OAuthHandler(consumer_key, consumer_secret)\n",
    "auth.set_access_token(access_token, access_secret)"
   ]
  },
  {
   "cell_type": "code",
   "execution_count": 33,
   "id": "c864bf79-ac13-4956-8290-ef25da968b60",
   "metadata": {},
   "outputs": [],
   "source": [
    "api = tweepy.API(auth)"
   ]
  },
  {
   "cell_type": "code",
   "execution_count": 2,
   "id": "28b76629-7705-4f9f-a0ef-31630e858a60",
   "metadata": {},
   "outputs": [
    {
     "ename": "NameError",
     "evalue": "name 'api' is not defined",
     "output_type": "error",
     "traceback": [
      "\u001b[1;31m---------------------------------------------------------------------------\u001b[0m",
      "\u001b[1;31mNameError\u001b[0m                                 Traceback (most recent call last)",
      "Cell \u001b[1;32mIn[2], line 1\u001b[0m\n\u001b[1;32m----> 1\u001b[0m \u001b[38;5;28mprint\u001b[39m(\u001b[38;5;124m\"\u001b[39m\u001b[38;5;124mname:\u001b[39m\u001b[38;5;124m\"\u001b[39m, \u001b[43mapi\u001b[49m\u001b[38;5;241m.\u001b[39mverify_credentials()\u001b[38;5;241m.\u001b[39mname)\n",
      "\u001b[1;31mNameError\u001b[0m: name 'api' is not defined"
     ]
    }
   ],
   "source": [
    "print(\"name:\", api.verify_credentials().name)"
   ]
  },
  {
   "cell_type": "code",
   "execution_count": 41,
   "id": "07e4dc99-9aa7-41a5-b028-eaa839edadc6",
   "metadata": {},
   "outputs": [],
   "source": [
    "# tweet_update_status = api.create_tweet('파이썬에서 Tweepy 라이브러리를 이용한 첫번째 트윗')"
   ]
  },
  {
   "cell_type": "code",
   "execution_count": 1,
   "id": "10b2d5fc-9921-4f8d-a06a-098bec1fe95d",
   "metadata": {},
   "outputs": [
    {
     "ename": "NameError",
     "evalue": "name 'requests' is not defined",
     "output_type": "error",
     "traceback": [
      "\u001b[1;31m---------------------------------------------------------------------------\u001b[0m",
      "\u001b[1;31mNameError\u001b[0m                                 Traceback (most recent call last)",
      "Cell \u001b[1;32mIn[1], line 2\u001b[0m\n\u001b[0;32m      1\u001b[0m API_KEY \u001b[38;5;241m=\u001b[39m \u001b[38;5;124m'\u001b[39m\u001b[38;5;124m'\u001b[39m\n\u001b[1;32m----> 2\u001b[0m API_KEY_decode \u001b[38;5;241m=\u001b[39m \u001b[43mrequests\u001b[49m\u001b[38;5;241m.\u001b[39mutils\u001b[38;5;241m.\u001b[39munquote(API_KEY)\n\u001b[0;32m      3\u001b[0m API_KEY_decode\n",
      "\u001b[1;31mNameError\u001b[0m: name 'requests' is not defined"
     ]
    }
   ],
   "source": [
    "API_KEY = ''\n",
    "API_KEY_decode = requests.utils.unquote(API_KEY)\n",
    "API_KEY_decode"
   ]
  },
  {
   "cell_type": "code",
   "execution_count": 60,
   "id": "41a2db52-2ea0-4df2-9a62-97f7675c68d0",
   "metadata": {},
   "outputs": [
    {
     "name": "stdout",
     "output_type": "stream",
     "text": [
      "<?xml version=\"1.0\" encoding=\"UTF-8\" standalone=\"yes\"?><NewAddressListResponse><cmmMsgHeader><requestMsgId></requestMsgId><responseMsgId></responseMsgId><responseTime>20231013:15514343</responseTime><successYN>Y</successYN><returnCode>00</returnCode><errMsg></errMsg><totalCount>1</totalCount><countPerPage>10</countPerPage><totalPage>1</totalPage><currentPage></currentPage></cmmMsgHeader><newAddressListAreaCd><zipNo>06579</zipNo><lnmAdres>서울특별시 서초구 반포대로 201 (반포동, 국립중앙도서관)</lnmAdres><rnAdres>서울특별시 서초구 반포동 산60-1 국립중앙도서관</rnAdres></newAddressListAreaCd></NewAddressListResponse>\n"
     ]
    }
   ],
   "source": [
    "req_url = 'http://openapi.epost.go.kr/postal/retrieveNewAdressAreaCdService/retrieveNewAdressAreaCdService/getNewAddressListAreaCd'\n",
    "search_Se = \"road\" \n",
    "srch_wrd = \"반포대로 201\"\n",
    "\n",
    "req_parameter = {\"ServiceKey\":API_KEY_decode, \"searchSe\":search_Se, \"srchwrd\":srch_wrd}\n",
    "\n",
    "r = requests.get(req_url, params = req_parameter)\n",
    "xml_data = r.text\n",
    "print(xml_data)"
   ]
  },
  {
   "cell_type": "code",
   "execution_count": 61,
   "id": "95626c96-7346-47c7-8f65-4e640a1a8b49",
   "metadata": {},
   "outputs": [
    {
     "data": {
      "text/plain": [
       "{'NewAddressListResponse': {'cmmMsgHeader': {'requestMsgId': None,\n",
       "   'responseMsgId': None,\n",
       "   'responseTime': '20231013:15514343',\n",
       "   'successYN': 'Y',\n",
       "   'returnCode': '00',\n",
       "   'errMsg': None,\n",
       "   'totalCount': '1',\n",
       "   'countPerPage': '10',\n",
       "   'totalPage': '1',\n",
       "   'currentPage': None},\n",
       "  'newAddressListAreaCd': {'zipNo': '06579',\n",
       "   'lnmAdres': '서울특별시 서초구 반포대로 201 (반포동, 국립중앙도서관)',\n",
       "   'rnAdres': '서울특별시 서초구 반포동 산60-1 국립중앙도서관'}}}"
      ]
     },
     "execution_count": 61,
     "metadata": {},
     "output_type": "execute_result"
    }
   ],
   "source": [
    "dict_data = xmltodict.parse(xml_data)\n",
    "dict_data"
   ]
  },
  {
   "cell_type": "code",
   "execution_count": 62,
   "id": "40e59fb3-d520-4e35-b32d-624ae511c18c",
   "metadata": {},
   "outputs": [
    {
     "name": "stdout",
     "output_type": "stream",
     "text": [
      "[입력한 도로명 주소] 반포대로 201\n",
      "[응답 데이터에서 추출한 결과]\n",
      "- 우편번호: 06579\n",
      "- 도로명 주소: 서울특별시 서초구 반포대로 201 (반포동, 국립중앙도서관)\n",
      "- 지번 주소: 서울특별시 서초구 반포동 산60-1 국립중앙도서관\n"
     ]
    }
   ],
   "source": [
    "adress_list = dict_data['NewAddressListResponse']['newAddressListAreaCd']\n",
    "\n",
    "print(\"[입력한 도로명 주소]\", srch_wrd)\n",
    "print(\"[응답 데이터에서 추출한 결과]\")\n",
    "print(\"- 우편번호:\", adress_list['zipNo'])\n",
    "print(\"- 도로명 주소:\", adress_list['lnmAdres'])\n",
    "print(\"- 지번 주소:\", adress_list['rnAdres'])"
   ]
  },
  {
   "cell_type": "code",
   "execution_count": 94,
   "id": "5ed2f073-db2a-4765-a2f7-9cb7ecccfa8e",
   "metadata": {},
   "outputs": [
    {
     "data": {
      "text/plain": [
       "''"
      ]
     },
     "execution_count": 94,
     "metadata": {},
     "output_type": "execute_result"
    }
   ],
   "source": [
    "import requests\n",
    "API_KEY = ''\n",
    "API_KEY_decode = requests.utils.unquote(API_KEY)\n",
    "API_KEY_decode"
   ]
  },
  {
   "cell_type": "code",
   "execution_count": 83,
   "id": "f4bab1b7-044a-42b2-a487-930d2ccfff01",
   "metadata": {},
   "outputs": [
    {
     "data": {
      "text/plain": [
       "{'response': {'header': {'resultCode': '00', 'resultMsg': 'NORMAL_SERVICE'},\n",
       "  'body': {'dataType': 'JSON',\n",
       "   'items': {'item': [{'baseDate': '20231016',\n",
       "      'baseTime': '1100',\n",
       "      'category': 'PTY',\n",
       "      'nx': 60,\n",
       "      'ny': 127,\n",
       "      'obsrValue': '0'},\n",
       "     {'baseDate': '20231016',\n",
       "      'baseTime': '1100',\n",
       "      'category': 'REH',\n",
       "      'nx': 60,\n",
       "      'ny': 127,\n",
       "      'obsrValue': '46'},\n",
       "     {'baseDate': '20231016',\n",
       "      'baseTime': '1100',\n",
       "      'category': 'RN1',\n",
       "      'nx': 60,\n",
       "      'ny': 127,\n",
       "      'obsrValue': '0'},\n",
       "     {'baseDate': '20231016',\n",
       "      'baseTime': '1100',\n",
       "      'category': 'T1H',\n",
       "      'nx': 60,\n",
       "      'ny': 127,\n",
       "      'obsrValue': '16.4'},\n",
       "     {'baseDate': '20231016',\n",
       "      'baseTime': '1100',\n",
       "      'category': 'UUU',\n",
       "      'nx': 60,\n",
       "      'ny': 127,\n",
       "      'obsrValue': '1.7'},\n",
       "     {'baseDate': '20231016',\n",
       "      'baseTime': '1100',\n",
       "      'category': 'VEC',\n",
       "      'nx': 60,\n",
       "      'ny': 127,\n",
       "      'obsrValue': '309'}]},\n",
       "   'pageNo': 1,\n",
       "   'numOfRows': 6,\n",
       "   'totalCount': 8}}}"
      ]
     },
     "execution_count": 83,
     "metadata": {},
     "output_type": "execute_result"
    }
   ],
   "source": [
    "import json\n",
    "import datetime\n",
    "\n",
    "now = datetime.datetime.now()\n",
    "date = '{:%Y%m%d}'.format(now)\n",
    "time = '{:%H00}'.format(now)\n",
    "if(now.minute >= 30):\n",
    "    time = '{0}00'.format(now.hour)\n",
    "else:\n",
    "    time = '{0}00'.format(now.hour - 1)\n",
    "req_url = 'http://apis.data.go.kr/1360000/VilageFcstInfoService_2.0/getUltraSrtNcst'\n",
    "baseDate = date\n",
    "baseTime = time\n",
    "\n",
    "nx_val =  60\n",
    "ny_val = 127\n",
    "\n",
    "num_of_rows = 6\n",
    "page_no = 1\n",
    "\n",
    "output_type = 'JSON'\n",
    "req_parameter = {'ServiceKey':API_KEY_decode,\n",
    "                 'nx':nx_val, 'ny':ny_val,\n",
    "                 'base_date':baseDate, 'base_time':baseTime,\n",
    "                 'pageNO':page_no, 'numOfRows':num_of_rows, 'dataType':output_type}\n",
    "r = requests.get(req_url, params = req_parameter)\n",
    "dict_data = r.json()\n",
    "dict_data"
   ]
  },
  {
   "cell_type": "code",
   "execution_count": 85,
   "id": "dfaba8fb-1374-4a48-be99-d7760e29edf9",
   "metadata": {},
   "outputs": [
    {
     "name": "stdout",
     "output_type": "stream",
     "text": [
      "[발표 날짜: 20231016]\n",
      "[발표 시간: 1100]\n",
      "* 습도: 46[%]\n",
      "* 1시간 강수량: 0[mm]\n",
      "* 기온: 16.4[\"C]\n"
     ]
    }
   ],
   "source": [
    "weather_items = dict_data['response']['body']['items']['item']\n",
    "print('[발표 날짜: {}]'.format(weather_items[0]['baseDate']))\n",
    "print('[발표 시간: {}]'.format(weather_items[0]['baseTime']))\n",
    "\n",
    "sky_cond = ['맑음', '구름 조금', '구름 많음', '흐림']\n",
    "rain_type = [\"없음\", \"비\", \"진눈개비\", \"눈\"] \n",
    "\n",
    "for k in range(len(weather_items)):\n",
    "    weather_item = weather_items[k]\n",
    "    obsrValue = weather_item['obsrValue']\n",
    "    if(weather_item['category']=='T1H'):\n",
    "        print('* 기온: {}[\"C]'.format(obsrValue))\n",
    "    elif(weather_item['category']=='REH'):\n",
    "        print('* 습도: {}[%]'.format(obsrValue))\n",
    "    elif(weather_item['category']=='RN1'):\n",
    "        print('* 1시간 강수량: {}[mm]'.format(obsrValue))"
   ]
  },
  {
   "cell_type": "code",
   "execution_count": 92,
   "id": "0b353262-5559-4972-82ed-dab929bc8407",
   "metadata": {},
   "outputs": [
    {
     "name": "stdout",
     "output_type": "stream",
     "text": [
      "[발표 날짜: 20231016]\n",
      "[발표 시간: 1130]\n",
      "[초단기 일기 예보]\n",
      "* 시각:1200, 강수 형태: 없음\n",
      "* 시각:1300, 강수 형태: 없음\n",
      "* 시각:1400, 강수 형태: 없음\n",
      "* 시각:1500, 강수 형태: 없음\n",
      "* 시각:1600, 강수 형태: 없음\n",
      "* 시각:1700, 강수 형태: 없음\n",
      "* 시각:1200, 1시간 강수량: 강수없음[mm]\n",
      "* 시각:1300, 1시간 강수량: 강수없음[mm]\n",
      "* 시각:1400, 1시간 강수량: 강수없음[mm]\n",
      "* 시각:1500, 1시간 강수량: 강수없음[mm]\n",
      "* 시각:1600, 1시간 강수량: 강수없음[mm]\n",
      "* 시각:1700, 1시간 강수량: 강수없음[mm]\n",
      "* 시각:1200, 하늘 상태: 맑음\n",
      "* 시각:1300, 하늘 상태: 맑음\n",
      "* 시각:1400, 하늘 상태: 맑음\n",
      "* 시각:1500, 하늘 상태: 맑음\n",
      "* 시각:1600, 하늘 상태: 맑음\n",
      "* 시각:1700, 하늘 상태: 맑음\n",
      "* 시각:1200, 기온: 18[`C]\n",
      "* 시각:1300, 기온: 19[`C]\n",
      "* 시각:1400, 기온: 19[`C]\n",
      "* 시각:1500, 기온: 19[`C]\n",
      "* 시각:1600, 기온: 18[`C]\n",
      "* 시각:1700, 기온: 17[`C]\n"
     ]
    }
   ],
   "source": [
    "import datetime\n",
    "now = datetime.datetime.now()\n",
    "date=\"{:%Y%m%d}\".format(now)\n",
    "time=\"{:%H00}\".format(now)\n",
    "if(now.minute >= 30):\n",
    "    time=\"{0}00\".format(now.hour)\n",
    "else:\n",
    "    time=\"{0}00\".format(now.hour-1)\n",
    "\n",
    "req_url=\"http://apis.data.go.kr/1360000/VilageFcstInfoService_2.0/getUltraSrtFcst\"\n",
    "\n",
    "baseDate=date\n",
    "baseTime=time\n",
    "\n",
    "nx_val=61\n",
    "ny_val=125\n",
    "\n",
    "num_of_rows=30\n",
    "page_no=1\n",
    "\n",
    "output_type=\"JSON\"\n",
    "req_parameter={\"ServiceKey\":API_KEY_decode,\n",
    "               \"nx\":nx_val, \"ny\":ny_val,\n",
    "               \"base_date\":baseDate, \"base_time\":baseTime,\n",
    "               \"pageNo\":page_no, \"numOfRows\":num_of_rows, \"dataType\":output_type}\n",
    "r=requests.get(req_url, params=req_parameter)\n",
    "\n",
    "dict_data=r.json()\n",
    "\n",
    "weather_items=dict_data['response']['body']['items']['item']\n",
    "\n",
    "\n",
    "print(\"[발표 날짜: {}]\".format(weather_items[0]['baseDate']))\n",
    "print(\"[발표 시간: {}]\".format(weather_items[0]['baseTime']))\n",
    "\n",
    "sky_cond=[\"맑음\", \"구름 조금\", \"구름 많음\", \"흐림\"]\n",
    "rain_type=[\"없음\",\"비\",\"비/눈\",\"눈\",\"소나기\",\"빗방울\",\"빗방울/눈날림\",\"눈날림\"]\n",
    "\n",
    "print(\"[초단기 일기 예보]\")\n",
    "\n",
    "for k in range(len(weather_items)):\n",
    "    weather_item=weather_items[k]\n",
    "    #print(weather_item)\n",
    "    \n",
    "    fcstTime=weather_item['fcstTime']\n",
    "    fcstValue=weather_item['fcstValue']\n",
    "    \n",
    "    if(weather_item['category']=='T1H'):\n",
    "        print(\"* 시각:{0}, 기온: {1}[`C]\".format(fcstTime, fcstValue))\n",
    "    elif(weather_item['category']=='REH'):\n",
    "        print(\"* 시각:{0}, 습도: {1}[%]\".format(fcstTime, fcstValue))\n",
    "    elif(weather_item['category']=='RN1'):\n",
    "        print(\"* 시각:{0}, 1시간 강수량: {1}[mm]\".format(fcstTime, fcstValue))\n",
    "    elif(weather_item['category']=='SKY'):\n",
    "        print(\"* 시각:{0}, 하늘 상태: {1}\".format(fcstTime, sky_cond[int(fcstValue)-1]))\n",
    "    elif(weather_item['category']=='PTY'):\n",
    "        print(\"* 시각:{0}, 강수 형태: {1}\".format(fcstTime, rain_type[int(fcstValue)]))\n"
   ]
  },
  {
   "cell_type": "code",
   "execution_count": 93,
   "id": "3a9f48fc-6e0f-44b9-8e33-fd6796c629f6",
   "metadata": {},
   "outputs": [
    {
     "data": {
      "text/plain": [
       "''"
      ]
     },
     "execution_count": 93,
     "metadata": {},
     "output_type": "execute_result"
    }
   ],
   "source": [
    "API_KEY = ''\n",
    "API_KEY_decode = requests.utils.unquote(API_KEY)\n",
    "API_KEY_decode"
   ]
  },
  {
   "cell_type": "code",
   "execution_count": 74,
   "id": "dd60af92-879a-495a-a0fe-d2690a40f94c",
   "metadata": {},
   "outputs": [
    {
     "data": {
      "text/plain": [
       "1"
      ]
     },
     "execution_count": 74,
     "metadata": {},
     "output_type": "execute_result"
    }
   ],
   "source": [
    "req_url = 'http://apis.data.go.kr/B552584/MsrstnInfoInqireSvc/getTMStdrCrdnt'\n",
    "\n",
    "umd_name = '역촌동'\n",
    "num_of_rows = 10\n",
    "page_no = 1\n",
    "output_type = 'json'\n",
    "req_parameter = {'ServiceKey':API_KEY_decode, 'umdName':umd_name,\n",
    "                'pageNo':page_no, 'numOfRows':num_of_rows,\n",
    "                'returnType':output_type}\n",
    "dict_data = requests.get(req_url, params = req_parameter).json()\n",
    "dict_data['response']['body']['totalCount']"
   ]
  },
  {
   "cell_type": "code",
   "execution_count": 75,
   "id": "c744ba72-502a-4d2f-8708-f948bd84fc52",
   "metadata": {},
   "outputs": [
    {
     "name": "stdout",
     "output_type": "stream",
     "text": [
      "[입력한 읍/면/동명] 역촌동\n",
      "[TM 기준 좌표 조회 결과]\n",
      "- 위치: 서울특별시 은평구 역촌동\n",
      "- k = 0, TM 좌표(X, Y): 192391.650862, 455809.34494\n",
      "\n"
     ]
    }
   ],
   "source": [
    "print('[입력한 읍/면/동명]', umd_name)\n",
    "print('[TM 기준 좌표 조회 결과]')\n",
    "\n",
    "for k in range(dict_data['response']['body']['totalCount']):\n",
    "    sido = dict_data['response']['body']['items'][k]['sidoName']\n",
    "    sgg = dict_data['response']['body']['items'][k]['sggName']\n",
    "    umd = dict_data['response']['body']['items'][k]['umdName']\n",
    "    tmX = dict_data['response']['body']['items'][k]['tmX']\n",
    "    tmY = dict_data['response']['body']['items'][k]['tmY']\n",
    "\n",
    "    print('- 위치: {0} {1} {2}'.format(sido, sgg, umd))\n",
    "    print('- k = {0}, TM 좌표(X, Y): {1}, {2}\\n'.format(k, tmX, tmY))"
   ]
  },
  {
   "cell_type": "code",
   "execution_count": 76,
   "id": "ff87836a-d281-46d9-a5bc-55193b5e8649",
   "metadata": {},
   "outputs": [
    {
     "name": "stdout",
     "output_type": "stream",
     "text": [
      "192391.650862 455809.34494\n"
     ]
    }
   ],
   "source": [
    "k = 0\n",
    "TM_X = dict_data['response']['body']['items'][k]['tmX']\n",
    "TM_Y = dict_data['response']['body']['items'][k]['tmY']\n",
    "print(TM_X, TM_Y)"
   ]
  },
  {
   "cell_type": "code",
   "execution_count": 77,
   "id": "e2e116ce-4ee3-4ac0-b702-c7c229840598",
   "metadata": {},
   "outputs": [
    {
     "data": {
      "text/plain": [
       "{'response': {'body': {'totalCount': 3,\n",
       "   'items': [{'tm': 1.8,\n",
       "     'addr': '서울 은평구 진흥로 215 (한국환경산업기술원 온실동2층 )',\n",
       "     'stationName': '은평구'},\n",
       "    {'tm': 3, 'addr': '서울 서대문구 세검정로4길 32(홍제3동 주민센터) ', 'stationName': '서대문구'},\n",
       "    {'tm': 5.2, 'addr': '서울 마포구 포은로 6길 10 망원1동주민센터 옥상', 'stationName': '마포구'}],\n",
       "   'pageNo': 1,\n",
       "   'numOfRows': 10},\n",
       "  'header': {'resultMsg': 'NORMAL_CODE', 'resultCode': '00'}}}"
      ]
     },
     "execution_count": 77,
     "metadata": {},
     "output_type": "execute_result"
    }
   ],
   "source": [
    "req_url = 'http://apis.data.go.kr/B552584/MsrstnInfoInqireSvc/getNearbyMsrstnList'\n",
    "\n",
    "x_value = TM_X\n",
    "y_value = TM_Y\n",
    "output_type = 'json'\n",
    "req_parameter = {'ServiceKey':API_KEY_decode,\n",
    "                 'tmX':x_value, 'tmY':y_value,\n",
    "                'returnType':output_type}\n",
    "\n",
    "dict_data = requests.get(req_url, params=req_parameter).json()\n",
    "dict_data\n",
    "#print('해당지역 근처의 측정소 개수: ', dict_data['response']['body']['totalCount'])"
   ]
  },
  {
   "cell_type": "code",
   "execution_count": 55,
   "id": "e81b4289-fa90-441c-819f-36a95f1b91cb",
   "metadata": {},
   "outputs": [
    {
     "name": "stdout",
     "output_type": "stream",
     "text": [
      "[측정소 정보]\n",
      "- 측정소 이름:도산대로, 거리:1.4[km]\n",
      "- 측정소 주소:서울 강남구 도산대로 104 신사역2번출구 앞 \n",
      "\n",
      "- 측정소 이름:강남구, 거리:1.4[km]\n",
      "- 측정소 주소:서울 강남구 학동로 426 강남구청 별관 1동 \n",
      "\n",
      "- 측정소 이름:강남대로, 거리:3.1[km]\n",
      "- 측정소 주소:서울특별시 서초구 강남대로 201 서초구민회관 앞 중앙차로 (양재동) \n",
      "\n"
     ]
    }
   ],
   "source": [
    "print(\"[측정소 정보]\")\n",
    "\n",
    "for k in range(dict_data['response']['body']['totalCount']):\n",
    "    \n",
    "    stationName = dict_data['response']['body']['items'][k]['stationName']\n",
    "    ditance = dict_data['response']['body']['items'][k]['tm']\n",
    "    addr = dict_data['response']['body']['items'][k]['addr']\n",
    "    \n",
    "    print(\"- 측정소 이름:{0}, 거리:{1}[km]\".format(stationName, ditance))\n",
    "    print(\"- 측정소 주소:{0} \\n\".format(addr))"
   ]
  },
  {
   "cell_type": "code",
   "execution_count": 72,
   "id": "4f941b91-6609-4120-b146-5f4fb674ea19",
   "metadata": {},
   "outputs": [
    {
     "name": "stdout",
     "output_type": "stream",
     "text": [
      "--------------------------------------------------\n",
      "[측정소(강남대로)에서 측정된 대기 오염 상태\n",
      "- 측정 시간:2023-10-16 11:00\n",
      "- [지수]아황산가스:좋음, 일산화탄소:좋음, 오존:좋음, 이산화질소:좋음\n",
      "- [등급] 미세 먼지:보통, 초미세 먼지:좋음\n"
     ]
    }
   ],
   "source": [
    "req_url = \"http://apis.data.go.kr/B552584/ArpltnInforInqireSvc/getMsrstnAcctoRltmMesureDnsty\"\n",
    "station_name = '강남대로'\n",
    "data_term = 'DAILY'\n",
    "num_of_rows = 10\n",
    "page_no = 1\n",
    "version = 1.3\n",
    "output_type = 'json'\n",
    "req_parameter = {'serviceKey':API_KEY_decode,\n",
    "                 'stationName':station_name,\n",
    "                 'dataTerm':data_term, 'ver':version,\n",
    "                 'pageNo':page_no, 'numOfRows':num_of_rows,\n",
    "                 'returnType':output_type}\n",
    "dict_data = requests.get(req_url, params=req_parameter).json()\n",
    "#dict_data\n",
    "\n",
    "print('--------------------------------------------------')\n",
    "dataTime = dict_data['response']['body']['items'][0]['dataTime']\n",
    "so2Grade = dict_data['response']['body']['items'][0]['so2Grade']\n",
    "coGrade = dict_data['response']['body']['items'][0]['coGrade']\n",
    "o3Grade = dict_data['response']['body']['items'][0]['o3Grade']\n",
    "no2Grade = dict_data['response']['body']['items'][0]['no2Grade']\n",
    "pm10Grade1h = dict_data['response']['body']['items'][0]['pm10Grade1h']\n",
    "pm25Grade1h = dict_data['response']['body']['items'][0]['pm25Grade1h']\n",
    "gradeNum2Str = {'':'정보없음', '1':'좋음', '2':'보통', '3':'나쁨', '4':'매우나쁨'}\n",
    "\n",
    "print('[측정소({0})에서 측정된 대기 오염 상태'.format(station_name))\n",
    "print('- 측정 시간:{0}'.format(dataTime))\n",
    "print('- [지수]', end = '')\n",
    "print('아황산가스:{0}, 일산화탄소:{1}, 오존:{2}, 이산화질소:{3}'\n",
    "      .format(gradeNum2Str[so2Grade], gradeNum2Str[coGrade], gradeNum2Str[o3Grade], gradeNum2Str[no2Grade]))\n",
    "print('- [등급] ', end = '')\n",
    "print('미세 먼지:{0}, 초미세 먼지:{1}'.format(gradeNum2Str[pm10Grade1h], gradeNum2Str[pm25Grade1h]))"
   ]
  },
  {
   "cell_type": "code",
   "execution_count": 68,
   "id": "57262d47-2430-4959-9341-f56ca592f078",
   "metadata": {},
   "outputs": [
    {
     "name": "stdout",
     "output_type": "stream",
     "text": [
      "[측정소(강남대로)에서 측정된 대기 오염 상태\n",
      "- 측정 시간:2023-10-16 10:00\n",
      "- [지수]아황산가스:1, 일산화탄소:1, 오존:1, 이산화질소:1\n",
      "- [등급] 미세 먼지:2, 초미세 먼지:2\n"
     ]
    }
   ],
   "source": [
    "dataTime = dict_data['response']['body']['items'][0]['dataTime']\n",
    "so2Grade = dict_data['response']['body']['items'][0]['so2Grade']\n",
    "coGrade = dict_data['response']['body']['items'][0]['coGrade']\n",
    "o3Grade = dict_data['response']['body']['items'][0]['o3Grade']\n",
    "no2Grade = dict_data['response']['body']['items'][0]['no2Grade']\n",
    "pm10Grade1h = dict_data['response']['body']['items'][0]['pm10Grade1h']\n",
    "pm25Grade1h = dict_data['response']['body']['items'][0]['pm25Grade1h']\n",
    "gradeNum2Str = {'':'정보없음', '1':'좋음', '2':'보통', '3':'나쁨', '4':'매우나쁨'}\n",
    "\n",
    "print('[측정소({0})에서 측정된 대기 오염 상태'.format(station_name))\n",
    "print('- 측정 시간:{0}'.format(dataTime))\n",
    "print('- [지수]', end = '')\n",
    "print('아황산가스:{0}, 일산화탄소:{1}, 오존:{2}, 이산화질소:{3}'\n",
    "      .format(gradeNum2Str[so2Grade], gradeNum2Str[coGrade], gradeNum2Str[o3Grade], gradeNum2Str[no2Grade]))\n",
    "print('- [등급] ', end = '')\n",
    "print('미세 먼지:{0}, 초미세 먼지:{1}'.format(gradeNum2Str[pm10Grade1h], gradeNum2Str[pm25Grade1h]))"
   ]
  },
  {
   "cell_type": "code",
   "execution_count": null,
   "id": "fca8f708-d122-43ea-ac55-30bd6f8af32d",
   "metadata": {},
   "outputs": [],
   "source": []
  }
 ],
 "metadata": {
  "kernelspec": {
   "display_name": "Python 3 (ipykernel)",
   "language": "python",
   "name": "python3"
  },
  "language_info": {
   "codemirror_mode": {
    "name": "ipython",
    "version": 3
   },
   "file_extension": ".py",
   "mimetype": "text/x-python",
   "name": "python",
   "nbconvert_exporter": "python",
   "pygments_lexer": "ipython3",
   "version": "3.11.6"
  }
 },
 "nbformat": 4,
 "nbformat_minor": 5
}
